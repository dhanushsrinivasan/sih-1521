{
 "cells": [
  {
   "cell_type": "code",
   "execution_count": 1,
   "id": "a0308cf6",
   "metadata": {},
   "outputs": [
    {
     "name": "stdout",
     "output_type": "stream",
     "text": [
      "Defaulting to user installation because normal site-packages is not writeable\n",
      "Requirement already satisfied: numpy in c:\\users\\rkast\\appdata\\roaming\\python\\python311\\site-packages (1.26.2)\n",
      "Requirement already satisfied: pandas in c:\\users\\rkast\\appdata\\roaming\\python\\python311\\site-packages (2.1.4)\n",
      "Requirement already satisfied: h5py in c:\\users\\rkast\\appdata\\roaming\\python\\python311\\site-packages (3.10.0)\n",
      "Requirement already satisfied: netCDF4 in c:\\users\\rkast\\appdata\\roaming\\python\\python311\\site-packages (1.6.5)\n",
      "Requirement already satisfied: xgboost in c:\\users\\rkast\\appdata\\roaming\\python\\python311\\site-packages (2.0.2)\n",
      "Requirement already satisfied: shap in c:\\users\\rkast\\appdata\\roaming\\python\\python311\\site-packages (0.44.0)\n",
      "Requirement already satisfied: matplotlib in c:\\users\\rkast\\appdata\\roaming\\python\\python311\\site-packages (3.8.2)\n",
      "Requirement already satisfied: python-dateutil>=2.8.2 in c:\\users\\rkast\\appdata\\roaming\\python\\python311\\site-packages (from pandas) (2.8.2)\n",
      "Requirement already satisfied: pytz>=2020.1 in c:\\users\\rkast\\appdata\\roaming\\python\\python311\\site-packages (from pandas) (2023.3.post1)\n",
      "Requirement already satisfied: tzdata>=2022.1 in c:\\users\\rkast\\appdata\\roaming\\python\\python311\\site-packages (from pandas) (2023.3)\n",
      "Requirement already satisfied: cftime in c:\\users\\rkast\\appdata\\roaming\\python\\python311\\site-packages (from netCDF4) (1.6.3)\n",
      "Requirement already satisfied: certifi in c:\\users\\rkast\\appdata\\roaming\\python\\python311\\site-packages (from netCDF4) (2023.11.17)\n",
      "Requirement already satisfied: scipy in c:\\users\\rkast\\appdata\\roaming\\python\\python311\\site-packages (from xgboost) (1.11.4)\n",
      "Requirement already satisfied: scikit-learn in c:\\users\\rkast\\appdata\\roaming\\python\\python311\\site-packages (from shap) (1.3.2)\n",
      "Requirement already satisfied: tqdm>=4.27.0 in c:\\users\\rkast\\appdata\\roaming\\python\\python311\\site-packages (from shap) (4.66.1)\n",
      "Requirement already satisfied: packaging>20.9 in c:\\users\\rkast\\appdata\\roaming\\python\\python311\\site-packages (from shap) (23.2)\n",
      "Requirement already satisfied: slicer==0.0.7 in c:\\users\\rkast\\appdata\\roaming\\python\\python311\\site-packages (from shap) (0.0.7)\n",
      "Requirement already satisfied: numba in c:\\users\\rkast\\appdata\\roaming\\python\\python311\\site-packages (from shap) (0.58.1)\n",
      "Requirement already satisfied: cloudpickle in c:\\users\\rkast\\appdata\\roaming\\python\\python311\\site-packages (from shap) (3.0.0)\n",
      "Requirement already satisfied: contourpy>=1.0.1 in c:\\users\\rkast\\appdata\\roaming\\python\\python311\\site-packages (from matplotlib) (1.2.0)\n",
      "Requirement already satisfied: cycler>=0.10 in c:\\users\\rkast\\appdata\\roaming\\python\\python311\\site-packages (from matplotlib) (0.12.1)\n",
      "Requirement already satisfied: fonttools>=4.22.0 in c:\\users\\rkast\\appdata\\roaming\\python\\python311\\site-packages (from matplotlib) (4.46.0)\n",
      "Requirement already satisfied: kiwisolver>=1.3.1 in c:\\users\\rkast\\appdata\\roaming\\python\\python311\\site-packages (from matplotlib) (1.4.5)\n",
      "Requirement already satisfied: pillow>=8 in c:\\users\\rkast\\appdata\\roaming\\python\\python311\\site-packages (from matplotlib) (10.1.0)\n",
      "Requirement already satisfied: pyparsing>=2.3.1 in c:\\users\\rkast\\appdata\\roaming\\python\\python311\\site-packages (from matplotlib) (3.1.1)\n",
      "Requirement already satisfied: six>=1.5 in c:\\users\\rkast\\appdata\\roaming\\python\\python311\\site-packages (from python-dateutil>=2.8.2->pandas) (1.16.0)\n",
      "Requirement already satisfied: colorama in c:\\users\\rkast\\appdata\\roaming\\python\\python311\\site-packages (from tqdm>=4.27.0->shap) (0.4.6)\n",
      "Requirement already satisfied: llvmlite<0.42,>=0.41.0dev0 in c:\\users\\rkast\\appdata\\roaming\\python\\python311\\site-packages (from numba->shap) (0.41.1)\n",
      "Requirement already satisfied: joblib>=1.1.1 in c:\\users\\rkast\\appdata\\roaming\\python\\python311\\site-packages (from scikit-learn->shap) (1.3.2)\n",
      "Requirement already satisfied: threadpoolctl>=2.0.0 in c:\\users\\rkast\\appdata\\roaming\\python\\python311\\site-packages (from scikit-learn->shap) (3.2.0)\n",
      "Note: you may need to restart the kernel to use updated packages.\n"
     ]
    },
    {
     "name": "stderr",
     "output_type": "stream",
     "text": [
      "\n",
      "[notice] A new release of pip is available: 23.3.1 -> 23.3.2\n",
      "[notice] To update, run: python.exe -m pip install --upgrade pip\n"
     ]
    }
   ],
   "source": [
    "%pip install numpy pandas h5py netCDF4 xgboost shap matplotlib"
   ]
  },
  {
   "cell_type": "code",
   "execution_count": 2,
   "id": "e04fb8e3",
   "metadata": {},
   "outputs": [
    {
     "name": "stdout",
     "output_type": "stream",
     "text": [
      "Requirement already satisfied: numpy in c:\\users\\rkast\\appdata\\roaming\\python\\python311\\site-packages (1.26.2)\n",
      "Note: you may need to restart the kernel to use updated packages.\n"
     ]
    },
    {
     "name": "stderr",
     "output_type": "stream",
     "text": [
      "\n",
      "[notice] A new release of pip is available: 23.3.1 -> 23.3.2\n",
      "[notice] To update, run: python.exe -m pip install --upgrade pip\n"
     ]
    }
   ],
   "source": [
    "%pip install --upgrade --user numpy\n"
   ]
  },
  {
   "cell_type": "code",
   "execution_count": 3,
   "id": "f99fd66b",
   "metadata": {},
   "outputs": [
    {
     "name": "stdout",
     "output_type": "stream",
     "text": [
      "Defaulting to user installation because normal site-packages is not writeable\n",
      "Requirement already satisfied: netCDF4 in c:\\users\\rkast\\appdata\\roaming\\python\\python311\\site-packages (1.6.5)\n",
      "Requirement already satisfied: cftime in c:\\users\\rkast\\appdata\\roaming\\python\\python311\\site-packages (from netCDF4) (1.6.3)\n",
      "Requirement already satisfied: certifi in c:\\users\\rkast\\appdata\\roaming\\python\\python311\\site-packages (from netCDF4) (2023.11.17)\n",
      "Requirement already satisfied: numpy in c:\\users\\rkast\\appdata\\roaming\\python\\python311\\site-packages (from netCDF4) (1.26.2)\n",
      "Note: you may need to restart the kernel to use updated packages.\n"
     ]
    },
    {
     "name": "stderr",
     "output_type": "stream",
     "text": [
      "\n",
      "[notice] A new release of pip is available: 23.3.1 -> 23.3.2\n",
      "[notice] To update, run: python.exe -m pip install --upgrade pip\n"
     ]
    }
   ],
   "source": [
    "%pip install --upgrade netCDF4\n"
   ]
  },
  {
   "cell_type": "code",
   "execution_count": 16,
   "id": "4b0c4302",
   "metadata": {},
   "outputs": [
    {
     "name": "stdout",
     "output_type": "stream",
     "text": [
      "Collecting numpy==1.22.0\n",
      "  Using cached numpy-1.22.0.zip (11.3 MB)\n",
      "  Installing build dependencies: started\n",
      "  Installing build dependencies: finished with status 'done'\n",
      "  Getting requirements to build wheel: started\n",
      "  Getting requirements to build wheel: finished with status 'done'\n",
      "  Preparing metadata (pyproject.toml): started\n",
      "  Preparing metadata (pyproject.toml): finished with status 'done'\n",
      "Building wheels for collected packages: numpy\n",
      "  Building wheel for numpy (pyproject.toml): started\n",
      "  Building wheel for numpy (pyproject.toml): finished with status 'error'\n",
      "Failed to build numpy\n",
      "Note: you may need to restart the kernel to use updated packages.\n"
     ]
    },
    {
     "name": "stderr",
     "output_type": "stream",
     "text": [
      "  error: subprocess-exited-with-error\n",
      "  \n",
      "  × Building wheel for numpy (pyproject.toml) did not run successfully.\n",
      "  │ exit code: 1\n",
      "  ╰─> [202 lines of output]\n",
      "      setup.py:66: RuntimeWarning: NumPy 1.22.0 may not yet support Python 3.11.\n",
      "        warnings.warn(\n",
      "      Running from numpy source directory.\n",
      "      Cythonizing sources\n",
      "      Processing numpy/random\\_bounded_integers.pxd.in\n",
      "      Processing numpy/random\\bit_generator.pyx\n",
      "      Processing numpy/random\\mtrand.pyx\n",
      "      Processing numpy/random\\_bounded_integers.pyx.in\n",
      "      Processing numpy/random\\_common.pyx\n",
      "      Processing numpy/random\\_generator.pyx\n",
      "      Processing numpy/random\\_mt19937.pyx\n",
      "      Processing numpy/random\\_pcg64.pyx\n",
      "      Processing numpy/random\\_philox.pyx\n",
      "      Processing numpy/random\\_sfc64.pyx\n",
      "      INFO: blas_opt_info:\n",
      "      INFO: blas_armpl_info:\n",
      "      INFO: No module named 'numpy.distutils._msvccompiler' in numpy.distutils; trying from distutils\n",
      "      INFO: customize MSVCCompiler\n",
      "      INFO:   libraries armpl_lp64_mp not found in ['c:\\\\Program Files\\\\Python311\\\\lib', 'C:\\\\', 'c:\\\\Program Files\\\\Python311\\\\libs']\n",
      "      INFO:   NOT AVAILABLE\n",
      "      INFO:\n",
      "      INFO: blas_mkl_info:\n",
      "      INFO:   libraries mkl_rt not found in ['c:\\\\Program Files\\\\Python311\\\\lib', 'C:\\\\', 'c:\\\\Program Files\\\\Python311\\\\libs']\n",
      "      INFO:   NOT AVAILABLE\n",
      "      INFO:\n",
      "      INFO: blis_info:\n",
      "      INFO:   libraries blis not found in ['c:\\\\Program Files\\\\Python311\\\\lib', 'C:\\\\', 'c:\\\\Program Files\\\\Python311\\\\libs']\n",
      "      INFO:   NOT AVAILABLE\n",
      "      INFO:\n",
      "      INFO: openblas_info:\n",
      "      INFO:   libraries openblas not found in ['c:\\\\Program Files\\\\Python311\\\\lib', 'C:\\\\', 'c:\\\\Program Files\\\\Python311\\\\libs']\n",
      "      INFO: get_default_fcompiler: matching types: '['gnu', 'intelv', 'absoft', 'compaqv', 'intelev', 'gnu95', 'g95', 'intelvem', 'intelem', 'flang']'\n",
      "      INFO: customize GnuFCompiler\n",
      "      WARN: Could not locate executable g77\n",
      "      WARN: Could not locate executable f77\n",
      "      INFO: customize IntelVisualFCompiler\n",
      "      WARN: Could not locate executable ifort\n",
      "      WARN: Could not locate executable ifl\n",
      "      INFO: customize AbsoftFCompiler\n",
      "      WARN: Could not locate executable f90\n",
      "      INFO: customize CompaqVisualFCompiler\n",
      "      WARN: Could not locate executable DF\n",
      "      INFO: customize IntelItaniumVisualFCompiler\n",
      "      WARN: Could not locate executable efl\n",
      "      INFO: customize Gnu95FCompiler\n",
      "      WARN: Could not locate executable gfortran\n",
      "      WARN: Could not locate executable f95\n",
      "      INFO: customize G95FCompiler\n",
      "      WARN: Could not locate executable g95\n",
      "      INFO: customize IntelEM64VisualFCompiler\n",
      "      INFO: customize IntelEM64TFCompiler\n",
      "      WARN: Could not locate executable efort\n",
      "      WARN: Could not locate executable efc\n",
      "      INFO: customize PGroupFlangCompiler\n",
      "      WARN: Could not locate executable flang\n",
      "      WARN: don't know how to compile Fortran code on platform 'nt'\n",
      "      INFO:   NOT AVAILABLE\n",
      "      INFO:\n",
      "      INFO: accelerate_info:\n",
      "      INFO:   NOT AVAILABLE\n",
      "      INFO:\n",
      "      INFO: atlas_3_10_blas_threads_info:\n",
      "      INFO: Setting PTATLAS=ATLAS\n",
      "      INFO:   libraries tatlas not found in ['c:\\\\Program Files\\\\Python311\\\\lib', 'C:\\\\', 'c:\\\\Program Files\\\\Python311\\\\libs']\n",
      "      INFO:   NOT AVAILABLE\n",
      "      INFO:\n",
      "      INFO: atlas_3_10_blas_info:\n",
      "      INFO:   libraries satlas not found in ['c:\\\\Program Files\\\\Python311\\\\lib', 'C:\\\\', 'c:\\\\Program Files\\\\Python311\\\\libs']\n",
      "      INFO:   NOT AVAILABLE\n",
      "      INFO:\n",
      "      INFO: atlas_blas_threads_info:\n",
      "      INFO: Setting PTATLAS=ATLAS\n",
      "      INFO:   libraries ptf77blas,ptcblas,atlas not found in ['c:\\\\Program Files\\\\Python311\\\\lib', 'C:\\\\', 'c:\\\\Program Files\\\\Python311\\\\libs']\n",
      "      INFO:   NOT AVAILABLE\n",
      "      INFO:\n",
      "      INFO: atlas_blas_info:\n",
      "      INFO:   libraries f77blas,cblas,atlas not found in ['c:\\\\Program Files\\\\Python311\\\\lib', 'C:\\\\', 'c:\\\\Program Files\\\\Python311\\\\libs']\n",
      "      INFO:   NOT AVAILABLE\n",
      "      INFO:\n",
      "      C:\\Users\\rkast\\AppData\\Local\\Temp\\pip-install-yftv9rxg\\numpy_f660ae712814481c9353d0d93c6a4b6f\\numpy\\distutils\\system_info.py:2077: UserWarning:\n",
      "          Optimized (vendor) Blas libraries are not found.\n",
      "          Falls back to netlib Blas library which has worse performance.\n",
      "          A better performance should be easily gained by switching\n",
      "          Blas library.\n",
      "        if self._calc_info(blas):\n",
      "      INFO: blas_info:\n",
      "      INFO:   libraries blas not found in ['c:\\\\Program Files\\\\Python311\\\\lib', 'C:\\\\', 'c:\\\\Program Files\\\\Python311\\\\libs']\n",
      "      INFO:   NOT AVAILABLE\n",
      "      INFO:\n",
      "      C:\\Users\\rkast\\AppData\\Local\\Temp\\pip-install-yftv9rxg\\numpy_f660ae712814481c9353d0d93c6a4b6f\\numpy\\distutils\\system_info.py:2077: UserWarning:\n",
      "          Blas (http://www.netlib.org/blas/) libraries not found.\n",
      "          Directories to search for the libraries can be specified in the\n",
      "          numpy/distutils/site.cfg file (section [blas]) or by setting\n",
      "          the BLAS environment variable.\n",
      "        if self._calc_info(blas):\n",
      "      INFO: blas_src_info:\n",
      "      INFO:   NOT AVAILABLE\n",
      "      INFO:\n",
      "      C:\\Users\\rkast\\AppData\\Local\\Temp\\pip-install-yftv9rxg\\numpy_f660ae712814481c9353d0d93c6a4b6f\\numpy\\distutils\\system_info.py:2077: UserWarning:\n",
      "          Blas (http://www.netlib.org/blas/) sources not found.\n",
      "          Directories to search for the sources can be specified in the\n",
      "          numpy/distutils/site.cfg file (section [blas_src]) or by setting\n",
      "          the BLAS_SRC environment variable.\n",
      "        if self._calc_info(blas):\n",
      "      INFO:   NOT AVAILABLE\n",
      "      INFO:\n",
      "      non-existing path in 'numpy\\\\distutils': 'site.cfg'\n",
      "      INFO: lapack_opt_info:\n",
      "      INFO: lapack_armpl_info:\n",
      "      INFO:   libraries armpl_lp64_mp not found in ['c:\\\\Program Files\\\\Python311\\\\lib', 'C:\\\\', 'c:\\\\Program Files\\\\Python311\\\\libs']\n",
      "      INFO:   NOT AVAILABLE\n",
      "      INFO:\n",
      "      INFO: lapack_mkl_info:\n",
      "      INFO:   libraries mkl_rt not found in ['c:\\\\Program Files\\\\Python311\\\\lib', 'C:\\\\', 'c:\\\\Program Files\\\\Python311\\\\libs']\n",
      "      INFO:   NOT AVAILABLE\n",
      "      INFO:\n",
      "      INFO: openblas_lapack_info:\n",
      "      INFO:   libraries openblas not found in ['c:\\\\Program Files\\\\Python311\\\\lib', 'C:\\\\', 'c:\\\\Program Files\\\\Python311\\\\libs']\n",
      "      INFO:   NOT AVAILABLE\n",
      "      INFO:\n",
      "      INFO: openblas_clapack_info:\n",
      "      INFO:   libraries openblas,lapack not found in ['c:\\\\Program Files\\\\Python311\\\\lib', 'C:\\\\', 'c:\\\\Program Files\\\\Python311\\\\libs']\n",
      "      INFO:   NOT AVAILABLE\n",
      "      INFO:\n",
      "      INFO: flame_info:\n",
      "      INFO:   libraries flame not found in ['c:\\\\Program Files\\\\Python311\\\\lib', 'C:\\\\', 'c:\\\\Program Files\\\\Python311\\\\libs']\n",
      "      INFO:   NOT AVAILABLE\n",
      "      INFO:\n",
      "      INFO: atlas_3_10_threads_info:\n",
      "      INFO: Setting PTATLAS=ATLAS\n",
      "      INFO:   libraries tatlas,tatlas not found in c:\\Program Files\\Python311\\lib\n",
      "      INFO:   libraries tatlas,tatlas not found in C:\\\n",
      "      INFO:   libraries tatlas,tatlas not found in c:\\Program Files\\Python311\\libs\n",
      "      INFO: <class 'numpy.distutils.system_info.atlas_3_10_threads_info'>\n",
      "      INFO:   NOT AVAILABLE\n",
      "      INFO:\n",
      "      INFO: atlas_3_10_info:\n",
      "      INFO:   libraries satlas,satlas not found in c:\\Program Files\\Python311\\lib\n",
      "      INFO:   libraries satlas,satlas not found in C:\\\n",
      "      INFO:   libraries satlas,satlas not found in c:\\Program Files\\Python311\\libs\n",
      "      INFO: <class 'numpy.distutils.system_info.atlas_3_10_info'>\n",
      "      INFO:   NOT AVAILABLE\n",
      "      INFO:\n",
      "      INFO: atlas_threads_info:\n",
      "      INFO: Setting PTATLAS=ATLAS\n",
      "      INFO:   libraries ptf77blas,ptcblas,atlas not found in c:\\Program Files\\Python311\\lib\n",
      "      INFO:   libraries ptf77blas,ptcblas,atlas not found in C:\\\n",
      "      INFO:   libraries ptf77blas,ptcblas,atlas not found in c:\\Program Files\\Python311\\libs\n",
      "      INFO: <class 'numpy.distutils.system_info.atlas_threads_info'>\n",
      "      INFO:   NOT AVAILABLE\n",
      "      INFO:\n",
      "      INFO: atlas_info:\n",
      "      INFO:   libraries f77blas,cblas,atlas not found in c:\\Program Files\\Python311\\lib\n",
      "      INFO:   libraries f77blas,cblas,atlas not found in C:\\\n",
      "      INFO:   libraries f77blas,cblas,atlas not found in c:\\Program Files\\Python311\\libs\n",
      "      INFO: <class 'numpy.distutils.system_info.atlas_info'>\n",
      "      INFO:   NOT AVAILABLE\n",
      "      INFO:\n",
      "      INFO: lapack_info:\n",
      "      INFO:   libraries lapack not found in ['c:\\\\Program Files\\\\Python311\\\\lib', 'C:\\\\', 'c:\\\\Program Files\\\\Python311\\\\libs']\n",
      "      INFO:   NOT AVAILABLE\n",
      "      INFO:\n",
      "      C:\\Users\\rkast\\AppData\\Local\\Temp\\pip-install-yftv9rxg\\numpy_f660ae712814481c9353d0d93c6a4b6f\\numpy\\distutils\\system_info.py:1902: UserWarning:\n",
      "          Lapack (http://www.netlib.org/lapack/) libraries not found.\n",
      "          Directories to search for the libraries can be specified in the\n",
      "          numpy/distutils/site.cfg file (section [lapack]) or by setting\n",
      "          the LAPACK environment variable.\n",
      "        return getattr(self, '_calc_info_{}'.format(name))()\n",
      "      INFO: lapack_src_info:\n",
      "      INFO:   NOT AVAILABLE\n",
      "      INFO:\n",
      "      C:\\Users\\rkast\\AppData\\Local\\Temp\\pip-install-yftv9rxg\\numpy_f660ae712814481c9353d0d93c6a4b6f\\numpy\\distutils\\system_info.py:1902: UserWarning:\n",
      "          Lapack (http://www.netlib.org/lapack/) sources not found.\n",
      "          Directories to search for the sources can be specified in the\n",
      "          numpy/distutils/site.cfg file (section [lapack_src]) or by setting\n",
      "          the LAPACK_SRC environment variable.\n",
      "        return getattr(self, '_calc_info_{}'.format(name))()\n",
      "      INFO:   NOT AVAILABLE\n",
      "      INFO:\n",
      "      INFO: numpy_linalg_lapack_lite:\n",
      "      INFO:   FOUND:\n",
      "      INFO:     language = c\n",
      "      INFO:     define_macros = [('HAVE_BLAS_ILP64', None), ('BLAS_SYMBOL_SUFFIX', '64_')]\n",
      "      INFO:\n",
      "      Warning: attempted relative import with no known parent package\n",
      "      C:\\Users\\rkast\\AppData\\Local\\Temp\\pip-build-env-n4xbxda4\\overlay\\Lib\\site-packages\\setuptools\\_distutils\\dist.py:275: UserWarning: Unknown distribution option: 'define_macros'\n",
      "        warnings.warn(msg)\n",
      "      running bdist_wheel\n",
      "      running build\n",
      "      running config_cc\n",
      "      INFO: unifing config_cc, config, build_clib, build_ext, build commands --compiler options\n",
      "      running config_fc\n",
      "      INFO: unifing config_fc, config, build_clib, build_ext, build commands --fcompiler options\n",
      "      running build_src\n",
      "      INFO: build_src\n",
      "      INFO: building py_modules sources\n",
      "      creating build\n",
      "      creating build\\src.win-amd64-3.11\n",
      "      creating build\\src.win-amd64-3.11\\numpy\n",
      "      creating build\\src.win-amd64-3.11\\numpy\\distutils\n",
      "      INFO: building library \"npymath\" sources\n",
      "      error: Microsoft Visual C++ 14.0 or greater is required. Get it with \"Microsoft C++ Build Tools\": https://visualstudio.microsoft.com/visual-cpp-build-tools/\n",
      "      [end of output]\n",
      "  \n",
      "  note: This error originates from a subprocess, and is likely not a problem with pip.\n",
      "  ERROR: Failed building wheel for numpy\n",
      "ERROR: Could not build wheels for numpy, which is required to install pyproject.toml-based projects\n",
      "\n",
      "[notice] A new release of pip is available: 23.3.1 -> 23.3.2\n",
      "[notice] To update, run: python.exe -m pip install --upgrade pip\n"
     ]
    },
    {
     "name": "stdout",
     "output_type": "stream",
     "text": [
      "Note: you may need to restart the kernel to use updated packages.Defaulting to user installation because normal site-packages is not writeable\n",
      "Requirement already satisfied: scipy in c:\\users\\rkast\\appdata\\roaming\\python\\python311\\site-packages (1.11.4)\n",
      "Requirement already satisfied: numpy<1.28.0,>=1.21.6 in c:\\users\\rkast\\appdata\\roaming\\python\\python311\\site-packages (from scipy) (1.26.2)\n",
      "\n"
     ]
    },
    {
     "name": "stderr",
     "output_type": "stream",
     "text": [
      "\n",
      "[notice] A new release of pip is available: 23.3.1 -> 23.3.2\n",
      "[notice] To update, run: python.exe -m pip install --upgrade pip\n"
     ]
    },
    {
     "name": "stdout",
     "output_type": "stream",
     "text": [
      "Defaulting to user installation because normal site-packages is not writeable\n",
      "Requirement already satisfied: numba in c:\\users\\rkast\\appdata\\roaming\\python\\python311\\site-packages (0.58.1)\n",
      "Requirement already satisfied: llvmlite<0.42,>=0.41.0dev0 in c:\\users\\rkast\\appdata\\roaming\\python\\python311\\site-packages (from numba) (0.41.1)\n",
      "Requirement already satisfied: numpy<1.27,>=1.22 in c:\\users\\rkast\\appdata\\roaming\\python\\python311\\site-packages (from numba) (1.26.2)\n",
      "Note: you may need to restart the kernel to use updated packages.\n"
     ]
    },
    {
     "name": "stderr",
     "output_type": "stream",
     "text": [
      "\n",
      "[notice] A new release of pip is available: 23.3.1 -> 23.3.2\n",
      "[notice] To update, run: python.exe -m pip install --upgrade pip\n"
     ]
    }
   ],
   "source": [
    "%pip install --user numpy==1.22.0\n",
    "%pip install --upgrade scipy\n",
    "%pip install --upgrade numba\n"
   ]
  },
  {
   "cell_type": "code",
   "execution_count": 5,
   "id": "f39854c5",
   "metadata": {},
   "outputs": [
    {
     "name": "stdout",
     "output_type": "stream",
     "text": [
      "^C\n",
      "Requirement already satisfied: numba in c:\\users\\rkast\\appdata\\roaming\\python\\python311\\site-packages (0.58.1)\n",
      "Requirement already satisfied: llvmlite<0.42,>=0.41.0dev0 in c:\\users\\rkast\\appdata\\roaming\\python\\python311\\site-packages (from numba) (0.41.1)\n",
      "Requirement already satisfied: numpy<1.27,>=1.22 in c:\\users\\rkast\\appdata\\roaming\\python\\python311\\site-packages (from numba) (1.26.2)\n"
     ]
    }
   ],
   "source": [
    "%pip install --user \"llvmlite<0.39\" \"numpy<1.22\"\n",
    "%pip install --user --upgrade numba\n"
   ]
  },
  {
   "cell_type": "code",
   "execution_count": 11,
   "id": "7f5c720b",
   "metadata": {},
   "outputs": [
    {
     "name": "stdout",
     "output_type": "stream",
     "text": [
      "Requirement already satisfied: numba in c:\\users\\mvair\\appdata\\roaming\\python\\python39\\site-packages (0.58.1)\n",
      "Requirement already satisfied: llvmlite in c:\\users\\mvair\\appdata\\roaming\\python\\python39\\site-packages (0.41.1)\n",
      "Requirement already satisfied: numpy<1.27,>=1.22 in c:\\users\\mvair\\appdata\\roaming\\python\\python39\\site-packages (from numba) (1.26.2)\n",
      "Requirement already satisfied: shap in c:\\users\\mvair\\appdata\\roaming\\python\\python39\\site-packages (0.44.0)\n",
      "Requirement already satisfied: packaging>20.9 in c:\\users\\mvair\\anaconda3\\lib\\site-packages (from shap) (21.3)\n",
      "Requirement already satisfied: pandas in c:\\users\\mvair\\anaconda3\\lib\\site-packages (from shap) (1.4.2)\n",
      "Requirement already satisfied: slicer==0.0.7 in c:\\users\\mvair\\appdata\\roaming\\python\\python39\\site-packages (from shap) (0.0.7)\n",
      "Requirement already satisfied: cloudpickle in c:\\users\\mvair\\anaconda3\\lib\\site-packages (from shap) (2.0.0)\n",
      "Requirement already satisfied: tqdm>=4.27.0 in c:\\users\\mvair\\anaconda3\\lib\\site-packages (from shap) (4.64.0)\n",
      "Requirement already satisfied: numba in c:\\users\\mvair\\appdata\\roaming\\python\\python39\\site-packages (from shap) (0.58.1)\n",
      "Requirement already satisfied: scipy in c:\\users\\mvair\\anaconda3\\lib\\site-packages (from shap) (1.11.4)\n",
      "Requirement already satisfied: scikit-learn in c:\\users\\mvair\\anaconda3\\lib\\site-packages (from shap) (1.0.2)\n",
      "Requirement already satisfied: numpy in c:\\users\\mvair\\appdata\\roaming\\python\\python39\\site-packages (from shap) (1.26.2)\n",
      "Requirement already satisfied: pyparsing!=3.0.5,>=2.0.2 in c:\\users\\mvair\\anaconda3\\lib\\site-packages (from packaging>20.9->shap) (3.0.4)\n",
      "Requirement already satisfied: colorama in c:\\users\\mvair\\anaconda3\\lib\\site-packages (from tqdm>=4.27.0->shap) (0.4.4)\n",
      "Requirement already satisfied: llvmlite<0.42,>=0.41.0dev0 in c:\\users\\mvair\\appdata\\roaming\\python\\python39\\site-packages (from numba->shap) (0.41.1)\n",
      "Requirement already satisfied: python-dateutil>=2.8.1 in c:\\users\\mvair\\anaconda3\\lib\\site-packages (from pandas->shap) (2.8.2)\n",
      "Requirement already satisfied: pytz>=2020.1 in c:\\users\\mvair\\anaconda3\\lib\\site-packages (from pandas->shap) (2021.3)\n",
      "Requirement already satisfied: six>=1.5 in c:\\users\\mvair\\anaconda3\\lib\\site-packages (from python-dateutil>=2.8.1->pandas->shap) (1.16.0)\n",
      "Requirement already satisfied: threadpoolctl>=2.0.0 in c:\\users\\mvair\\anaconda3\\lib\\site-packages (from scikit-learn->shap) (2.2.0)\n",
      "Requirement already satisfied: joblib>=0.11 in c:\\users\\mvair\\anaconda3\\lib\\site-packages (from scikit-learn->shap) (1.1.0)\n"
     ]
    }
   ],
   "source": [
    "%pip install --upgrade numba llvmlite\n",
    "%pip install --upgrade shap\n"
   ]
  },
  {
   "cell_type": "code",
   "execution_count": 2,
   "id": "e4bc87f4",
   "metadata": {},
   "outputs": [
    {
     "name": "stdout",
     "output_type": "stream",
     "text": [
      "Collecting satpy\n",
      "  Downloading satpy-0.46.0.tar.gz (1.4 MB)\n",
      "  Installing build dependencies: started\n",
      "  Installing build dependencies: finished with status 'done'\n",
      "  Getting requirements to build wheel: started\n",
      "  Getting requirements to build wheel: finished with status 'done'\n",
      "    Preparing wheel metadata: started\n",
      "    Preparing wheel metadata: finished with status 'done'\n",
      "Collecting trollsift\n",
      "  Downloading trollsift-0.5.1.tar.gz (47 kB)\n",
      "Requirement already satisfied: xarray>=0.14.1 in c:\\users\\mvair\\anaconda3\\lib\\site-packages (from satpy) (0.20.1)\n",
      "Collecting zarr\n",
      "  Downloading zarr-2.16.1-py3-none-any.whl (206 kB)\n",
      "Note: you may need to restart the kernel to use updated packages.Requirement already satisfied: pyyaml>=5.1 in c:\\users\\mvair\\anaconda3\\lib\\site-packages (from satpy) (6.0)\n",
      "\n",
      "Collecting pyorbital\n",
      "  Downloading pyorbital-1.8.0.tar.gz (82 kB)\n",
      "Collecting donfig\n",
      "  Downloading donfig-0.8.1.post0-py3-none-any.whl (24 kB)\n",
      "Collecting pooch\n",
      "  Downloading pooch-1.8.0-py3-none-any.whl (62 kB)\n",
      "Collecting pykdtree\n",
      "  Downloading pykdtree-1.3.10-cp39-cp39-win_amd64.whl (59 kB)\n",
      "Collecting trollimage>=1.20\n",
      "  Downloading trollimage-1.22.2-cp39-cp39-win_amd64.whl (179 kB)\n",
      "Requirement already satisfied: packaging in c:\\users\\mvair\\anaconda3\\lib\\site-packages (from satpy) (21.3)\n",
      "Requirement already satisfied: dask[array]>=0.17.1 in c:\\users\\mvair\\anaconda3\\lib\\site-packages (from satpy) (2022.2.1)\n",
      "Requirement already satisfied: numpy>=1.21 in c:\\users\\mvair\\appdata\\roaming\\python\\python39\\site-packages (from satpy) (1.26.2)\n",
      "Requirement already satisfied: pyproj>=2.2 in c:\\users\\mvair\\anaconda3\\lib\\site-packages (from satpy) (3.3.1)\n",
      "Collecting pyresample>=1.24.0\n",
      "  Downloading pyresample-1.27.1-cp39-cp39-win_amd64.whl (2.2 MB)\n",
      "Requirement already satisfied: appdirs in c:\\users\\mvair\\anaconda3\\lib\\site-packages (from satpy) (1.4.4)\n",
      "Requirement already satisfied: pillow in c:\\users\\mvair\\anaconda3\\lib\\site-packages (from satpy) (9.0.1)\n",
      "Requirement already satisfied: toolz>=0.8.2 in c:\\users\\mvair\\anaconda3\\lib\\site-packages (from dask[array]>=0.17.1->satpy) (0.11.2)\n",
      "Requirement already satisfied: fsspec>=0.6.0 in c:\\users\\mvair\\anaconda3\\lib\\site-packages (from dask[array]>=0.17.1->satpy) (2022.2.0)\n",
      "Requirement already satisfied: partd>=0.3.10 in c:\\users\\mvair\\anaconda3\\lib\\site-packages (from dask[array]>=0.17.1->satpy) (1.2.0)\n",
      "Requirement already satisfied: cloudpickle>=1.1.1 in c:\\users\\mvair\\anaconda3\\lib\\site-packages (from dask[array]>=0.17.1->satpy) (2.0.0)\n",
      "Requirement already satisfied: pyparsing!=3.0.5,>=2.0.2 in c:\\users\\mvair\\anaconda3\\lib\\site-packages (from packaging->satpy) (3.0.4)\n",
      "Requirement already satisfied: locket in c:\\users\\mvair\\anaconda3\\lib\\site-packages (from partd>=0.3.10->dask[array]>=0.17.1->satpy) (0.2.1)\n",
      "Requirement already satisfied: certifi in c:\\users\\mvair\\anaconda3\\lib\\site-packages (from pyproj>=2.2->satpy) (2021.10.8)\n",
      "Collecting configobj\n",
      "  Downloading configobj-5.0.8-py2.py3-none-any.whl (36 kB)\n",
      "Requirement already satisfied: importlib-metadata in c:\\users\\mvair\\anaconda3\\lib\\site-packages (from pyresample>=1.24.0->satpy) (4.11.3)\n",
      "Requirement already satisfied: shapely in c:\\users\\mvair\\anaconda3\\lib\\site-packages (from pyresample>=1.24.0->satpy) (1.8.4)\n",
      "Requirement already satisfied: setuptools>=3.2 in c:\\users\\mvair\\anaconda3\\lib\\site-packages (from pyresample>=1.24.0->satpy) (61.2.0)\n",
      "Requirement already satisfied: pandas>=1.1 in c:\\users\\mvair\\anaconda3\\lib\\site-packages (from xarray>=0.14.1->satpy) (1.4.2)\n",
      "Requirement already satisfied: python-dateutil>=2.8.1 in c:\\users\\mvair\\anaconda3\\lib\\site-packages (from pandas>=1.1->xarray>=0.14.1->satpy) (2.8.2)\n",
      "Requirement already satisfied: pytz>=2020.1 in c:\\users\\mvair\\anaconda3\\lib\\site-packages (from pandas>=1.1->xarray>=0.14.1->satpy) (2021.3)\n",
      "Requirement already satisfied: six>=1.5 in c:\\users\\mvair\\anaconda3\\lib\\site-packages (from python-dateutil>=2.8.1->pandas>=1.1->xarray>=0.14.1->satpy) (1.16.0)\n",
      "Requirement already satisfied: zipp>=0.5 in c:\\users\\mvair\\anaconda3\\lib\\site-packages (from importlib-metadata->pyresample>=1.24.0->satpy) (3.7.0)\n",
      "Requirement already satisfied: requests>=2.19.0 in c:\\users\\mvair\\anaconda3\\lib\\site-packages (from pooch->satpy) (2.27.1)\n",
      "Collecting platformdirs>=2.5.0\n",
      "  Downloading platformdirs-4.1.0-py3-none-any.whl (17 kB)\n",
      "Requirement already satisfied: urllib3<1.27,>=1.21.1 in c:\\users\\mvair\\anaconda3\\lib\\site-packages (from requests>=2.19.0->pooch->satpy) (1.26.9)\n",
      "Requirement already satisfied: idna<4,>=2.5 in c:\\users\\mvair\\anaconda3\\lib\\site-packages (from requests>=2.19.0->pooch->satpy) (3.3)\n",
      "Requirement already satisfied: charset-normalizer~=2.0.0 in c:\\users\\mvair\\anaconda3\\lib\\site-packages (from requests>=2.19.0->pooch->satpy) (2.0.4)\n",
      "Requirement already satisfied: scipy in c:\\users\\mvair\\anaconda3\\lib\\site-packages (from pyorbital->satpy) (1.11.4)\n",
      "Collecting fasteners\n",
      "  Downloading fasteners-0.19-py3-none-any.whl (18 kB)\n",
      "Collecting numcodecs>=0.10.0\n",
      "  Downloading numcodecs-0.12.1-cp39-cp39-win_amd64.whl (792 kB)\n",
      "Collecting asciitree\n",
      "  Downloading asciitree-0.3.3.tar.gz (4.0 kB)\n",
      "Building wheels for collected packages: satpy, pyorbital, trollsift, asciitree\n",
      "  Building wheel for satpy (PEP 517): started\n",
      "  Building wheel for satpy (PEP 517): finished with status 'done'\n",
      "  Created wheel for satpy: filename=satpy-0.46.0-py2.py3-none-any.whl size=1596370 sha256=df107ca655292ece835688daf93e9dfb2048c3199f76c426ad915525b53b1680\n",
      "  Stored in directory: c:\\users\\mvair\\appdata\\local\\pip\\cache\\wheels\\7d\\ef\\a1\\e5e1f74757f95eb497900acbe1b05fe16a26174ed6034f21d5\n",
      "  Building wheel for pyorbital (setup.py): started\n",
      "  Building wheel for pyorbital (setup.py): finished with status 'done'\n",
      "  Created wheel for pyorbital: filename=pyorbital-1.8.0-py2.py3-none-any.whl size=66925 sha256=38c1bf4327dd4ca2616487edbcd4d19f5fe1d7f17e3a58454ea7617b3ae54d99\n",
      "  Stored in directory: c:\\users\\mvair\\appdata\\local\\pip\\cache\\wheels\\a6\\07\\a4\\cf49fc1bd4faf6897e7b361a27269761aa8297f6484a37f38f\n",
      "  Building wheel for trollsift (setup.py): started\n",
      "  Building wheel for trollsift (setup.py): finished with status 'done'\n",
      "  Created wheel for trollsift: filename=trollsift-0.5.1-py2.py3-none-any.whl size=22808 sha256=0e92379dda843b92d6de80214f087e2e89598cb5c8e78d4dfe5a100a78ee5c13\n",
      "  Stored in directory: c:\\users\\mvair\\appdata\\local\\pip\\cache\\wheels\\a9\\be\\fb\\56f7026a415d0895fd4b4f22ead5d52013b036ac7bd1c11b98\n",
      "  Building wheel for asciitree (setup.py): started\n",
      "  Building wheel for asciitree (setup.py): finished with status 'done'\n",
      "  Created wheel for asciitree: filename=asciitree-0.3.3-py3-none-any.whl size=5050 sha256=7dfaebf7e5f85ed0dc977c0d283aa9b8cd52cdbeb03b3dc53f98dc0cb3368b66\n",
      "  Stored in directory: c:\\users\\mvair\\appdata\\local\\pip\\cache\\wheels\\07\\00\\bc\\937e878be0d781a569792a1e0e5acf149e463d4536453ec978\n",
      "Successfully built satpy pyorbital trollsift asciitree\n",
      "Installing collected packages: pykdtree, platformdirs, numcodecs, fasteners, configobj, asciitree, zarr, trollsift, trollimage, pyresample, pyorbital, pooch, donfig, satpy\n",
      "Successfully installed asciitree-0.3.3 configobj-5.0.8 donfig-0.8.1.post0 fasteners-0.19 numcodecs-0.12.1 platformdirs-4.1.0 pooch-1.8.0 pykdtree-1.3.10 pyorbital-1.8.0 pyresample-1.27.1 satpy-0.46.0 trollimage-1.22.2 trollsift-0.5.1 zarr-2.16.1\n"
     ]
    }
   ],
   "source": [
    "%pip install satpy"
   ]
  },
  {
   "cell_type": "code",
   "execution_count": 17,
   "id": "d56708fd",
   "metadata": {},
   "outputs": [],
   "source": [
    "import numpy as np\n",
    "import pandas as pd\n",
    "import h5py\n",
    "import netCDF4 as nc\n",
    "from sklearn.model_selection import train_test_split\n",
    "from sklearn.metrics import accuracy_score, confusion_matrix\n",
    "import xgboost as xgb\n",
    "import matplotlib.pyplot as plt\n",
    "from satpy import Scene, find_files_and_readers"
   ]
  },
  {
   "cell_type": "code",
   "execution_count": 20,
   "id": "51bf01d5",
   "metadata": {},
   "outputs": [
    {
     "name": "stdout",
     "output_type": "stream",
     "text": [
      "Defaulting to user installation because normal site-packages is not writeable\n",
      "Collecting basemap\n",
      "  Downloading basemap-1.3.8-cp311-cp311-win_amd64.whl.metadata (7.7 kB)\n",
      "Collecting basemap-data<1.4,>=1.3.2 (from basemap)\n",
      "  Downloading basemap_data-1.3.2-py2.py3-none-any.whl (30.5 MB)\n",
      "     ---------------------------------------- 0.0/30.5 MB ? eta -:--:--\n",
      "     ---------------------------------------- 0.0/30.5 MB ? eta -:--:--\n",
      "     --------------------------------------- 0.0/30.5 MB 660.6 kB/s eta 0:00:47\n",
      "     --------------------------------------- 0.0/30.5 MB 660.6 kB/s eta 0:00:47\n",
      "     --------------------------------------- 0.0/30.5 MB 660.6 kB/s eta 0:00:47\n",
      "     --------------------------------------- 0.0/30.5 MB 660.6 kB/s eta 0:00:47\n",
      "     --------------------------------------- 0.0/30.5 MB 131.3 kB/s eta 0:03:53\n",
      "     --------------------------------------- 0.1/30.5 MB 204.8 kB/s eta 0:02:29\n",
      "     --------------------------------------- 0.1/30.5 MB 261.7 kB/s eta 0:01:57\n",
      "     --------------------------------------- 0.1/30.5 MB 297.7 kB/s eta 0:01:43\n",
      "     --------------------------------------- 0.1/30.5 MB 297.7 kB/s eta 0:01:43\n",
      "     --------------------------------------- 0.1/30.5 MB 297.7 kB/s eta 0:01:43\n",
      "     --------------------------------------- 0.1/30.5 MB 275.0 kB/s eta 0:01:51\n",
      "     --------------------------------------- 0.2/30.5 MB 308.5 kB/s eta 0:01:39\n",
      "     --------------------------------------- 0.2/30.5 MB 389.8 kB/s eta 0:01:18\n",
      "     --------------------------------------- 0.3/30.5 MB 454.0 kB/s eta 0:01:07\n",
      "     --------------------------------------- 0.3/30.5 MB 454.0 kB/s eta 0:01:07\n",
      "     --------------------------------------- 0.3/30.5 MB 454.0 kB/s eta 0:01:07\n",
      "     --------------------------------------- 0.4/30.5 MB 516.2 kB/s eta 0:00:59\n",
      "      -------------------------------------- 0.4/30.5 MB 561.5 kB/s eta 0:00:54\n",
      "      -------------------------------------- 0.5/30.5 MB 578.2 kB/s eta 0:00:52\n",
      "      -------------------------------------- 0.5/30.5 MB 578.2 kB/s eta 0:00:52\n",
      "      -------------------------------------- 0.5/30.5 MB 578.2 kB/s eta 0:00:52\n",
      "      -------------------------------------- 0.5/30.5 MB 578.2 kB/s eta 0:00:52\n",
      "      -------------------------------------- 0.5/30.5 MB 578.2 kB/s eta 0:00:52\n",
      "      -------------------------------------- 0.5/30.5 MB 578.2 kB/s eta 0:00:52\n",
      "      -------------------------------------- 0.5/30.5 MB 578.2 kB/s eta 0:00:52\n",
      "      -------------------------------------- 0.5/30.5 MB 578.2 kB/s eta 0:00:52\n",
      "      -------------------------------------- 0.5/30.5 MB 578.2 kB/s eta 0:00:52\n",
      "      -------------------------------------- 0.5/30.5 MB 578.2 kB/s eta 0:00:52\n",
      "      -------------------------------------- 0.5/30.5 MB 376.8 kB/s eta 0:01:20\n",
      "      -------------------------------------- 0.7/30.5 MB 509.6 kB/s eta 0:00:59\n",
      "      -------------------------------------- 0.7/30.5 MB 509.6 kB/s eta 0:00:59\n",
      "      -------------------------------------- 0.7/30.5 MB 509.6 kB/s eta 0:00:59\n",
      "      -------------------------------------- 0.7/30.5 MB 509.6 kB/s eta 0:00:59\n",
      "     - ------------------------------------- 0.9/30.5 MB 592.5 kB/s eta 0:00:51\n",
      "     - ------------------------------------- 1.0/30.5 MB 641.7 kB/s eta 0:00:47\n",
      "     - ------------------------------------- 1.0/30.5 MB 641.7 kB/s eta 0:00:47\n",
      "     - ------------------------------------- 1.0/30.5 MB 616.7 kB/s eta 0:00:48\n",
      "     - ------------------------------------- 1.0/30.5 MB 636.5 kB/s eta 0:00:47\n",
      "     - ------------------------------------- 1.1/30.5 MB 649.2 kB/s eta 0:00:46\n",
      "     - ------------------------------------- 1.1/30.5 MB 649.2 kB/s eta 0:00:46\n",
      "     - ------------------------------------- 1.1/30.5 MB 649.5 kB/s eta 0:00:46\n",
      "     - ------------------------------------- 1.1/30.5 MB 649.5 kB/s eta 0:00:46\n",
      "     - ------------------------------------- 1.1/30.5 MB 649.5 kB/s eta 0:00:46\n",
      "     - ------------------------------------- 1.1/30.5 MB 649.5 kB/s eta 0:00:46\n",
      "     - ------------------------------------- 1.1/30.5 MB 649.5 kB/s eta 0:00:46\n",
      "     - ------------------------------------- 1.2/30.5 MB 588.4 kB/s eta 0:00:50\n",
      "     - ------------------------------------- 1.2/30.5 MB 594.3 kB/s eta 0:00:50\n",
      "     - ------------------------------------- 1.2/30.5 MB 594.3 kB/s eta 0:00:50\n",
      "     - ------------------------------------- 1.2/30.5 MB 594.3 kB/s eta 0:00:50\n",
      "     - ------------------------------------- 1.2/30.5 MB 594.3 kB/s eta 0:00:50\n",
      "     - ------------------------------------- 1.2/30.5 MB 594.3 kB/s eta 0:00:50\n",
      "     - ------------------------------------- 1.3/30.5 MB 591.6 kB/s eta 0:00:50\n",
      "     - ------------------------------------- 1.4/30.5 MB 596.2 kB/s eta 0:00:49\n",
      "     - ------------------------------------- 1.4/30.5 MB 596.2 kB/s eta 0:00:49\n",
      "     - ------------------------------------- 1.4/30.5 MB 596.2 kB/s eta 0:00:49\n",
      "     - ------------------------------------- 1.4/30.5 MB 596.2 kB/s eta 0:00:49\n",
      "     - ------------------------------------- 1.4/30.5 MB 596.2 kB/s eta 0:00:49\n",
      "     - ------------------------------------- 1.4/30.5 MB 596.2 kB/s eta 0:00:49\n",
      "     - ------------------------------------- 1.4/30.5 MB 596.2 kB/s eta 0:00:49\n",
      "     - ------------------------------------- 1.4/30.5 MB 554.8 kB/s eta 0:00:53\n",
      "     - ------------------------------------- 1.4/30.5 MB 554.8 kB/s eta 0:00:53\n",
      "     - ------------------------------------- 1.4/30.5 MB 554.8 kB/s eta 0:00:53\n",
      "     - ------------------------------------- 1.4/30.5 MB 554.8 kB/s eta 0:00:53\n",
      "     - ------------------------------------- 1.4/30.5 MB 554.8 kB/s eta 0:00:53\n",
      "     - ------------------------------------- 1.4/30.5 MB 554.8 kB/s eta 0:00:53\n",
      "     - ------------------------------------- 1.4/30.5 MB 554.8 kB/s eta 0:00:53\n",
      "     - ------------------------------------- 1.5/30.5 MB 515.8 kB/s eta 0:00:57\n",
      "     - ------------------------------------- 1.5/30.5 MB 515.8 kB/s eta 0:00:57\n",
      "     - ------------------------------------- 1.5/30.5 MB 515.8 kB/s eta 0:00:57\n",
      "     - ------------------------------------- 1.5/30.5 MB 515.8 kB/s eta 0:00:57\n",
      "     - ------------------------------------- 1.5/30.5 MB 515.8 kB/s eta 0:00:57\n",
      "     - ------------------------------------- 1.5/30.5 MB 515.8 kB/s eta 0:00:57\n",
      "     - ------------------------------------- 1.5/30.5 MB 515.8 kB/s eta 0:00:57\n",
      "     - ------------------------------------- 1.5/30.5 MB 483.4 kB/s eta 0:01:00\n",
      "     - ------------------------------------- 1.6/30.5 MB 487.5 kB/s eta 0:01:00\n",
      "     - ------------------------------------- 1.6/30.5 MB 487.5 kB/s eta 0:01:00\n",
      "     - ------------------------------------- 1.6/30.5 MB 487.5 kB/s eta 0:01:00\n",
      "     - ------------------------------------- 1.6/30.5 MB 487.5 kB/s eta 0:01:00\n",
      "     - ------------------------------------- 1.6/30.5 MB 487.5 kB/s eta 0:01:00\n",
      "     - ------------------------------------- 1.6/30.5 MB 487.5 kB/s eta 0:01:00\n",
      "     -- ------------------------------------ 1.6/30.5 MB 476.6 kB/s eta 0:01:01\n",
      "     -- ------------------------------------ 1.7/30.5 MB 490.8 kB/s eta 0:00:59\n",
      "     -- ------------------------------------ 1.8/30.5 MB 501.7 kB/s eta 0:00:58\n",
      "     -- ------------------------------------ 1.8/30.5 MB 505.2 kB/s eta 0:00:57\n",
      "     -- ------------------------------------ 1.8/30.5 MB 505.2 kB/s eta 0:00:57\n",
      "     -- ------------------------------------ 1.8/30.5 MB 505.2 kB/s eta 0:00:57\n",
      "     -- ------------------------------------ 1.8/30.5 MB 505.2 kB/s eta 0:00:57\n",
      "     -- ------------------------------------ 1.8/30.5 MB 505.2 kB/s eta 0:00:57\n",
      "     -- ------------------------------------ 1.8/30.5 MB 505.2 kB/s eta 0:00:57\n",
      "     -- ------------------------------------ 1.8/30.5 MB 505.2 kB/s eta 0:00:57\n",
      "     -- ------------------------------------ 1.8/30.5 MB 505.2 kB/s eta 0:00:57\n",
      "     -- ------------------------------------ 1.8/30.5 MB 505.2 kB/s eta 0:00:57\n",
      "     -- ------------------------------------ 1.8/30.5 MB 505.2 kB/s eta 0:00:57\n",
      "     -- ------------------------------------ 2.0/30.5 MB 487.7 kB/s eta 0:00:59\n",
      "     -- ------------------------------------ 2.0/30.5 MB 487.7 kB/s eta 0:00:59\n",
      "     -- ------------------------------------ 2.0/30.5 MB 487.7 kB/s eta 0:00:59\n",
      "     -- ------------------------------------ 2.0/30.5 MB 487.7 kB/s eta 0:00:59\n",
      "     -- ------------------------------------ 2.0/30.5 MB 487.7 kB/s eta 0:00:59\n",
      "     -- ------------------------------------ 2.3/30.5 MB 537.3 kB/s eta 0:00:53\n",
      "     -- ------------------------------------ 2.3/30.5 MB 537.3 kB/s eta 0:00:53\n",
      "     -- ------------------------------------ 2.3/30.5 MB 530.0 kB/s eta 0:00:54\n",
      "     -- ------------------------------------ 2.3/30.5 MB 535.6 kB/s eta 0:00:53\n",
      "     --- ----------------------------------- 2.4/30.5 MB 534.9 kB/s eta 0:00:53\n",
      "     --- ----------------------------------- 2.4/30.5 MB 545.3 kB/s eta 0:00:52\n",
      "     --- ----------------------------------- 2.5/30.5 MB 548.4 kB/s eta 0:00:52\n",
      "     --- ----------------------------------- 2.5/30.5 MB 548.4 kB/s eta 0:00:52\n",
      "     --- ----------------------------------- 2.5/30.5 MB 548.3 kB/s eta 0:00:52\n",
      "     --- ----------------------------------- 2.6/30.5 MB 551.3 kB/s eta 0:00:51\n",
      "     --- ----------------------------------- 2.6/30.5 MB 554.2 kB/s eta 0:00:51\n",
      "     --- ----------------------------------- 2.6/30.5 MB 554.2 kB/s eta 0:00:51\n",
      "     --- ----------------------------------- 2.6/30.5 MB 554.2 kB/s eta 0:00:51\n",
      "     --- ----------------------------------- 2.6/30.5 MB 554.2 kB/s eta 0:00:51\n",
      "     --- ----------------------------------- 2.6/30.5 MB 554.2 kB/s eta 0:00:51\n",
      "     --- ----------------------------------- 2.6/30.5 MB 554.2 kB/s eta 0:00:51\n",
      "     --- ----------------------------------- 2.6/30.5 MB 532.2 kB/s eta 0:00:53\n",
      "     --- ----------------------------------- 2.7/30.5 MB 537.5 kB/s eta 0:00:52\n",
      "     --- ----------------------------------- 2.8/30.5 MB 556.4 kB/s eta 0:00:50\n",
      "     --- ----------------------------------- 2.8/30.5 MB 556.4 kB/s eta 0:00:50\n",
      "     --- ----------------------------------- 2.8/30.5 MB 556.4 kB/s eta 0:00:50\n",
      "     --- ----------------------------------- 2.9/30.5 MB 565.4 kB/s eta 0:00:49\n",
      "     --- ----------------------------------- 2.9/30.5 MB 564.3 kB/s eta 0:00:49\n",
      "     --- ----------------------------------- 2.9/30.5 MB 564.3 kB/s eta 0:00:49\n",
      "     --- ----------------------------------- 3.0/30.5 MB 563.7 kB/s eta 0:00:49\n",
      "     --- ----------------------------------- 3.0/30.5 MB 564.5 kB/s eta 0:00:49\n",
      "     --- ----------------------------------- 3.1/30.5 MB 570.8 kB/s eta 0:00:49\n",
      "     --- ----------------------------------- 3.1/30.5 MB 569.4 kB/s eta 0:00:49\n",
      "     --- ----------------------------------- 3.1/30.5 MB 568.3 kB/s eta 0:00:49\n",
      "     --- ----------------------------------- 3.1/30.5 MB 565.2 kB/s eta 0:00:49\n",
      "     --- ----------------------------------- 3.1/30.5 MB 565.8 kB/s eta 0:00:49\n",
      "     ---- ---------------------------------- 3.1/30.5 MB 568.1 kB/s eta 0:00:49\n",
      "     ---- ---------------------------------- 3.2/30.5 MB 566.7 kB/s eta 0:00:49\n",
      "     ---- ---------------------------------- 3.2/30.5 MB 568.0 kB/s eta 0:00:49\n",
      "     ---- ---------------------------------- 3.2/30.5 MB 568.5 kB/s eta 0:00:49\n",
      "     ---- ---------------------------------- 3.3/30.5 MB 570.7 kB/s eta 0:00:48\n",
      "     ---- ---------------------------------- 3.3/30.5 MB 571.2 kB/s eta 0:00:48\n",
      "     ---- ---------------------------------- 3.3/30.5 MB 571.5 kB/s eta 0:00:48\n",
      "     ---- ---------------------------------- 3.3/30.5 MB 570.6 kB/s eta 0:00:48\n",
      "     ---- ---------------------------------- 3.3/30.5 MB 569.5 kB/s eta 0:00:48\n",
      "     ---- ---------------------------------- 3.4/30.5 MB 570.1 kB/s eta 0:00:48\n",
      "     ---- ---------------------------------- 3.4/30.5 MB 572.5 kB/s eta 0:00:48\n",
      "     ---- ---------------------------------- 3.4/30.5 MB 573.3 kB/s eta 0:00:48\n",
      "     ---- ---------------------------------- 3.5/30.5 MB 575.1 kB/s eta 0:00:48\n",
      "     ---- ---------------------------------- 3.5/30.5 MB 574.1 kB/s eta 0:00:48\n",
      "     ---- ---------------------------------- 3.5/30.5 MB 574.7 kB/s eta 0:00:48\n",
      "     ---- ---------------------------------- 3.5/30.5 MB 575.3 kB/s eta 0:00:47\n",
      "     ---- ---------------------------------- 3.6/30.5 MB 577.4 kB/s eta 0:00:47\n",
      "     ---- ---------------------------------- 3.6/30.5 MB 579.8 kB/s eta 0:00:47\n",
      "     ---- ---------------------------------- 3.6/30.5 MB 578.8 kB/s eta 0:00:47\n",
      "     ---- ---------------------------------- 3.7/30.5 MB 579.1 kB/s eta 0:00:47\n",
      "     ---- ---------------------------------- 3.7/30.5 MB 579.5 kB/s eta 0:00:47\n",
      "     ---- ---------------------------------- 3.7/30.5 MB 580.0 kB/s eta 0:00:47\n",
      "     ---- ---------------------------------- 3.7/30.5 MB 580.6 kB/s eta 0:00:47\n",
      "     ---- ---------------------------------- 3.8/30.5 MB 582.5 kB/s eta 0:00:46\n",
      "     ---- ---------------------------------- 3.8/30.5 MB 584.6 kB/s eta 0:00:46\n",
      "     ---- ---------------------------------- 3.9/30.5 MB 585.1 kB/s eta 0:00:46\n",
      "     ---- ---------------------------------- 3.9/30.5 MB 583.9 kB/s eta 0:00:46\n",
      "     ---- ---------------------------------- 3.9/30.5 MB 585.7 kB/s eta 0:00:46\n",
      "     ----- --------------------------------- 3.9/30.5 MB 587.8 kB/s eta 0:00:46\n",
      "     ----- --------------------------------- 3.9/30.5 MB 587.9 kB/s eta 0:00:46\n",
      "     ----- --------------------------------- 4.0/30.5 MB 588.7 kB/s eta 0:00:46\n",
      "     ----- --------------------------------- 4.0/30.5 MB 589.2 kB/s eta 0:00:45\n",
      "     ----- --------------------------------- 4.0/30.5 MB 589.5 kB/s eta 0:00:45\n",
      "     ----- --------------------------------- 4.1/30.5 MB 591.6 kB/s eta 0:00:45\n",
      "     ----- --------------------------------- 4.1/30.5 MB 591.7 kB/s eta 0:00:45\n",
      "     ----- --------------------------------- 4.1/30.5 MB 590.7 kB/s eta 0:00:45\n",
      "     ----- --------------------------------- 4.2/30.5 MB 592.8 kB/s eta 0:00:45\n",
      "     ----- --------------------------------- 4.2/30.5 MB 594.4 kB/s eta 0:00:45\n",
      "     ----- --------------------------------- 4.2/30.5 MB 594.9 kB/s eta 0:00:45\n",
      "     ----- --------------------------------- 4.3/30.5 MB 596.4 kB/s eta 0:00:45\n",
      "     ----- --------------------------------- 4.3/30.5 MB 598.1 kB/s eta 0:00:44\n",
      "     ----- --------------------------------- 4.3/30.5 MB 597.2 kB/s eta 0:00:44\n",
      "     ----- --------------------------------- 4.4/30.5 MB 597.5 kB/s eta 0:00:44\n",
      "     ----- --------------------------------- 4.4/30.5 MB 597.9 kB/s eta 0:00:44\n",
      "     ----- --------------------------------- 4.4/30.5 MB 601.0 kB/s eta 0:00:44\n",
      "     ----- --------------------------------- 4.5/30.5 MB 602.7 kB/s eta 0:00:44\n",
      "     ----- --------------------------------- 4.5/30.5 MB 602.7 kB/s eta 0:00:44\n",
      "     ----- --------------------------------- 4.5/30.5 MB 600.2 kB/s eta 0:00:44\n",
      "     ----- --------------------------------- 4.5/30.5 MB 599.4 kB/s eta 0:00:44\n",
      "     ----- --------------------------------- 4.5/30.5 MB 600.8 kB/s eta 0:00:44\n",
      "     ----- --------------------------------- 4.6/30.5 MB 603.9 kB/s eta 0:00:43\n",
      "     ----- --------------------------------- 4.6/30.5 MB 606.9 kB/s eta 0:00:43\n",
      "     ----- --------------------------------- 4.6/30.5 MB 604.6 kB/s eta 0:00:43\n",
      "     ----- --------------------------------- 4.7/30.5 MB 604.7 kB/s eta 0:00:43\n",
      "     ----- --------------------------------- 4.7/30.5 MB 605.1 kB/s eta 0:00:43\n",
      "     ------ -------------------------------- 4.7/30.5 MB 605.4 kB/s eta 0:00:43\n",
      "     ------ -------------------------------- 4.8/30.5 MB 606.8 kB/s eta 0:00:43\n",
      "     ------ -------------------------------- 4.8/30.5 MB 607.0 kB/s eta 0:00:43\n",
      "     ------ -------------------------------- 4.8/30.5 MB 607.5 kB/s eta 0:00:43\n",
      "     ------ -------------------------------- 4.8/30.5 MB 608.9 kB/s eta 0:00:43\n",
      "     ------ -------------------------------- 4.9/30.5 MB 609.2 kB/s eta 0:00:43\n",
      "     ------ -------------------------------- 4.9/30.5 MB 609.5 kB/s eta 0:00:43\n",
      "     ------ -------------------------------- 4.9/30.5 MB 610.9 kB/s eta 0:00:42\n",
      "     ------ -------------------------------- 5.0/30.5 MB 611.1 kB/s eta 0:00:42\n",
      "     ------ -------------------------------- 5.0/30.5 MB 613.8 kB/s eta 0:00:42\n",
      "     ------ -------------------------------- 5.0/30.5 MB 613.8 kB/s eta 0:00:42\n",
      "     ------ -------------------------------- 5.0/30.5 MB 611.7 kB/s eta 0:00:42\n",
      "     ------ -------------------------------- 5.1/30.5 MB 611.9 kB/s eta 0:00:42\n",
      "     ------ -------------------------------- 5.1/30.5 MB 614.6 kB/s eta 0:00:42\n",
      "     ------ -------------------------------- 5.1/30.5 MB 616.0 kB/s eta 0:00:42\n",
      "     ------ -------------------------------- 5.2/30.5 MB 617.5 kB/s eta 0:00:42\n",
      "     ------ -------------------------------- 5.2/30.5 MB 617.5 kB/s eta 0:00:42\n",
      "     ------ -------------------------------- 5.2/30.5 MB 615.4 kB/s eta 0:00:42\n",
      "     ------ -------------------------------- 5.3/30.5 MB 618.1 kB/s eta 0:00:41\n",
      "     ------ -------------------------------- 5.3/30.5 MB 619.4 kB/s eta 0:00:41\n",
      "     ------ -------------------------------- 5.3/30.5 MB 620.8 kB/s eta 0:00:41\n",
      "     ------ -------------------------------- 5.4/30.5 MB 619.7 kB/s eta 0:00:41\n",
      "     ------ -------------------------------- 5.4/30.5 MB 619.9 kB/s eta 0:00:41\n",
      "     ------ -------------------------------- 5.4/30.5 MB 620.1 kB/s eta 0:00:41\n",
      "     ------ -------------------------------- 5.5/30.5 MB 621.6 kB/s eta 0:00:41\n",
      "     ------- ------------------------------- 5.5/30.5 MB 622.8 kB/s eta 0:00:41\n",
      "     ------- ------------------------------- 5.5/30.5 MB 624.0 kB/s eta 0:00:41\n",
      "     ------- ------------------------------- 5.6/30.5 MB 623.1 kB/s eta 0:00:41\n",
      "     ------- ------------------------------- 5.6/30.5 MB 623.2 kB/s eta 0:00:41\n",
      "     ------- ------------------------------- 5.6/30.5 MB 624.5 kB/s eta 0:00:40\n",
      "     ------- ------------------------------- 5.7/30.5 MB 625.9 kB/s eta 0:00:40\n",
      "     ------- ------------------------------- 5.7/30.5 MB 627.1 kB/s eta 0:00:40\n",
      "     ------- ------------------------------- 5.7/30.5 MB 626.2 kB/s eta 0:00:40\n",
      "     ------- ------------------------------- 5.7/30.5 MB 627.3 kB/s eta 0:00:40\n",
      "     ------- ------------------------------- 5.8/30.5 MB 626.4 kB/s eta 0:00:40\n",
      "     ------- ------------------------------- 5.8/30.5 MB 628.8 kB/s eta 0:00:40\n",
      "     ------- ------------------------------- 5.9/30.5 MB 630.0 kB/s eta 0:00:40\n",
      "     ------- ------------------------------- 5.9/30.5 MB 630.0 kB/s eta 0:00:40\n",
      "     ------- ------------------------------- 5.9/30.5 MB 630.2 kB/s eta 0:00:40\n",
      "     ------- ------------------------------- 5.9/30.5 MB 630.3 kB/s eta 0:00:40\n",
      "     ------- ------------------------------- 6.0/30.5 MB 632.5 kB/s eta 0:00:39\n",
      "     ------- ------------------------------- 6.0/30.5 MB 632.7 kB/s eta 0:00:39\n",
      "     ------- ------------------------------- 6.0/30.5 MB 633.8 kB/s eta 0:00:39\n",
      "     ------- ------------------------------- 6.1/30.5 MB 632.9 kB/s eta 0:00:39\n",
      "     ------- ------------------------------- 6.1/30.5 MB 633.0 kB/s eta 0:00:39\n",
      "     ------- ------------------------------- 6.1/30.5 MB 634.2 kB/s eta 0:00:39\n",
      "     ------- ------------------------------- 6.2/30.5 MB 635.2 kB/s eta 0:00:39\n",
      "     ------- ------------------------------- 6.2/30.5 MB 636.4 kB/s eta 0:00:39\n",
      "     ------- ------------------------------- 6.2/30.5 MB 636.4 kB/s eta 0:00:39\n",
      "     ------- ------------------------------- 6.2/30.5 MB 636.4 kB/s eta 0:00:39\n",
      "     ------- ------------------------------- 6.2/30.5 MB 636.4 kB/s eta 0:00:39\n",
      "     ------- ------------------------------- 6.2/30.5 MB 636.4 kB/s eta 0:00:39\n",
      "     ------- ------------------------------- 6.2/30.5 MB 622.4 kB/s eta 0:00:40\n",
      "     ------- ------------------------------- 6.2/30.5 MB 622.4 kB/s eta 0:00:40\n",
      "     -------- ------------------------------ 6.3/30.5 MB 630.8 kB/s eta 0:00:39\n",
      "     -------- ------------------------------ 6.3/30.5 MB 630.8 kB/s eta 0:00:39\n",
      "     -------- ------------------------------ 6.3/30.5 MB 630.8 kB/s eta 0:00:39\n",
      "     -------- ------------------------------ 6.3/30.5 MB 624.0 kB/s eta 0:00:39\n",
      "     -------- ------------------------------ 6.5/30.5 MB 635.2 kB/s eta 0:00:38\n",
      "     -------- ------------------------------ 6.5/30.5 MB 635.2 kB/s eta 0:00:38\n",
      "     -------- ------------------------------ 6.5/30.5 MB 632.5 kB/s eta 0:00:38\n",
      "     -------- ------------------------------ 6.6/30.5 MB 631.7 kB/s eta 0:00:38\n",
      "     -------- ------------------------------ 6.6/30.5 MB 633.7 kB/s eta 0:00:38\n",
      "     -------- ------------------------------ 6.6/30.5 MB 631.8 kB/s eta 0:00:38\n",
      "     -------- ------------------------------ 6.6/30.5 MB 631.9 kB/s eta 0:00:38\n",
      "     -------- ------------------------------ 6.6/30.5 MB 631.0 kB/s eta 0:00:38\n",
      "     -------- ------------------------------ 6.7/30.5 MB 631.1 kB/s eta 0:00:38\n",
      "     -------- ------------------------------ 6.7/30.5 MB 630.2 kB/s eta 0:00:38\n",
      "     -------- ------------------------------ 6.7/30.5 MB 630.3 kB/s eta 0:00:38\n",
      "     -------- ------------------------------ 6.8/30.5 MB 631.4 kB/s eta 0:00:38\n",
      "     -------- ------------------------------ 6.8/30.5 MB 631.4 kB/s eta 0:00:38\n",
      "     -------- ------------------------------ 6.8/30.5 MB 629.7 kB/s eta 0:00:38\n",
      "     -------- ------------------------------ 6.8/30.5 MB 629.7 kB/s eta 0:00:38\n",
      "     -------- ------------------------------ 6.9/30.5 MB 630.8 kB/s eta 0:00:38\n",
      "     -------- ------------------------------ 6.9/30.5 MB 630.9 kB/s eta 0:00:38\n",
      "     -------- ------------------------------ 6.9/30.5 MB 630.0 kB/s eta 0:00:38\n",
      "     -------- ------------------------------ 6.9/30.5 MB 629.2 kB/s eta 0:00:38\n",
      "     -------- ------------------------------ 6.9/30.5 MB 629.3 kB/s eta 0:00:38\n",
      "     -------- ------------------------------ 7.0/30.5 MB 629.4 kB/s eta 0:00:38\n",
      "     -------- ------------------------------ 7.0/30.5 MB 630.4 kB/s eta 0:00:38\n",
      "     -------- ------------------------------ 7.0/30.5 MB 629.6 kB/s eta 0:00:38\n",
      "     --------- ----------------------------- 7.1/30.5 MB 629.7 kB/s eta 0:00:38\n",
      "     --------- ----------------------------- 7.1/30.5 MB 629.9 kB/s eta 0:00:38\n",
      "     --------- ----------------------------- 7.1/30.5 MB 630.0 kB/s eta 0:00:38\n",
      "     --------- ----------------------------- 7.1/30.5 MB 629.2 kB/s eta 0:00:38\n",
      "     --------- ----------------------------- 7.2/30.5 MB 630.2 kB/s eta 0:00:38\n",
      "     --------- ----------------------------- 7.2/30.5 MB 630.2 kB/s eta 0:00:38\n",
      "     --------- ----------------------------- 7.2/30.5 MB 627.7 kB/s eta 0:00:38\n",
      "     --------- ----------------------------- 7.2/30.5 MB 628.6 kB/s eta 0:00:38\n",
      "     --------- ----------------------------- 7.3/30.5 MB 628.7 kB/s eta 0:00:38\n",
      "     --------- ----------------------------- 7.3/30.5 MB 629.7 kB/s eta 0:00:37\n",
      "     --------- ----------------------------- 7.3/30.5 MB 630.7 kB/s eta 0:00:37\n",
      "     --------- ----------------------------- 7.4/30.5 MB 628.2 kB/s eta 0:00:37\n",
      "     --------- ----------------------------- 7.4/30.5 MB 629.1 kB/s eta 0:00:37\n",
      "     --------- ----------------------------- 7.4/30.5 MB 629.2 kB/s eta 0:00:37\n",
      "     --------- ----------------------------- 7.4/30.5 MB 628.5 kB/s eta 0:00:37\n",
      "     --------- ----------------------------- 7.5/30.5 MB 630.3 kB/s eta 0:00:37\n",
      "     --------- ----------------------------- 7.5/30.5 MB 630.4 kB/s eta 0:00:37\n",
      "     --------- ----------------------------- 7.5/30.5 MB 630.5 kB/s eta 0:00:37\n",
      "     --------- ----------------------------- 7.6/30.5 MB 630.6 kB/s eta 0:00:37\n",
      "     --------- ----------------------------- 7.6/30.5 MB 630.6 kB/s eta 0:00:37\n",
      "     --------- ----------------------------- 7.6/30.5 MB 631.6 kB/s eta 0:00:37\n",
      "     --------- ----------------------------- 7.7/30.5 MB 632.5 kB/s eta 0:00:37\n",
      "     --------- ----------------------------- 7.7/30.5 MB 631.7 kB/s eta 0:00:37\n",
      "     --------- ----------------------------- 7.7/30.5 MB 631.8 kB/s eta 0:00:37\n",
      "     --------- ----------------------------- 7.7/30.5 MB 631.1 kB/s eta 0:00:37\n",
      "     --------- ----------------------------- 7.8/30.5 MB 632.0 kB/s eta 0:00:37\n",
      "     --------- ----------------------------- 7.8/30.5 MB 633.7 kB/s eta 0:00:36\n",
      "     ---------- ---------------------------- 7.8/30.5 MB 633.8 kB/s eta 0:00:36\n",
      "     ---------- ---------------------------- 7.9/30.5 MB 633.9 kB/s eta 0:00:36\n",
      "     ---------- ---------------------------- 7.9/30.5 MB 633.9 kB/s eta 0:00:36\n",
      "     ---------- ---------------------------- 7.9/30.5 MB 634.0 kB/s eta 0:00:36\n",
      "     ---------- ---------------------------- 8.0/30.5 MB 634.1 kB/s eta 0:00:36\n",
      "     ---------- ---------------------------- 8.0/30.5 MB 635.8 kB/s eta 0:00:36\n",
      "     ---------- ---------------------------- 8.0/30.5 MB 635.9 kB/s eta 0:00:36\n",
      "     ---------- ---------------------------- 8.0/30.5 MB 635.1 kB/s eta 0:00:36\n",
      "     ---------- ---------------------------- 8.1/30.5 MB 635.2 kB/s eta 0:00:36\n",
      "     ---------- ---------------------------- 8.1/30.5 MB 636.1 kB/s eta 0:00:36\n",
      "     ---------- ---------------------------- 8.1/30.5 MB 636.1 kB/s eta 0:00:36\n",
      "     ---------- ---------------------------- 8.2/30.5 MB 637.8 kB/s eta 0:00:36\n",
      "     ---------- ---------------------------- 8.2/30.5 MB 637.1 kB/s eta 0:00:36\n",
      "     ---------- ---------------------------- 8.2/30.5 MB 636.3 kB/s eta 0:00:36\n",
      "     ---------- ---------------------------- 8.3/30.5 MB 637.1 kB/s eta 0:00:35\n",
      "     ---------- ---------------------------- 8.3/30.5 MB 637.2 kB/s eta 0:00:35\n",
      "     ---------- ---------------------------- 8.3/30.5 MB 637.3 kB/s eta 0:00:35\n",
      "     ---------- ---------------------------- 8.4/30.5 MB 638.1 kB/s eta 0:00:35\n",
      "     ---------- ---------------------------- 8.4/30.5 MB 639.0 kB/s eta 0:00:35\n",
      "     ---------- ---------------------------- 8.4/30.5 MB 638.2 kB/s eta 0:00:35\n",
      "     ---------- ---------------------------- 8.4/30.5 MB 639.0 kB/s eta 0:00:35\n",
      "     ---------- ---------------------------- 8.5/30.5 MB 639.1 kB/s eta 0:00:35\n",
      "     ---------- ---------------------------- 8.5/30.5 MB 639.2 kB/s eta 0:00:35\n",
      "     ---------- ---------------------------- 8.5/30.5 MB 640.0 kB/s eta 0:00:35\n",
      "     ---------- ---------------------------- 8.6/30.5 MB 641.5 kB/s eta 0:00:35\n",
      "     ---------- ---------------------------- 8.6/30.5 MB 640.0 kB/s eta 0:00:35\n",
      "     ----------- --------------------------- 8.6/30.5 MB 641.6 kB/s eta 0:00:35\n",
      "     ----------- --------------------------- 8.7/30.5 MB 641.7 kB/s eta 0:00:35\n",
      "     ----------- --------------------------- 8.7/30.5 MB 641.8 kB/s eta 0:00:35\n",
      "     ----------- --------------------------- 8.7/30.5 MB 643.3 kB/s eta 0:00:34\n",
      "     ----------- --------------------------- 8.7/30.5 MB 642.5 kB/s eta 0:00:34\n",
      "     ----------- --------------------------- 8.8/30.5 MB 641.9 kB/s eta 0:00:34\n",
      "     ----------- --------------------------- 8.8/30.5 MB 643.4 kB/s eta 0:00:34\n",
      "     ----------- --------------------------- 8.9/30.5 MB 644.2 kB/s eta 0:00:34\n",
      "     ----------- --------------------------- 8.9/30.5 MB 645.7 kB/s eta 0:00:34\n",
      "     ----------- --------------------------- 8.9/30.5 MB 644.3 kB/s eta 0:00:34\n",
      "     ----------- --------------------------- 8.9/30.5 MB 645.0 kB/s eta 0:00:34\n",
      "     ----------- --------------------------- 9.0/30.5 MB 645.8 kB/s eta 0:00:34\n",
      "     ----------- --------------------------- 9.0/30.5 MB 645.8 kB/s eta 0:00:34\n",
      "     ----------- --------------------------- 9.1/30.5 MB 647.3 kB/s eta 0:00:34\n",
      "     ----------- --------------------------- 9.1/30.5 MB 645.9 kB/s eta 0:00:34\n",
      "     ----------- --------------------------- 9.1/30.5 MB 646.6 kB/s eta 0:00:34\n",
      "     ----------- --------------------------- 9.2/30.5 MB 647.4 kB/s eta 0:00:34\n",
      "     ----------- --------------------------- 9.2/30.5 MB 648.1 kB/s eta 0:00:33\n",
      "     ----------- --------------------------- 9.2/30.5 MB 648.9 kB/s eta 0:00:33\n",
      "     ----------- --------------------------- 9.3/30.5 MB 648.9 kB/s eta 0:00:33\n",
      "     ----------- --------------------------- 9.3/30.5 MB 648.2 kB/s eta 0:00:33\n",
      "     ----------- --------------------------- 9.3/30.5 MB 649.0 kB/s eta 0:00:33\n",
      "     ----------- --------------------------- 9.4/30.5 MB 649.7 kB/s eta 0:00:33\n",
      "     ------------ -------------------------- 9.4/30.5 MB 650.4 kB/s eta 0:00:33\n",
      "     ------------ -------------------------- 9.4/30.5 MB 650.4 kB/s eta 0:00:33\n",
      "     ------------ -------------------------- 9.5/30.5 MB 650.4 kB/s eta 0:00:33\n",
      "     ------------ -------------------------- 9.5/30.5 MB 651.2 kB/s eta 0:00:33\n",
      "     ------------ -------------------------- 9.5/30.5 MB 651.2 kB/s eta 0:00:33\n",
      "     ------------ -------------------------- 9.6/30.5 MB 652.6 kB/s eta 0:00:33\n",
      "     ------------ -------------------------- 9.6/30.5 MB 651.9 kB/s eta 0:00:33\n",
      "     ------------ -------------------------- 9.6/30.5 MB 651.9 kB/s eta 0:00:33\n",
      "     ------------ -------------------------- 9.7/30.5 MB 652.6 kB/s eta 0:00:32\n",
      "     ------------ -------------------------- 9.7/30.5 MB 652.6 kB/s eta 0:00:32\n",
      "     ------------ -------------------------- 9.7/30.5 MB 654.0 kB/s eta 0:00:32\n",
      "     ------------ -------------------------- 9.8/30.5 MB 654.0 kB/s eta 0:00:32\n",
      "     ------------ -------------------------- 9.8/30.5 MB 654.0 kB/s eta 0:00:32\n",
      "     ------------ -------------------------- 9.8/30.5 MB 654.0 kB/s eta 0:00:32\n",
      "     ------------ -------------------------- 9.9/30.5 MB 654.7 kB/s eta 0:00:32\n",
      "     ------------ -------------------------- 9.9/30.5 MB 654.7 kB/s eta 0:00:32\n",
      "     ------------ -------------------------- 9.9/30.5 MB 654.7 kB/s eta 0:00:32\n",
      "     ------------ -------------------------- 9.9/30.5 MB 654.7 kB/s eta 0:00:32\n",
      "     ------------ -------------------------- 9.9/30.5 MB 654.7 kB/s eta 0:00:32\n",
      "     ------------ -------------------------- 9.9/30.5 MB 654.7 kB/s eta 0:00:32\n",
      "     ------------ -------------------------- 9.9/30.5 MB 654.7 kB/s eta 0:00:32\n",
      "     ------------ -------------------------- 9.9/30.5 MB 654.7 kB/s eta 0:00:32\n",
      "     ------------ -------------------------- 9.9/30.5 MB 645.4 kB/s eta 0:00:32\n",
      "     ------------ ------------------------- 10.0/30.5 MB 650.0 kB/s eta 0:00:32\n",
      "     ------------ ------------------------- 10.0/30.5 MB 650.0 kB/s eta 0:00:32\n",
      "     ------------ ------------------------- 10.1/30.5 MB 649.4 kB/s eta 0:00:32\n",
      "     ------------ ------------------------- 10.1/30.5 MB 649.4 kB/s eta 0:00:32\n",
      "     ------------ ------------------------- 10.2/30.5 MB 654.0 kB/s eta 0:00:32\n",
      "     ------------ ------------------------- 10.2/30.5 MB 654.0 kB/s eta 0:00:32\n",
      "     ------------ ------------------------- 10.2/30.5 MB 654.0 kB/s eta 0:00:32\n",
      "     ------------ ------------------------- 10.3/30.5 MB 661.3 kB/s eta 0:00:31\n",
      "     ------------ ------------------------- 10.3/30.5 MB 661.3 kB/s eta 0:00:31\n",
      "     ------------ ------------------------- 10.3/30.5 MB 660.7 kB/s eta 0:00:31\n",
      "     ------------ ------------------------- 10.3/30.5 MB 661.3 kB/s eta 0:00:31\n",
      "     ------------ ------------------------- 10.4/30.5 MB 664.7 kB/s eta 0:00:31\n",
      "     ------------ ------------------------- 10.4/30.5 MB 663.3 kB/s eta 0:00:31\n",
      "     ------------ ------------------------- 10.4/30.5 MB 662.6 kB/s eta 0:00:31\n",
      "     ------------ ------------------------- 10.4/30.5 MB 662.0 kB/s eta 0:00:31\n",
      "     ------------- ------------------------ 10.5/30.5 MB 660.6 kB/s eta 0:00:31\n",
      "     ------------- ------------------------ 10.5/30.5 MB 660.0 kB/s eta 0:00:31\n",
      "     ------------- ------------------------ 10.5/30.5 MB 658.7 kB/s eta 0:00:31\n",
      "     ------------- ------------------------ 10.5/30.5 MB 661.3 kB/s eta 0:00:31\n",
      "     ------------- ------------------------ 10.6/30.5 MB 659.3 kB/s eta 0:00:31\n",
      "     ------------- ------------------------ 10.6/30.5 MB 658.0 kB/s eta 0:00:31\n",
      "     ------------- ------------------------ 10.6/30.5 MB 657.3 kB/s eta 0:00:31\n",
      "     ------------- ------------------------ 10.6/30.5 MB 656.7 kB/s eta 0:00:31\n",
      "     ------------- ------------------------ 10.7/30.5 MB 654.7 kB/s eta 0:00:31\n",
      "     ------------- ------------------------ 10.7/30.5 MB 654.7 kB/s eta 0:00:31\n",
      "     ------------- ------------------------ 10.7/30.5 MB 672.2 kB/s eta 0:00:30\n",
      "     ------------- ------------------------ 10.7/30.5 MB 670.8 kB/s eta 0:00:30\n",
      "     ------------- ------------------------ 10.8/30.5 MB 670.1 kB/s eta 0:00:30\n",
      "     ------------- ------------------------ 10.8/30.5 MB 667.4 kB/s eta 0:00:30\n",
      "     ------------- ------------------------ 10.8/30.5 MB 664.7 kB/s eta 0:00:30\n",
      "     ------------- ------------------------ 10.8/30.5 MB 664.7 kB/s eta 0:00:30\n",
      "     ------------- ------------------------ 10.9/30.5 MB 662.0 kB/s eta 0:00:30\n",
      "     ------------- ------------------------ 10.9/30.5 MB 667.4 kB/s eta 0:00:30\n",
      "     ------------- ------------------------ 10.9/30.5 MB 666.0 kB/s eta 0:00:30\n",
      "     ------------- ------------------------ 10.9/30.5 MB 664.7 kB/s eta 0:00:30\n",
      "     ------------- ------------------------ 11.0/30.5 MB 663.3 kB/s eta 0:00:30\n",
      "     ------------- ------------------------ 11.0/30.5 MB 662.0 kB/s eta 0:00:30\n",
      "     ------------- ------------------------ 11.0/30.5 MB 660.0 kB/s eta 0:00:30\n",
      "     ------------- ------------------------ 11.1/30.5 MB 657.4 kB/s eta 0:00:30\n",
      "     ------------- ------------------------ 11.1/30.5 MB 656.7 kB/s eta 0:00:30\n",
      "     ------------- ------------------------ 11.1/30.5 MB 654.1 kB/s eta 0:00:30\n",
      "     ------------- ------------------------ 11.1/30.5 MB 653.4 kB/s eta 0:00:30\n",
      "     ------------- ------------------------ 11.2/30.5 MB 650.8 kB/s eta 0:00:30\n",
      "     ------------- ------------------------ 11.2/30.5 MB 650.2 kB/s eta 0:00:30\n",
      "     ------------- ------------------------ 11.2/30.5 MB 652.7 kB/s eta 0:00:30\n",
      "     ------------- ------------------------ 11.2/30.5 MB 652.7 kB/s eta 0:00:30\n",
      "     -------------- ----------------------- 11.3/30.5 MB 649.5 kB/s eta 0:00:30\n",
      "     -------------- ----------------------- 11.3/30.5 MB 650.2 kB/s eta 0:00:30\n",
      "     -------------- ----------------------- 11.3/30.5 MB 650.8 kB/s eta 0:00:30\n",
      "     -------------- ----------------------- 11.4/30.5 MB 650.2 kB/s eta 0:00:30\n",
      "     -------------- ----------------------- 11.4/30.5 MB 658.6 kB/s eta 0:00:30\n",
      "     -------------- ----------------------- 11.4/30.5 MB 656.6 kB/s eta 0:00:30\n",
      "     -------------- ----------------------- 11.4/30.5 MB 666.0 kB/s eta 0:00:29\n",
      "     -------------- ----------------------- 11.5/30.5 MB 664.0 kB/s eta 0:00:29\n",
      "     -------------- ----------------------- 11.5/30.5 MB 664.0 kB/s eta 0:00:29\n",
      "     -------------- ----------------------- 11.6/30.5 MB 660.7 kB/s eta 0:00:29\n",
      "     -------------- ----------------------- 11.6/30.5 MB 660.7 kB/s eta 0:00:29\n",
      "     -------------- ----------------------- 11.6/30.5 MB 669.4 kB/s eta 0:00:29\n",
      "     -------------- ----------------------- 11.6/30.5 MB 667.4 kB/s eta 0:00:29\n",
      "     -------------- ----------------------- 11.6/30.5 MB 667.4 kB/s eta 0:00:29\n",
      "     -------------- ----------------------- 11.7/30.5 MB 677.0 kB/s eta 0:00:28\n",
      "     -------------- ----------------------- 11.7/30.5 MB 688.4 kB/s eta 0:00:28\n",
      "     -------------- ----------------------- 11.8/30.5 MB 687.0 kB/s eta 0:00:28\n",
      "     -------------- ----------------------- 11.8/30.5 MB 686.3 kB/s eta 0:00:28\n",
      "     -------------- ----------------------- 11.8/30.5 MB 695.8 kB/s eta 0:00:27\n",
      "     -------------- ----------------------- 11.8/30.5 MB 694.3 kB/s eta 0:00:27\n",
      "     -------------- ----------------------- 11.8/30.5 MB 694.3 kB/s eta 0:00:27\n",
      "     -------------- ----------------------- 11.9/30.5 MB 692.1 kB/s eta 0:00:27\n",
      "     -------------- ----------------------- 11.9/30.5 MB 690.6 kB/s eta 0:00:27\n",
      "     -------------- ----------------------- 12.0/30.5 MB 690.6 kB/s eta 0:00:27\n",
      "     -------------- ----------------------- 12.0/30.5 MB 689.9 kB/s eta 0:00:27\n",
      "     -------------- ----------------------- 12.0/30.5 MB 687.7 kB/s eta 0:00:27\n",
      "     -------------- ----------------------- 12.0/30.5 MB 685.5 kB/s eta 0:00:27\n",
      "     -------------- ----------------------- 12.1/30.5 MB 707.0 kB/s eta 0:00:27\n",
      "     --------------- ---------------------- 12.1/30.5 MB 705.5 kB/s eta 0:00:27\n",
      "     --------------- ---------------------- 12.1/30.5 MB 703.9 kB/s eta 0:00:27\n",
      "     --------------- ---------------------- 12.2/30.5 MB 701.0 kB/s eta 0:00:27\n",
      "     --------------- ---------------------- 12.2/30.5 MB 697.9 kB/s eta 0:00:27\n",
      "     --------------- ---------------------- 12.2/30.5 MB 704.7 kB/s eta 0:00:26\n",
      "     --------------- ---------------------- 12.3/30.5 MB 702.4 kB/s eta 0:00:27\n",
      "     --------------- ---------------------- 12.3/30.5 MB 702.4 kB/s eta 0:00:27\n",
      "     --------------- ---------------------- 12.3/30.5 MB 698.7 kB/s eta 0:00:27\n",
      "     --------------- ---------------------- 12.3/30.5 MB 697.2 kB/s eta 0:00:27\n",
      "     --------------- ---------------------- 12.4/30.5 MB 695.0 kB/s eta 0:00:27\n",
      "     --------------- ---------------------- 12.4/30.5 MB 692.8 kB/s eta 0:00:27\n",
      "     --------------- ---------------------- 12.4/30.5 MB 691.3 kB/s eta 0:00:27\n",
      "     --------------- ---------------------- 12.5/30.5 MB 689.2 kB/s eta 0:00:27\n",
      "     --------------- ---------------------- 12.5/30.5 MB 689.2 kB/s eta 0:00:27\n",
      "     --------------- ---------------------- 12.5/30.5 MB 691.3 kB/s eta 0:00:27\n",
      "     --------------- ---------------------- 12.6/30.5 MB 690.6 kB/s eta 0:00:27\n",
      "     --------------- ---------------------- 12.6/30.5 MB 691.3 kB/s eta 0:00:26\n",
      "     --------------- ---------------------- 12.6/30.5 MB 689.2 kB/s eta 0:00:26\n",
      "     --------------- ---------------------- 12.7/30.5 MB 689.9 kB/s eta 0:00:26\n",
      "     --------------- ---------------------- 12.7/30.5 MB 689.2 kB/s eta 0:00:26\n",
      "     --------------- ---------------------- 12.7/30.5 MB 689.2 kB/s eta 0:00:26\n",
      "     --------------- ---------------------- 12.7/30.5 MB 690.6 kB/s eta 0:00:26\n",
      "     --------------- ---------------------- 12.8/30.5 MB 687.7 kB/s eta 0:00:26\n",
      "     --------------- ---------------------- 12.8/30.5 MB 698.7 kB/s eta 0:00:26\n",
      "     ---------------- --------------------- 12.9/30.5 MB 698.8 kB/s eta 0:00:26\n",
      "     ---------------- --------------------- 12.9/30.5 MB 697.2 kB/s eta 0:00:26\n",
      "     ---------------- --------------------- 12.9/30.5 MB 697.2 kB/s eta 0:00:26\n",
      "     ---------------- --------------------- 13.0/30.5 MB 693.5 kB/s eta 0:00:26\n",
      "     ---------------- --------------------- 13.0/30.5 MB 693.5 kB/s eta 0:00:26\n",
      "     ---------------- --------------------- 13.0/30.5 MB 697.2 kB/s eta 0:00:26\n",
      "     ---------------- --------------------- 13.1/30.5 MB 695.0 kB/s eta 0:00:26\n",
      "     ---------------- --------------------- 13.1/30.5 MB 693.5 kB/s eta 0:00:26\n",
      "     ---------------- --------------------- 13.1/30.5 MB 693.5 kB/s eta 0:00:26\n",
      "     ---------------- --------------------- 13.1/30.5 MB 690.6 kB/s eta 0:00:26\n",
      "     ---------------- --------------------- 13.1/30.5 MB 687.7 kB/s eta 0:00:26\n",
      "     ---------------- --------------------- 13.2/30.5 MB 691.3 kB/s eta 0:00:26\n",
      "     ---------------- --------------------- 13.2/30.5 MB 691.3 kB/s eta 0:00:26\n",
      "     ---------------- --------------------- 13.3/30.5 MB 691.3 kB/s eta 0:00:25\n",
      "     ---------------- --------------------- 13.3/30.5 MB 690.6 kB/s eta 0:00:25\n",
      "     ---------------- --------------------- 13.3/30.5 MB 690.6 kB/s eta 0:00:25\n",
      "     ---------------- --------------------- 13.3/30.5 MB 692.0 kB/s eta 0:00:25\n",
      "     ---------------- --------------------- 13.4/30.5 MB 692.8 kB/s eta 0:00:25\n",
      "     ---------------- --------------------- 13.4/30.5 MB 695.0 kB/s eta 0:00:25\n",
      "     ---------------- --------------------- 13.5/30.5 MB 694.2 kB/s eta 0:00:25\n",
      "     ---------------- --------------------- 13.5/30.5 MB 694.3 kB/s eta 0:00:25\n",
      "     ---------------- --------------------- 13.5/30.5 MB 692.1 kB/s eta 0:00:25\n",
      "     ---------------- --------------------- 13.5/30.5 MB 694.2 kB/s eta 0:00:25\n",
      "     ---------------- --------------------- 13.5/30.5 MB 693.5 kB/s eta 0:00:25\n",
      "     ---------------- --------------------- 13.6/30.5 MB 695.8 kB/s eta 0:00:25\n",
      "     ---------------- --------------------- 13.6/30.5 MB 696.5 kB/s eta 0:00:25\n",
      "     ---------------- --------------------- 13.6/30.5 MB 695.8 kB/s eta 0:00:25\n",
      "     ----------------- -------------------- 13.7/30.5 MB 695.0 kB/s eta 0:00:25\n",
      "     ----------------- -------------------- 13.7/30.5 MB 695.8 kB/s eta 0:00:25\n",
      "     ----------------- -------------------- 13.7/30.5 MB 695.8 kB/s eta 0:00:25\n",
      "     ----------------- -------------------- 13.8/30.5 MB 696.5 kB/s eta 0:00:25\n",
      "     ----------------- -------------------- 13.8/30.5 MB 695.8 kB/s eta 0:00:25\n",
      "     ----------------- -------------------- 13.8/30.5 MB 696.5 kB/s eta 0:00:24\n",
      "     ----------------- -------------------- 13.9/30.5 MB 695.0 kB/s eta 0:00:25\n",
      "     ----------------- -------------------- 13.9/30.5 MB 697.3 kB/s eta 0:00:24\n",
      "     ----------------- -------------------- 13.9/30.5 MB 697.2 kB/s eta 0:00:24\n",
      "     ----------------- -------------------- 14.0/30.5 MB 698.0 kB/s eta 0:00:24\n",
      "     ----------------- -------------------- 14.0/30.5 MB 696.5 kB/s eta 0:00:24\n",
      "     ----------------- -------------------- 14.0/30.5 MB 697.2 kB/s eta 0:00:24\n",
      "     ----------------- -------------------- 14.1/30.5 MB 698.0 kB/s eta 0:00:24\n",
      "     ----------------- -------------------- 14.1/30.5 MB 698.0 kB/s eta 0:00:24\n",
      "     ----------------- -------------------- 14.1/30.5 MB 697.9 kB/s eta 0:00:24\n",
      "     ----------------- -------------------- 14.2/30.5 MB 698.0 kB/s eta 0:00:24\n",
      "     ----------------- -------------------- 14.2/30.5 MB 698.7 kB/s eta 0:00:24\n",
      "     ----------------- -------------------- 14.2/30.5 MB 697.9 kB/s eta 0:00:24\n",
      "     ----------------- -------------------- 14.3/30.5 MB 697.3 kB/s eta 0:00:24\n",
      "     ----------------- -------------------- 14.3/30.5 MB 698.7 kB/s eta 0:00:24\n",
      "     ----------------- -------------------- 14.3/30.5 MB 698.7 kB/s eta 0:00:24\n",
      "     ----------------- -------------------- 14.4/30.5 MB 699.5 kB/s eta 0:00:24\n",
      "     ----------------- -------------------- 14.4/30.5 MB 699.5 kB/s eta 0:00:24\n",
      "     ----------------- -------------------- 14.4/30.5 MB 698.0 kB/s eta 0:00:24\n",
      "     ------------------ ------------------- 14.5/30.5 MB 698.7 kB/s eta 0:00:23\n",
      "     ------------------ ------------------- 14.5/30.5 MB 699.5 kB/s eta 0:00:23\n",
      "     ------------------ ------------------- 14.5/30.5 MB 696.5 kB/s eta 0:00:23\n",
      "     ------------------ ------------------- 14.6/30.5 MB 698.7 kB/s eta 0:00:23\n",
      "     ------------------ ------------------- 14.6/30.5 MB 699.5 kB/s eta 0:00:23\n",
      "     ------------------ ------------------- 14.6/30.5 MB 699.5 kB/s eta 0:00:23\n",
      "     ------------------ ------------------- 14.7/30.5 MB 699.5 kB/s eta 0:00:23\n",
      "     ------------------ ------------------- 14.7/30.5 MB 697.2 kB/s eta 0:00:23\n",
      "     ------------------ ------------------- 14.7/30.5 MB 700.2 kB/s eta 0:00:23\n",
      "     ------------------ ------------------- 14.8/30.5 MB 701.0 kB/s eta 0:00:23\n",
      "     ------------------ ------------------- 14.8/30.5 MB 701.0 kB/s eta 0:00:23\n",
      "     ------------------ ------------------- 14.8/30.5 MB 699.5 kB/s eta 0:00:23\n",
      "     ------------------ ------------------- 14.8/30.5 MB 699.5 kB/s eta 0:00:23\n",
      "     ------------------ ------------------- 14.8/30.5 MB 699.5 kB/s eta 0:00:23\n",
      "     ------------------ ------------------- 14.8/30.5 MB 699.5 kB/s eta 0:00:23\n",
      "     ------------------ ------------------- 14.8/30.5 MB 699.5 kB/s eta 0:00:23\n",
      "     ------------------ ------------------- 14.8/30.5 MB 690.6 kB/s eta 0:00:23\n",
      "     ------------------ ------------------- 14.8/30.5 MB 689.8 kB/s eta 0:00:23\n",
      "     ------------------ ------------------- 14.9/30.5 MB 695.8 kB/s eta 0:00:23\n",
      "     ------------------ ------------------- 14.9/30.5 MB 695.8 kB/s eta 0:00:23\n",
      "     ------------------ ------------------- 14.9/30.5 MB 695.8 kB/s eta 0:00:23\n",
      "     ------------------ ------------------- 15.0/30.5 MB 690.6 kB/s eta 0:00:23\n",
      "     ------------------ ------------------- 15.1/30.5 MB 697.2 kB/s eta 0:00:23\n",
      "     ------------------ ------------------- 15.1/30.5 MB 697.2 kB/s eta 0:00:23\n",
      "     ------------------ ------------------- 15.1/30.5 MB 697.2 kB/s eta 0:00:23\n",
      "     ------------------ ------------------- 15.1/30.5 MB 694.2 kB/s eta 0:00:23\n",
      "     ------------------ ------------------- 15.2/30.5 MB 692.8 kB/s eta 0:00:23\n",
      "     ------------------ ------------------- 15.2/30.5 MB 692.8 kB/s eta 0:00:23\n",
      "     ------------------ ------------------- 15.2/30.5 MB 692.8 kB/s eta 0:00:23\n",
      "     ------------------ ------------------- 15.2/30.5 MB 692.1 kB/s eta 0:00:23\n",
      "     ------------------ ------------------- 15.3/30.5 MB 692.8 kB/s eta 0:00:23\n",
      "     ------------------- ------------------ 15.3/30.5 MB 692.1 kB/s eta 0:00:23\n",
      "     ------------------- ------------------ 15.3/30.5 MB 691.3 kB/s eta 0:00:23\n",
      "     ------------------- ------------------ 15.3/30.5 MB 689.9 kB/s eta 0:00:23\n",
      "     ------------------- ------------------ 15.4/30.5 MB 689.9 kB/s eta 0:00:22\n",
      "     ------------------- ------------------ 15.4/30.5 MB 689.8 kB/s eta 0:00:22\n",
      "     ------------------- ------------------ 15.4/30.5 MB 689.8 kB/s eta 0:00:22\n",
      "     ------------------- ------------------ 15.4/30.5 MB 689.2 kB/s eta 0:00:22\n",
      "     ------------------- ------------------ 15.5/30.5 MB 689.9 kB/s eta 0:00:22\n",
      "     ------------------- ------------------ 15.5/30.5 MB 689.2 kB/s eta 0:00:22\n",
      "     ------------------- ------------------ 15.5/30.5 MB 689.2 kB/s eta 0:00:22\n",
      "     ------------------- ------------------ 15.5/30.5 MB 687.0 kB/s eta 0:00:22\n",
      "     ------------------- ------------------ 15.5/30.5 MB 685.6 kB/s eta 0:00:22\n",
      "     ------------------- ------------------ 15.6/30.5 MB 687.0 kB/s eta 0:00:22\n",
      "     ------------------- ------------------ 15.6/30.5 MB 687.0 kB/s eta 0:00:22\n",
      "     ------------------- ------------------ 15.6/30.5 MB 687.7 kB/s eta 0:00:22\n",
      "     ------------------- ------------------ 15.7/30.5 MB 687.0 kB/s eta 0:00:22\n",
      "     ------------------- ------------------ 15.7/30.5 MB 685.5 kB/s eta 0:00:22\n",
      "     ------------------- ------------------ 15.7/30.5 MB 685.6 kB/s eta 0:00:22\n",
      "     ------------------- ------------------ 15.7/30.5 MB 685.5 kB/s eta 0:00:22\n",
      "     ------------------- ------------------ 15.7/30.5 MB 685.5 kB/s eta 0:00:22\n",
      "     ------------------- ------------------ 15.8/30.5 MB 682.7 kB/s eta 0:00:22\n",
      "     ------------------- ------------------ 15.8/30.5 MB 682.7 kB/s eta 0:00:22\n",
      "     ------------------- ------------------ 15.8/30.5 MB 682.7 kB/s eta 0:00:22\n",
      "     ------------------- ------------------ 15.9/30.5 MB 682.7 kB/s eta 0:00:22\n",
      "     ------------------- ------------------ 15.9/30.5 MB 682.7 kB/s eta 0:00:22\n",
      "     ------------------- ------------------ 15.9/30.5 MB 682.0 kB/s eta 0:00:22\n",
      "     ------------------- ------------------ 16.0/30.5 MB 682.0 kB/s eta 0:00:22\n",
      "     ------------------- ------------------ 16.0/30.5 MB 682.7 kB/s eta 0:00:22\n",
      "     ------------------- ------------------ 16.1/30.5 MB 682.7 kB/s eta 0:00:22\n",
      "     ------------------- ------------------ 16.1/30.5 MB 681.3 kB/s eta 0:00:22\n",
      "     -------------------- ----------------- 16.1/30.5 MB 681.3 kB/s eta 0:00:22\n",
      "     -------------------- ----------------- 16.1/30.5 MB 681.3 kB/s eta 0:00:22\n",
      "     -------------------- ----------------- 16.2/30.5 MB 682.0 kB/s eta 0:00:22\n",
      "     -------------------- ----------------- 16.2/30.5 MB 682.0 kB/s eta 0:00:21\n",
      "     -------------------- ----------------- 16.3/30.5 MB 681.3 kB/s eta 0:00:21\n",
      "     -------------------- ----------------- 16.3/30.5 MB 679.9 kB/s eta 0:00:21\n",
      "     -------------------- ----------------- 16.3/30.5 MB 682.0 kB/s eta 0:00:21\n",
      "     -------------------- ----------------- 16.3/30.5 MB 682.0 kB/s eta 0:00:21\n",
      "     -------------------- ----------------- 16.4/30.5 MB 682.0 kB/s eta 0:00:21\n",
      "     -------------------- ----------------- 16.4/30.5 MB 680.6 kB/s eta 0:00:21\n",
      "     -------------------- ----------------- 16.4/30.5 MB 690.6 kB/s eta 0:00:21\n",
      "     -------------------- ----------------- 16.5/30.5 MB 690.6 kB/s eta 0:00:21\n",
      "     -------------------- ----------------- 16.5/30.5 MB 689.2 kB/s eta 0:00:21\n",
      "     -------------------- ----------------- 16.5/30.5 MB 687.0 kB/s eta 0:00:21\n",
      "     -------------------- ----------------- 16.6/30.5 MB 691.3 kB/s eta 0:00:21\n",
      "     -------------------- ----------------- 16.6/30.5 MB 690.6 kB/s eta 0:00:21\n",
      "     -------------------- ----------------- 16.6/30.5 MB 688.5 kB/s eta 0:00:21\n",
      "     -------------------- ----------------- 16.7/30.5 MB 686.3 kB/s eta 0:00:21\n",
      "     -------------------- ----------------- 16.7/30.5 MB 684.1 kB/s eta 0:00:21\n",
      "     -------------------- ----------------- 16.7/30.5 MB 684.1 kB/s eta 0:00:21\n",
      "     -------------------- ----------------- 16.8/30.5 MB 687.0 kB/s eta 0:00:21\n",
      "     -------------------- ----------------- 16.8/30.5 MB 688.5 kB/s eta 0:00:20\n",
      "     -------------------- ----------------- 16.8/30.5 MB 687.0 kB/s eta 0:00:20\n",
      "     -------------------- ----------------- 16.9/30.5 MB 689.2 kB/s eta 0:00:20\n",
      "     --------------------- ---------------- 16.9/30.5 MB 689.2 kB/s eta 0:00:20\n",
      "     --------------------- ---------------- 16.9/30.5 MB 689.9 kB/s eta 0:00:20\n",
      "     --------------------- ---------------- 16.9/30.5 MB 690.6 kB/s eta 0:00:20\n",
      "     --------------------- ---------------- 17.0/30.5 MB 689.9 kB/s eta 0:00:20\n",
      "     --------------------- ---------------- 17.0/30.5 MB 692.8 kB/s eta 0:00:20\n",
      "     --------------------- ---------------- 17.0/30.5 MB 692.8 kB/s eta 0:00:20\n",
      "     --------------------- ---------------- 17.0/30.5 MB 692.8 kB/s eta 0:00:20\n",
      "     --------------------- ---------------- 17.0/30.5 MB 692.8 kB/s eta 0:00:20\n",
      "     --------------------- ---------------- 17.0/30.5 MB 692.8 kB/s eta 0:00:20\n",
      "     --------------------- ---------------- 17.0/30.5 MB 692.8 kB/s eta 0:00:20\n",
      "     --------------------- ---------------- 17.0/30.5 MB 682.7 kB/s eta 0:00:20\n",
      "     --------------------- ---------------- 17.1/30.5 MB 685.5 kB/s eta 0:00:20\n",
      "     --------------------- ---------------- 17.2/30.5 MB 692.1 kB/s eta 0:00:20\n",
      "     --------------------- ---------------- 17.2/30.5 MB 692.1 kB/s eta 0:00:20\n",
      "     --------------------- ---------------- 17.2/30.5 MB 688.4 kB/s eta 0:00:20\n",
      "     --------------------- ---------------- 17.3/30.5 MB 690.6 kB/s eta 0:00:20\n",
      "     --------------------- ---------------- 17.3/30.5 MB 690.6 kB/s eta 0:00:20\n",
      "     --------------------- ---------------- 17.3/30.5 MB 689.9 kB/s eta 0:00:20\n",
      "     --------------------- ---------------- 17.3/30.5 MB 690.6 kB/s eta 0:00:20\n",
      "     --------------------- ---------------- 17.4/30.5 MB 687.7 kB/s eta 0:00:20\n",
      "     --------------------- ---------------- 17.4/30.5 MB 687.7 kB/s eta 0:00:20\n",
      "     --------------------- ---------------- 17.4/30.5 MB 687.7 kB/s eta 0:00:20\n",
      "     --------------------- ---------------- 17.5/30.5 MB 690.6 kB/s eta 0:00:19\n",
      "     --------------------- ---------------- 17.5/30.5 MB 690.6 kB/s eta 0:00:19\n",
      "     --------------------- ---------------- 17.5/30.5 MB 687.7 kB/s eta 0:00:19\n",
      "     --------------------- ---------------- 17.5/30.5 MB 688.4 kB/s eta 0:00:19\n",
      "     --------------------- ---------------- 17.6/30.5 MB 686.3 kB/s eta 0:00:19\n",
      "     --------------------- ---------------- 17.6/30.5 MB 688.5 kB/s eta 0:00:19\n",
      "     --------------------- ---------------- 17.6/30.5 MB 687.0 kB/s eta 0:00:19\n",
      "     --------------------- ---------------- 17.6/30.5 MB 685.5 kB/s eta 0:00:19\n",
      "     --------------------- ---------------- 17.6/30.5 MB 687.0 kB/s eta 0:00:19\n",
      "     --------------------- ---------------- 17.7/30.5 MB 686.3 kB/s eta 0:00:19\n",
      "     ---------------------- --------------- 17.7/30.5 MB 685.5 kB/s eta 0:00:19\n",
      "     ---------------------- --------------- 17.7/30.5 MB 686.3 kB/s eta 0:00:19\n",
      "     ---------------------- --------------- 17.8/30.5 MB 684.9 kB/s eta 0:00:19\n",
      "     ---------------------- --------------- 17.8/30.5 MB 684.9 kB/s eta 0:00:19\n",
      "     ---------------------- --------------- 17.8/30.5 MB 684.1 kB/s eta 0:00:19\n",
      "     ---------------------- --------------- 17.9/30.5 MB 684.9 kB/s eta 0:00:19\n",
      "     ---------------------- --------------- 17.9/30.5 MB 684.9 kB/s eta 0:00:19\n",
      "     ---------------------- --------------- 17.9/30.5 MB 683.4 kB/s eta 0:00:19\n",
      "     ---------------------- --------------- 17.9/30.5 MB 684.1 kB/s eta 0:00:19\n",
      "     ---------------------- --------------- 18.0/30.5 MB 685.5 kB/s eta 0:00:19\n",
      "     ---------------------- --------------- 18.0/30.5 MB 684.1 kB/s eta 0:00:19\n",
      "     ---------------------- --------------- 18.0/30.5 MB 684.1 kB/s eta 0:00:19\n",
      "     ---------------------- --------------- 18.0/30.5 MB 682.0 kB/s eta 0:00:19\n",
      "     ---------------------- --------------- 18.1/30.5 MB 682.7 kB/s eta 0:00:19\n",
      "     ---------------------- --------------- 18.1/30.5 MB 682.0 kB/s eta 0:00:19\n",
      "     ---------------------- --------------- 18.1/30.5 MB 682.0 kB/s eta 0:00:19\n",
      "     ---------------------- --------------- 18.1/30.5 MB 682.7 kB/s eta 0:00:19\n",
      "     ---------------------- --------------- 18.2/30.5 MB 682.7 kB/s eta 0:00:19\n",
      "     ---------------------- --------------- 18.2/30.5 MB 681.3 kB/s eta 0:00:19\n",
      "     ---------------------- --------------- 18.2/30.5 MB 680.6 kB/s eta 0:00:19\n",
      "     ---------------------- --------------- 18.2/30.5 MB 680.6 kB/s eta 0:00:19\n",
      "     ---------------------- --------------- 18.3/30.5 MB 679.1 kB/s eta 0:00:19\n",
      "     ---------------------- --------------- 18.3/30.5 MB 681.3 kB/s eta 0:00:18\n",
      "     ---------------------- --------------- 18.3/30.5 MB 680.6 kB/s eta 0:00:18\n",
      "     ---------------------- --------------- 18.3/30.5 MB 680.5 kB/s eta 0:00:18\n",
      "     ---------------------- --------------- 18.4/30.5 MB 680.5 kB/s eta 0:00:18\n",
      "     ---------------------- --------------- 18.4/30.5 MB 679.9 kB/s eta 0:00:18\n",
      "     ---------------------- --------------- 18.4/30.5 MB 678.5 kB/s eta 0:00:18\n",
      "     ---------------------- --------------- 18.4/30.5 MB 678.4 kB/s eta 0:00:18\n",
      "     ---------------------- --------------- 18.4/30.5 MB 678.4 kB/s eta 0:00:18\n",
      "     ---------------------- --------------- 18.4/30.5 MB 678.4 kB/s eta 0:00:18\n",
      "     ---------------------- --------------- 18.4/30.5 MB 678.4 kB/s eta 0:00:18\n",
      "     ---------------------- --------------- 18.4/30.5 MB 678.4 kB/s eta 0:00:18\n",
      "     ---------------------- --------------- 18.4/30.5 MB 670.8 kB/s eta 0:00:19\n",
      "     ---------------------- --------------- 18.5/30.5 MB 670.1 kB/s eta 0:00:19\n",
      "     ----------------------- -------------- 18.6/30.5 MB 676.3 kB/s eta 0:00:18\n",
      "     ----------------------- -------------- 18.6/30.5 MB 674.9 kB/s eta 0:00:18\n",
      "     ----------------------- -------------- 18.6/30.5 MB 675.6 kB/s eta 0:00:18\n",
      "     ----------------------- -------------- 18.6/30.5 MB 675.6 kB/s eta 0:00:18\n",
      "     ----------------------- -------------- 18.6/30.5 MB 675.6 kB/s eta 0:00:18\n",
      "     ----------------------- -------------- 18.6/30.5 MB 675.6 kB/s eta 0:00:18\n",
      "     ----------------------- -------------- 18.6/30.5 MB 675.6 kB/s eta 0:00:18\n",
      "     ----------------------- -------------- 18.6/30.5 MB 675.6 kB/s eta 0:00:18\n",
      "     ----------------------- -------------- 18.6/30.5 MB 675.6 kB/s eta 0:00:18\n",
      "     ----------------------- -------------- 18.7/30.5 MB 663.4 kB/s eta 0:00:18\n",
      "     ----------------------- -------------- 18.7/30.5 MB 663.4 kB/s eta 0:00:18\n",
      "     ----------------------- -------------- 18.7/30.5 MB 663.4 kB/s eta 0:00:18\n",
      "     ----------------------- -------------- 18.8/30.5 MB 662.6 kB/s eta 0:00:18\n",
      "     ----------------------- -------------- 18.8/30.5 MB 662.6 kB/s eta 0:00:18\n",
      "     ----------------------- -------------- 18.8/30.5 MB 660.0 kB/s eta 0:00:18\n",
      "     ----------------------- -------------- 18.8/30.5 MB 660.0 kB/s eta 0:00:18\n",
      "     ----------------------- -------------- 18.8/30.5 MB 658.6 kB/s eta 0:00:18\n",
      "     ----------------------- -------------- 18.8/30.5 MB 656.0 kB/s eta 0:00:18\n",
      "     ----------------------- -------------- 18.9/30.5 MB 654.7 kB/s eta 0:00:18\n",
      "     ----------------------- -------------- 18.9/30.5 MB 654.7 kB/s eta 0:00:18\n",
      "     ----------------------- -------------- 18.9/30.5 MB 652.7 kB/s eta 0:00:18\n",
      "     ----------------------- -------------- 18.9/30.5 MB 651.5 kB/s eta 0:00:18\n",
      "     ----------------------- -------------- 18.9/30.5 MB 650.2 kB/s eta 0:00:18\n",
      "     ----------------------- -------------- 18.9/30.5 MB 650.2 kB/s eta 0:00:18\n",
      "     ----------------------- -------------- 19.0/30.5 MB 648.9 kB/s eta 0:00:18\n",
      "     ----------------------- -------------- 19.0/30.5 MB 647.0 kB/s eta 0:00:18\n",
      "     ----------------------- -------------- 19.0/30.5 MB 647.6 kB/s eta 0:00:18\n",
      "     ----------------------- -------------- 19.0/30.5 MB 647.6 kB/s eta 0:00:18\n",
      "     ----------------------- -------------- 19.0/30.5 MB 646.3 kB/s eta 0:00:18\n",
      "     ----------------------- -------------- 19.0/30.5 MB 645.0 kB/s eta 0:00:18\n",
      "     ----------------------- -------------- 19.0/30.5 MB 641.9 kB/s eta 0:00:18\n",
      "     ----------------------- -------------- 19.1/30.5 MB 641.2 kB/s eta 0:00:18\n",
      "     ----------------------- -------------- 19.1/30.5 MB 639.4 kB/s eta 0:00:18\n",
      "     ----------------------- -------------- 19.1/30.5 MB 638.8 kB/s eta 0:00:18\n",
      "     ----------------------- -------------- 19.1/30.5 MB 637.5 kB/s eta 0:00:18\n",
      "     ----------------------- -------------- 19.1/30.5 MB 637.5 kB/s eta 0:00:18\n",
      "     ----------------------- -------------- 19.2/30.5 MB 636.9 kB/s eta 0:00:18\n",
      "     ----------------------- -------------- 19.2/30.5 MB 635.0 kB/s eta 0:00:18\n",
      "     ----------------------- -------------- 19.2/30.5 MB 635.7 kB/s eta 0:00:18\n",
      "     ----------------------- -------------- 19.2/30.5 MB 633.8 kB/s eta 0:00:18\n",
      "     ----------------------- -------------- 19.2/30.5 MB 633.8 kB/s eta 0:00:18\n",
      "     ----------------------- -------------- 19.2/30.5 MB 631.9 kB/s eta 0:00:18\n",
      "     ----------------------- -------------- 19.2/30.5 MB 631.9 kB/s eta 0:00:18\n",
      "     ----------------------- -------------- 19.3/30.5 MB 630.1 kB/s eta 0:00:18\n",
      "     ------------------------ ------------- 19.3/30.5 MB 630.1 kB/s eta 0:00:18\n",
      "     ------------------------ ------------- 19.3/30.5 MB 630.1 kB/s eta 0:00:18\n",
      "     ------------------------ ------------- 19.3/30.5 MB 627.7 kB/s eta 0:00:18\n",
      "     ------------------------ ------------- 19.3/30.5 MB 627.1 kB/s eta 0:00:18\n",
      "     ------------------------ ------------- 19.3/30.5 MB 626.5 kB/s eta 0:00:18\n",
      "     ------------------------ ------------- 19.4/30.5 MB 625.3 kB/s eta 0:00:18\n",
      "     ------------------------ ------------- 19.4/30.5 MB 624.1 kB/s eta 0:00:18\n",
      "     ------------------------ ------------- 19.4/30.5 MB 623.5 kB/s eta 0:00:18\n",
      "     ------------------------ ------------- 19.4/30.5 MB 621.8 kB/s eta 0:00:18\n",
      "     ------------------------ ------------- 19.4/30.5 MB 621.2 kB/s eta 0:00:18\n",
      "     ------------------------ ------------- 19.5/30.5 MB 620.0 kB/s eta 0:00:18\n",
      "     ------------------------ ------------- 19.5/30.5 MB 619.4 kB/s eta 0:00:18\n",
      "     ------------------------ ------------- 19.5/30.5 MB 618.8 kB/s eta 0:00:18\n",
      "     ------------------------ ------------- 19.5/30.5 MB 619.4 kB/s eta 0:00:18\n",
      "     ------------------------ ------------- 19.5/30.5 MB 617.7 kB/s eta 0:00:18\n",
      "     ------------------------ ------------- 19.5/30.5 MB 616.5 kB/s eta 0:00:18\n",
      "     ------------------------ ------------- 19.5/30.5 MB 616.5 kB/s eta 0:00:18\n",
      "     ------------------------ ------------- 19.6/30.5 MB 614.7 kB/s eta 0:00:18\n",
      "     ------------------------ ------------- 19.6/30.5 MB 614.2 kB/s eta 0:00:18\n",
      "     ------------------------ ------------- 19.6/30.5 MB 613.6 kB/s eta 0:00:18\n",
      "     ------------------------ ------------- 19.6/30.5 MB 613.0 kB/s eta 0:00:18\n",
      "     ------------------------ ------------- 19.6/30.5 MB 611.9 kB/s eta 0:00:18\n",
      "     ------------------------ ------------- 19.7/30.5 MB 611.3 kB/s eta 0:00:18\n",
      "     ------------------------ ------------- 19.7/30.5 MB 609.6 kB/s eta 0:00:18\n",
      "     ------------------------ ------------- 19.7/30.5 MB 609.6 kB/s eta 0:00:18\n",
      "     ------------------------ ------------- 19.7/30.5 MB 608.5 kB/s eta 0:00:18\n",
      "     ------------------------ ------------- 19.7/30.5 MB 608.5 kB/s eta 0:00:18\n",
      "     ------------------------ ------------- 19.7/30.5 MB 607.3 kB/s eta 0:00:18\n",
      "     ------------------------ ------------- 19.7/30.5 MB 606.7 kB/s eta 0:00:18\n",
      "     ------------------------ ------------- 19.8/30.5 MB 605.6 kB/s eta 0:00:18\n",
      "     ------------------------ ------------- 19.8/30.5 MB 605.1 kB/s eta 0:00:18\n",
      "     ------------------------ ------------- 19.8/30.5 MB 604.5 kB/s eta 0:00:18\n",
      "     ------------------------ ------------- 19.8/30.5 MB 603.4 kB/s eta 0:00:18\n",
      "     ------------------------ ------------- 19.8/30.5 MB 602.8 kB/s eta 0:00:18\n",
      "     ------------------------ ------------- 19.8/30.5 MB 601.2 kB/s eta 0:00:18\n",
      "     ------------------------ ------------- 19.9/30.5 MB 601.8 kB/s eta 0:00:18\n",
      "     ------------------------ ------------- 19.9/30.5 MB 600.1 kB/s eta 0:00:18\n",
      "     ------------------------ ------------- 19.9/30.5 MB 599.6 kB/s eta 0:00:18\n",
      "     ------------------------ ------------- 19.9/30.5 MB 599.0 kB/s eta 0:00:18\n",
      "     ------------------------ ------------- 19.9/30.5 MB 597.9 kB/s eta 0:00:18\n",
      "     ------------------------ ------------- 19.9/30.5 MB 597.9 kB/s eta 0:00:18\n",
      "     ------------------------ ------------- 19.9/30.5 MB 596.3 kB/s eta 0:00:18\n",
      "     ------------------------ ------------- 20.0/30.5 MB 595.2 kB/s eta 0:00:18\n",
      "     ------------------------ ------------- 20.0/30.5 MB 595.2 kB/s eta 0:00:18\n",
      "     ------------------------ ------------- 20.0/30.5 MB 594.1 kB/s eta 0:00:18\n",
      "     ------------------------ ------------- 20.0/30.5 MB 594.1 kB/s eta 0:00:18\n",
      "     ------------------------ ------------- 20.0/30.5 MB 593.0 kB/s eta 0:00:18\n",
      "     ------------------------ ------------- 20.1/30.5 MB 591.9 kB/s eta 0:00:18\n",
      "     ------------------------ ------------- 20.1/30.5 MB 591.9 kB/s eta 0:00:18\n",
      "     ------------------------ ------------- 20.1/30.5 MB 590.4 kB/s eta 0:00:18\n",
      "     ------------------------- ------------ 20.1/30.5 MB 589.8 kB/s eta 0:00:18\n",
      "     ------------------------- ------------ 20.1/30.5 MB 589.3 kB/s eta 0:00:18\n",
      "     ------------------------- ------------ 20.1/30.5 MB 588.2 kB/s eta 0:00:18\n",
      "     ------------------------- ------------ 20.2/30.5 MB 595.7 kB/s eta 0:00:18\n",
      "     ------------------------- ------------ 20.2/30.5 MB 594.6 kB/s eta 0:00:18\n",
      "     ------------------------- ------------ 20.2/30.5 MB 593.6 kB/s eta 0:00:18\n",
      "     ------------------------- ------------ 20.2/30.5 MB 592.0 kB/s eta 0:00:18\n",
      "     ------------------------- ------------ 20.2/30.5 MB 590.9 kB/s eta 0:00:18\n",
      "     ------------------------- ------------ 20.2/30.5 MB 589.8 kB/s eta 0:00:18\n",
      "     ------------------------- ------------ 20.2/30.5 MB 588.3 kB/s eta 0:00:18\n",
      "     ------------------------- ------------ 20.3/30.5 MB 590.4 kB/s eta 0:00:18\n",
      "     ------------------------- ------------ 20.3/30.5 MB 588.2 kB/s eta 0:00:18\n",
      "     ------------------------- ------------ 20.3/30.5 MB 587.2 kB/s eta 0:00:18\n",
      "     ------------------------- ------------ 20.3/30.5 MB 588.8 kB/s eta 0:00:18\n",
      "     ------------------------- ------------ 20.3/30.5 MB 587.7 kB/s eta 0:00:18\n",
      "     ------------------------- ------------ 20.3/30.5 MB 586.1 kB/s eta 0:00:18\n",
      "     ------------------------- ------------ 20.4/30.5 MB 584.6 kB/s eta 0:00:18\n",
      "     ------------------------- ------------ 20.4/30.5 MB 583.0 kB/s eta 0:00:18\n",
      "     ------------------------- ------------ 20.4/30.5 MB 581.4 kB/s eta 0:00:18\n",
      "     ------------------------- ------------ 20.4/30.5 MB 580.9 kB/s eta 0:00:18\n",
      "     ------------------------- ------------ 20.4/30.5 MB 579.4 kB/s eta 0:00:18\n",
      "     ------------------------- ------------ 20.4/30.5 MB 578.4 kB/s eta 0:00:18\n",
      "     ------------------------- ------------ 20.5/30.5 MB 577.9 kB/s eta 0:00:18\n",
      "     ------------------------- ------------ 20.5/30.5 MB 578.4 kB/s eta 0:00:18\n",
      "     ------------------------- ------------ 20.5/30.5 MB 576.8 kB/s eta 0:00:18\n",
      "     ------------------------- ------------ 20.5/30.5 MB 577.3 kB/s eta 0:00:18\n",
      "     ------------------------- ------------ 20.5/30.5 MB 576.8 kB/s eta 0:00:18\n",
      "     ------------------------- ------------ 20.6/30.5 MB 576.3 kB/s eta 0:00:18\n",
      "     ------------------------- ------------ 20.6/30.5 MB 574.8 kB/s eta 0:00:18\n",
      "     ------------------------- ------------ 20.6/30.5 MB 575.3 kB/s eta 0:00:18\n",
      "     ------------------------- ------------ 20.6/30.5 MB 575.8 kB/s eta 0:00:18\n",
      "     ------------------------- ------------ 20.6/30.5 MB 575.8 kB/s eta 0:00:18\n",
      "     ------------------------- ------------ 20.6/30.5 MB 575.8 kB/s eta 0:00:18\n",
      "     ------------------------- ------------ 20.7/30.5 MB 574.3 kB/s eta 0:00:18\n",
      "     ------------------------- ------------ 20.7/30.5 MB 573.8 kB/s eta 0:00:18\n",
      "     ------------------------- ------------ 20.7/30.5 MB 573.3 kB/s eta 0:00:18\n",
      "     ------------------------- ------------ 20.7/30.5 MB 573.3 kB/s eta 0:00:18\n",
      "     ------------------------- ------------ 20.7/30.5 MB 572.8 kB/s eta 0:00:18\n",
      "     ------------------------- ------------ 20.7/30.5 MB 572.8 kB/s eta 0:00:18\n",
      "     ------------------------- ------------ 20.7/30.5 MB 572.3 kB/s eta 0:00:18\n",
      "     ------------------------- ------------ 20.7/30.5 MB 572.3 kB/s eta 0:00:18\n",
      "     ------------------------- ------------ 20.8/30.5 MB 570.8 kB/s eta 0:00:18\n",
      "     ------------------------- ------------ 20.8/30.5 MB 570.8 kB/s eta 0:00:18\n",
      "     ------------------------- ------------ 20.8/30.5 MB 570.8 kB/s eta 0:00:18\n",
      "     ------------------------- ------------ 20.8/30.5 MB 568.3 kB/s eta 0:00:18\n",
      "     ------------------------- ------------ 20.8/30.5 MB 567.3 kB/s eta 0:00:18\n",
      "     ------------------------- ------------ 20.9/30.5 MB 568.3 kB/s eta 0:00:18\n",
      "     ------------------------- ------------ 20.9/30.5 MB 567.3 kB/s eta 0:00:18\n",
      "     -------------------------- ----------- 20.9/30.5 MB 567.3 kB/s eta 0:00:17\n",
      "     -------------------------- ----------- 20.9/30.5 MB 567.8 kB/s eta 0:00:17\n",
      "     -------------------------- ----------- 20.9/30.5 MB 567.8 kB/s eta 0:00:17\n",
      "     -------------------------- ----------- 21.0/30.5 MB 565.4 kB/s eta 0:00:17\n",
      "     -------------------------- ----------- 21.0/30.5 MB 564.9 kB/s eta 0:00:17\n",
      "     -------------------------- ----------- 21.0/30.5 MB 565.9 kB/s eta 0:00:17\n",
      "     -------------------------- ----------- 21.0/30.5 MB 563.9 kB/s eta 0:00:17\n",
      "     -------------------------- ----------- 21.0/30.5 MB 564.4 kB/s eta 0:00:17\n",
      "     -------------------------- ----------- 21.1/30.5 MB 563.9 kB/s eta 0:00:17\n",
      "     -------------------------- ----------- 21.1/30.5 MB 563.9 kB/s eta 0:00:17\n",
      "     -------------------------- ----------- 21.1/30.5 MB 562.9 kB/s eta 0:00:17\n",
      "     -------------------------- ----------- 21.1/30.5 MB 563.4 kB/s eta 0:00:17\n",
      "     -------------------------- ----------- 21.1/30.5 MB 563.0 kB/s eta 0:00:17\n",
      "     -------------------------- ----------- 21.1/30.5 MB 562.4 kB/s eta 0:00:17\n",
      "     -------------------------- ----------- 21.2/30.5 MB 561.5 kB/s eta 0:00:17\n",
      "     -------------------------- ----------- 21.2/30.5 MB 561.0 kB/s eta 0:00:17\n",
      "     -------------------------- ----------- 21.2/30.5 MB 561.0 kB/s eta 0:00:17\n",
      "     -------------------------- ----------- 21.2/30.5 MB 561.0 kB/s eta 0:00:17\n",
      "     -------------------------- ----------- 21.2/30.5 MB 561.0 kB/s eta 0:00:17\n",
      "     -------------------------- ----------- 21.3/30.5 MB 560.5 kB/s eta 0:00:17\n",
      "     -------------------------- ----------- 21.3/30.5 MB 559.1 kB/s eta 0:00:17\n",
      "     -------------------------- ----------- 21.3/30.5 MB 558.6 kB/s eta 0:00:17\n",
      "     -------------------------- ----------- 21.3/30.5 MB 560.0 kB/s eta 0:00:17\n",
      "     -------------------------- ----------- 21.4/30.5 MB 558.1 kB/s eta 0:00:17\n",
      "     -------------------------- ----------- 21.4/30.5 MB 558.1 kB/s eta 0:00:17\n",
      "     -------------------------- ----------- 21.4/30.5 MB 557.2 kB/s eta 0:00:17\n",
      "     -------------------------- ----------- 21.4/30.5 MB 557.7 kB/s eta 0:00:17\n",
      "     -------------------------- ----------- 21.4/30.5 MB 556.7 kB/s eta 0:00:17\n",
      "     -------------------------- ----------- 21.4/30.5 MB 556.7 kB/s eta 0:00:17\n",
      "     -------------------------- ----------- 21.4/30.5 MB 555.3 kB/s eta 0:00:17\n",
      "     -------------------------- ----------- 21.5/30.5 MB 555.3 kB/s eta 0:00:17\n",
      "     -------------------------- ----------- 21.5/30.5 MB 556.3 kB/s eta 0:00:17\n",
      "     -------------------------- ----------- 21.5/30.5 MB 555.8 kB/s eta 0:00:17\n",
      "     -------------------------- ----------- 21.5/30.5 MB 555.3 kB/s eta 0:00:17\n",
      "     -------------------------- ----------- 21.5/30.5 MB 555.3 kB/s eta 0:00:17\n",
      "     -------------------------- ----------- 21.6/30.5 MB 554.8 kB/s eta 0:00:17\n",
      "     -------------------------- ----------- 21.6/30.5 MB 554.8 kB/s eta 0:00:17\n",
      "     -------------------------- ----------- 21.6/30.5 MB 554.8 kB/s eta 0:00:17\n",
      "     -------------------------- ----------- 21.6/30.5 MB 554.8 kB/s eta 0:00:17\n",
      "     -------------------------- ----------- 21.6/30.5 MB 554.8 kB/s eta 0:00:17\n",
      "     -------------------------- ----------- 21.6/30.5 MB 554.8 kB/s eta 0:00:17\n",
      "     -------------------------- ----------- 21.6/30.5 MB 554.8 kB/s eta 0:00:17\n",
      "     --------------------------- ---------- 21.7/30.5 MB 552.5 kB/s eta 0:00:16\n",
      "     --------------------------- ---------- 21.7/30.5 MB 552.0 kB/s eta 0:00:16\n",
      "     --------------------------- ---------- 21.7/30.5 MB 552.0 kB/s eta 0:00:16\n",
      "     --------------------------- ---------- 21.8/30.5 MB 550.2 kB/s eta 0:00:16\n",
      "     --------------------------- ---------- 21.8/30.5 MB 549.2 kB/s eta 0:00:16\n",
      "     --------------------------- ---------- 21.8/30.5 MB 550.6 kB/s eta 0:00:16\n",
      "     --------------------------- ---------- 21.8/30.5 MB 549.2 kB/s eta 0:00:16\n",
      "     --------------------------- ---------- 21.8/30.5 MB 548.3 kB/s eta 0:00:16\n",
      "     --------------------------- ---------- 21.9/30.5 MB 547.9 kB/s eta 0:00:16\n",
      "     --------------------------- ---------- 21.9/30.5 MB 546.5 kB/s eta 0:00:16\n",
      "     --------------------------- ---------- 21.9/30.5 MB 547.4 kB/s eta 0:00:16\n",
      "     --------------------------- ---------- 21.9/30.5 MB 547.4 kB/s eta 0:00:16\n",
      "     --------------------------- ---------- 21.9/30.5 MB 546.1 kB/s eta 0:00:16\n",
      "     --------------------------- ---------- 21.9/30.5 MB 545.6 kB/s eta 0:00:16\n",
      "     --------------------------- ---------- 22.0/30.5 MB 544.7 kB/s eta 0:00:16\n",
      "     --------------------------- ---------- 22.0/30.5 MB 545.1 kB/s eta 0:00:16\n",
      "     --------------------------- ---------- 22.0/30.5 MB 544.2 kB/s eta 0:00:16\n",
      "     --------------------------- ---------- 22.0/30.5 MB 543.8 kB/s eta 0:00:16\n",
      "     --------------------------- ---------- 22.0/30.5 MB 542.9 kB/s eta 0:00:16\n",
      "     --------------------------- ---------- 22.1/30.5 MB 542.9 kB/s eta 0:00:16\n",
      "     --------------------------- ---------- 22.1/30.5 MB 543.3 kB/s eta 0:00:16\n",
      "     --------------------------- ---------- 22.1/30.5 MB 542.4 kB/s eta 0:00:16\n",
      "     --------------------------- ---------- 22.1/30.5 MB 540.6 kB/s eta 0:00:16\n",
      "     --------------------------- ---------- 22.2/30.5 MB 540.2 kB/s eta 0:00:16\n",
      "     --------------------------- ---------- 22.2/30.5 MB 540.2 kB/s eta 0:00:16\n",
      "     --------------------------- ---------- 22.2/30.5 MB 539.7 kB/s eta 0:00:16\n",
      "     --------------------------- ---------- 22.2/30.5 MB 539.7 kB/s eta 0:00:16\n",
      "     --------------------------- ---------- 22.2/30.5 MB 539.7 kB/s eta 0:00:16\n",
      "     --------------------------- ---------- 22.3/30.5 MB 539.7 kB/s eta 0:00:16\n",
      "     --------------------------- ---------- 22.3/30.5 MB 539.7 kB/s eta 0:00:16\n",
      "     --------------------------- ---------- 22.3/30.5 MB 539.7 kB/s eta 0:00:16\n",
      "     --------------------------- ---------- 22.3/30.5 MB 538.0 kB/s eta 0:00:16\n",
      "     --------------------------- ---------- 22.3/30.5 MB 538.9 kB/s eta 0:00:16\n",
      "     --------------------------- ---------- 22.3/30.5 MB 538.9 kB/s eta 0:00:16\n",
      "     --------------------------- ---------- 22.4/30.5 MB 537.5 kB/s eta 0:00:16\n",
      "     --------------------------- ---------- 22.4/30.5 MB 536.2 kB/s eta 0:00:16\n",
      "     --------------------------- ---------- 22.4/30.5 MB 537.5 kB/s eta 0:00:16\n",
      "     --------------------------- ---------- 22.4/30.5 MB 537.1 kB/s eta 0:00:16\n",
      "     --------------------------- ---------- 22.5/30.5 MB 536.6 kB/s eta 0:00:16\n",
      "     --------------------------- ---------- 22.5/30.5 MB 535.8 kB/s eta 0:00:16\n",
      "     --------------------------- ---------- 22.5/30.5 MB 534.9 kB/s eta 0:00:16\n",
      "     ---------------------------- --------- 22.5/30.5 MB 535.3 kB/s eta 0:00:15\n",
      "     ---------------------------- --------- 22.5/30.5 MB 534.9 kB/s eta 0:00:15\n",
      "     ---------------------------- --------- 22.6/30.5 MB 534.0 kB/s eta 0:00:15\n",
      "     ---------------------------- --------- 22.6/30.5 MB 534.0 kB/s eta 0:00:15\n",
      "     ---------------------------- --------- 22.6/30.5 MB 533.6 kB/s eta 0:00:15\n",
      "     ---------------------------- --------- 22.6/30.5 MB 533.1 kB/s eta 0:00:15\n",
      "     ---------------------------- --------- 22.7/30.5 MB 532.7 kB/s eta 0:00:15\n",
      "     ---------------------------- --------- 22.7/30.5 MB 532.7 kB/s eta 0:00:15\n",
      "     ---------------------------- --------- 22.7/30.5 MB 532.7 kB/s eta 0:00:15\n",
      "     ---------------------------- --------- 22.7/30.5 MB 531.8 kB/s eta 0:00:15\n",
      "     ---------------------------- --------- 22.7/30.5 MB 531.9 kB/s eta 0:00:15\n",
      "     ---------------------------- --------- 22.7/30.5 MB 531.9 kB/s eta 0:00:15\n",
      "     ---------------------------- --------- 22.8/30.5 MB 530.1 kB/s eta 0:00:15\n",
      "     ---------------------------- --------- 22.8/30.5 MB 530.1 kB/s eta 0:00:15\n",
      "     ---------------------------- --------- 22.8/30.5 MB 529.7 kB/s eta 0:00:15\n",
      "     ---------------------------- --------- 22.8/30.5 MB 529.3 kB/s eta 0:00:15\n",
      "     ---------------------------- --------- 22.9/30.5 MB 530.1 kB/s eta 0:00:15\n",
      "     ---------------------------- --------- 22.9/30.5 MB 528.4 kB/s eta 0:00:15\n",
      "     ---------------------------- --------- 22.9/30.5 MB 528.0 kB/s eta 0:00:15\n",
      "     ---------------------------- --------- 22.9/30.5 MB 528.0 kB/s eta 0:00:15\n",
      "     ---------------------------- --------- 22.9/30.5 MB 528.4 kB/s eta 0:00:15\n",
      "     ---------------------------- --------- 23.0/30.5 MB 527.6 kB/s eta 0:00:15\n",
      "     ---------------------------- --------- 23.0/30.5 MB 529.2 kB/s eta 0:00:15\n",
      "     ---------------------------- --------- 23.0/30.5 MB 527.6 kB/s eta 0:00:15\n",
      "     ---------------------------- --------- 23.0/30.5 MB 527.1 kB/s eta 0:00:15\n",
      "     ---------------------------- --------- 23.1/30.5 MB 526.7 kB/s eta 0:00:15\n",
      "     ---------------------------- --------- 23.1/30.5 MB 526.3 kB/s eta 0:00:15\n",
      "     ---------------------------- --------- 23.1/30.5 MB 526.3 kB/s eta 0:00:15\n",
      "     ---------------------------- --------- 23.1/30.5 MB 525.5 kB/s eta 0:00:15\n",
      "     ---------------------------- --------- 23.2/30.5 MB 525.9 kB/s eta 0:00:15\n",
      "     ---------------------------- --------- 23.2/30.5 MB 526.7 kB/s eta 0:00:14\n",
      "     ---------------------------- --------- 23.2/30.5 MB 525.5 kB/s eta 0:00:14\n",
      "     ---------------------------- --------- 23.2/30.5 MB 525.0 kB/s eta 0:00:14\n",
      "     ---------------------------- --------- 23.3/30.5 MB 524.6 kB/s eta 0:00:14\n",
      "     ---------------------------- --------- 23.3/30.5 MB 523.8 kB/s eta 0:00:14\n",
      "     ----------------------------- -------- 23.3/30.5 MB 523.3 kB/s eta 0:00:14\n",
      "     ----------------------------- -------- 23.3/30.5 MB 523.3 kB/s eta 0:00:14\n",
      "     ----------------------------- -------- 23.3/30.5 MB 522.9 kB/s eta 0:00:14\n",
      "     ----------------------------- -------- 23.4/30.5 MB 523.3 kB/s eta 0:00:14\n",
      "     ----------------------------- -------- 23.4/30.5 MB 523.3 kB/s eta 0:00:14\n",
      "     ----------------------------- -------- 23.4/30.5 MB 522.1 kB/s eta 0:00:14\n",
      "     ----------------------------- -------- 23.4/30.5 MB 522.5 kB/s eta 0:00:14\n",
      "     ----------------------------- -------- 23.4/30.5 MB 522.1 kB/s eta 0:00:14\n",
      "     ----------------------------- -------- 23.5/30.5 MB 520.8 kB/s eta 0:00:14\n",
      "     ----------------------------- -------- 23.5/30.5 MB 520.8 kB/s eta 0:00:14\n",
      "     ----------------------------- -------- 23.5/30.5 MB 521.7 kB/s eta 0:00:14\n",
      "     ----------------------------- -------- 23.6/30.5 MB 521.3 kB/s eta 0:00:14\n",
      "     ----------------------------- -------- 23.6/30.5 MB 520.4 kB/s eta 0:00:14\n",
      "     ----------------------------- -------- 23.6/30.5 MB 520.0 kB/s eta 0:00:14\n",
      "     ----------------------------- -------- 23.6/30.5 MB 519.6 kB/s eta 0:00:14\n",
      "     ----------------------------- -------- 23.7/30.5 MB 519.2 kB/s eta 0:00:14\n",
      "     ----------------------------- -------- 23.7/30.5 MB 519.2 kB/s eta 0:00:14\n",
      "     ----------------------------- -------- 23.7/30.5 MB 518.8 kB/s eta 0:00:14\n",
      "     ----------------------------- -------- 23.7/30.5 MB 519.2 kB/s eta 0:00:14\n",
      "     ----------------------------- -------- 23.7/30.5 MB 518.8 kB/s eta 0:00:14\n",
      "     ----------------------------- -------- 23.8/30.5 MB 518.4 kB/s eta 0:00:14\n",
      "     ----------------------------- -------- 23.8/30.5 MB 518.4 kB/s eta 0:00:13\n",
      "     ----------------------------- -------- 23.8/30.5 MB 518.0 kB/s eta 0:00:13\n",
      "     ----------------------------- -------- 23.8/30.5 MB 517.6 kB/s eta 0:00:13\n",
      "     ----------------------------- -------- 23.8/30.5 MB 517.6 kB/s eta 0:00:13\n",
      "     ----------------------------- -------- 23.9/30.5 MB 515.9 kB/s eta 0:00:13\n",
      "     ----------------------------- -------- 23.9/30.5 MB 517.1 kB/s eta 0:00:13\n",
      "     ----------------------------- -------- 23.9/30.5 MB 516.7 kB/s eta 0:00:13\n",
      "     ----------------------------- -------- 23.9/30.5 MB 515.9 kB/s eta 0:00:13\n",
      "     ----------------------------- -------- 24.0/30.5 MB 516.3 kB/s eta 0:00:13\n",
      "     ----------------------------- -------- 24.0/30.5 MB 515.9 kB/s eta 0:00:13\n",
      "     ----------------------------- -------- 24.0/30.5 MB 515.1 kB/s eta 0:00:13\n",
      "     ----------------------------- -------- 24.0/30.5 MB 514.7 kB/s eta 0:00:13\n",
      "     ----------------------------- -------- 24.1/30.5 MB 515.5 kB/s eta 0:00:13\n",
      "     ----------------------------- -------- 24.1/30.5 MB 514.7 kB/s eta 0:00:13\n",
      "     ----------------------------- -------- 24.1/30.5 MB 514.7 kB/s eta 0:00:13\n",
      "     ------------------------------ ------- 24.1/30.5 MB 513.9 kB/s eta 0:00:13\n",
      "     ------------------------------ ------- 24.1/30.5 MB 513.1 kB/s eta 0:00:13\n",
      "     ------------------------------ ------- 24.2/30.5 MB 513.1 kB/s eta 0:00:13\n",
      "     ------------------------------ ------- 24.2/30.5 MB 512.7 kB/s eta 0:00:13\n",
      "     ------------------------------ ------- 24.2/30.5 MB 512.7 kB/s eta 0:00:13\n",
      "     ------------------------------ ------- 24.2/30.5 MB 512.7 kB/s eta 0:00:13\n",
      "     ------------------------------ ------- 24.3/30.5 MB 511.5 kB/s eta 0:00:13\n",
      "     ------------------------------ ------- 24.3/30.5 MB 511.5 kB/s eta 0:00:13\n",
      "     ------------------------------ ------- 24.3/30.5 MB 510.7 kB/s eta 0:00:13\n",
      "     ------------------------------ ------- 24.3/30.5 MB 511.5 kB/s eta 0:00:13\n",
      "     ------------------------------ ------- 24.4/30.5 MB 510.3 kB/s eta 0:00:13\n",
      "     ------------------------------ ------- 24.4/30.5 MB 509.9 kB/s eta 0:00:13\n",
      "     ------------------------------ ------- 24.4/30.5 MB 510.7 kB/s eta 0:00:12\n",
      "     ------------------------------ ------- 24.4/30.5 MB 509.1 kB/s eta 0:00:13\n",
      "     ------------------------------ ------- 24.5/30.5 MB 508.7 kB/s eta 0:00:12\n",
      "     ------------------------------ ------- 24.5/30.5 MB 509.5 kB/s eta 0:00:12\n",
      "     ------------------------------ ------- 24.5/30.5 MB 508.7 kB/s eta 0:00:12\n",
      "     ------------------------------ ------- 24.5/30.5 MB 507.9 kB/s eta 0:00:12\n",
      "     ------------------------------ ------- 24.6/30.5 MB 507.5 kB/s eta 0:00:12\n",
      "     ------------------------------ ------- 24.6/30.5 MB 508.3 kB/s eta 0:00:12\n",
      "     ------------------------------ ------- 24.6/30.5 MB 507.1 kB/s eta 0:00:12\n",
      "     ------------------------------ ------- 24.6/30.5 MB 506.7 kB/s eta 0:00:12\n",
      "     ------------------------------ ------- 24.7/30.5 MB 507.1 kB/s eta 0:00:12\n",
      "     ------------------------------ ------- 24.7/30.5 MB 506.3 kB/s eta 0:00:12\n",
      "     ------------------------------ ------- 24.7/30.5 MB 506.3 kB/s eta 0:00:12\n",
      "     ------------------------------ ------- 24.7/30.5 MB 507.1 kB/s eta 0:00:12\n",
      "     ------------------------------ ------- 24.8/30.5 MB 506.3 kB/s eta 0:00:12\n",
      "     ------------------------------ ------- 24.8/30.5 MB 505.6 kB/s eta 0:00:12\n",
      "     ------------------------------ ------- 24.8/30.5 MB 505.9 kB/s eta 0:00:12\n",
      "     ------------------------------ ------- 24.8/30.5 MB 504.4 kB/s eta 0:00:12\n",
      "     ------------------------------ ------- 24.9/30.5 MB 504.0 kB/s eta 0:00:12\n",
      "     ------------------------------ ------- 24.9/30.5 MB 503.6 kB/s eta 0:00:12\n",
      "     ------------------------------ ------- 24.9/30.5 MB 503.2 kB/s eta 0:00:12\n",
      "     ------------------------------- ------ 24.9/30.5 MB 504.0 kB/s eta 0:00:12\n",
      "     ------------------------------- ------ 24.9/30.5 MB 503.2 kB/s eta 0:00:12\n",
      "     ------------------------------- ------ 25.0/30.5 MB 502.8 kB/s eta 0:00:12\n",
      "     ------------------------------- ------ 25.0/30.5 MB 502.1 kB/s eta 0:00:12\n",
      "     ------------------------------- ------ 25.0/30.5 MB 501.3 kB/s eta 0:00:11\n",
      "     ------------------------------- ------ 25.1/30.5 MB 506.7 kB/s eta 0:00:11\n",
      "     ------------------------------- ------ 25.1/30.5 MB 508.3 kB/s eta 0:00:11\n",
      "     ------------------------------- ------ 25.1/30.5 MB 506.7 kB/s eta 0:00:11\n",
      "     ------------------------------- ------ 25.1/30.5 MB 505.5 kB/s eta 0:00:11\n",
      "     ------------------------------- ------ 25.1/30.5 MB 504.4 kB/s eta 0:00:11\n",
      "     ------------------------------- ------ 25.2/30.5 MB 506.3 kB/s eta 0:00:11\n",
      "     ------------------------------- ------ 25.2/30.5 MB 506.0 kB/s eta 0:00:11\n",
      "     ------------------------------- ------ 25.2/30.5 MB 506.0 kB/s eta 0:00:11\n",
      "     ------------------------------- ------ 25.2/30.5 MB 504.4 kB/s eta 0:00:11\n",
      "     ------------------------------- ------ 25.3/30.5 MB 503.2 kB/s eta 0:00:11\n",
      "     ------------------------------- ------ 25.3/30.5 MB 502.1 kB/s eta 0:00:11\n",
      "     ------------------------------- ------ 25.3/30.5 MB 500.9 kB/s eta 0:00:11\n",
      "     ------------------------------- ------ 25.3/30.5 MB 500.9 kB/s eta 0:00:11\n",
      "     ------------------------------- ------ 25.4/30.5 MB 502.8 kB/s eta 0:00:11\n",
      "     ------------------------------- ------ 25.4/30.5 MB 502.8 kB/s eta 0:00:11\n",
      "     ------------------------------- ------ 25.4/30.5 MB 502.1 kB/s eta 0:00:11\n",
      "     ------------------------------- ------ 25.4/30.5 MB 502.1 kB/s eta 0:00:11\n",
      "     ------------------------------- ------ 25.4/30.5 MB 501.3 kB/s eta 0:00:11\n",
      "     ------------------------------- ------ 25.5/30.5 MB 502.1 kB/s eta 0:00:11\n",
      "     ------------------------------- ------ 25.5/30.5 MB 502.8 kB/s eta 0:00:10\n",
      "     ------------------------------- ------ 25.5/30.5 MB 502.9 kB/s eta 0:00:10\n",
      "     ------------------------------- ------ 25.5/30.5 MB 502.5 kB/s eta 0:00:10\n",
      "     ------------------------------- ------ 25.6/30.5 MB 502.1 kB/s eta 0:00:10\n",
      "     ------------------------------- ------ 25.6/30.5 MB 502.1 kB/s eta 0:00:10\n",
      "     ------------------------------- ------ 25.6/30.5 MB 503.2 kB/s eta 0:00:10\n",
      "     ------------------------------- ------ 25.7/30.5 MB 502.8 kB/s eta 0:00:10\n",
      "     ------------------------------- ------ 25.7/30.5 MB 502.8 kB/s eta 0:00:10\n",
      "     ------------------------------- ------ 25.7/30.5 MB 502.1 kB/s eta 0:00:10\n",
      "     -------------------------------- ----- 25.7/30.5 MB 502.1 kB/s eta 0:00:10\n",
      "     -------------------------------- ----- 25.8/30.5 MB 503.6 kB/s eta 0:00:10\n",
      "     -------------------------------- ----- 25.8/30.5 MB 502.8 kB/s eta 0:00:10\n",
      "     -------------------------------- ----- 25.8/30.5 MB 502.5 kB/s eta 0:00:10\n",
      "     -------------------------------- ----- 25.8/30.5 MB 502.1 kB/s eta 0:00:10\n",
      "     -------------------------------- ----- 25.9/30.5 MB 501.7 kB/s eta 0:00:10\n",
      "     -------------------------------- ----- 25.9/30.5 MB 502.1 kB/s eta 0:00:10\n",
      "     -------------------------------- ----- 25.9/30.5 MB 502.8 kB/s eta 0:00:10\n",
      "     -------------------------------- ----- 26.0/30.5 MB 502.1 kB/s eta 0:00:10\n",
      "     -------------------------------- ----- 26.0/30.5 MB 504.4 kB/s eta 0:00:10\n",
      "     -------------------------------- ----- 26.0/30.5 MB 503.6 kB/s eta 0:00:09\n",
      "     -------------------------------- ----- 26.1/30.5 MB 504.0 kB/s eta 0:00:09\n",
      "     -------------------------------- ----- 26.1/30.5 MB 504.0 kB/s eta 0:00:09\n",
      "     -------------------------------- ----- 26.1/30.5 MB 503.2 kB/s eta 0:00:09\n",
      "     -------------------------------- ----- 26.1/30.5 MB 504.4 kB/s eta 0:00:09\n",
      "     -------------------------------- ----- 26.2/30.5 MB 504.8 kB/s eta 0:00:09\n",
      "     -------------------------------- ----- 26.2/30.5 MB 504.0 kB/s eta 0:00:09\n",
      "     -------------------------------- ----- 26.2/30.5 MB 504.0 kB/s eta 0:00:09\n",
      "     -------------------------------- ----- 26.3/30.5 MB 504.0 kB/s eta 0:00:09\n",
      "     -------------------------------- ----- 26.3/30.5 MB 504.0 kB/s eta 0:00:09\n",
      "     -------------------------------- ----- 26.3/30.5 MB 504.4 kB/s eta 0:00:09\n",
      "     -------------------------------- ----- 26.4/30.5 MB 503.6 kB/s eta 0:00:09\n",
      "     -------------------------------- ----- 26.4/30.5 MB 504.4 kB/s eta 0:00:09\n",
      "     -------------------------------- ----- 26.4/30.5 MB 504.0 kB/s eta 0:00:09\n",
      "     -------------------------------- ----- 26.5/30.5 MB 504.0 kB/s eta 0:00:09\n",
      "     -------------------------------- ----- 26.5/30.5 MB 504.4 kB/s eta 0:00:08\n",
      "     --------------------------------- ---- 26.5/30.5 MB 503.6 kB/s eta 0:00:08\n",
      "     --------------------------------- ---- 26.6/30.5 MB 503.2 kB/s eta 0:00:08\n",
      "     --------------------------------- ---- 26.6/30.5 MB 504.4 kB/s eta 0:00:08\n",
      "     --------------------------------- ---- 26.6/30.5 MB 504.0 kB/s eta 0:00:08\n",
      "     --------------------------------- ---- 26.7/30.5 MB 504.8 kB/s eta 0:00:08\n",
      "     --------------------------------- ---- 26.7/30.5 MB 504.4 kB/s eta 0:00:08\n",
      "     --------------------------------- ---- 26.7/30.5 MB 504.4 kB/s eta 0:00:08\n",
      "     --------------------------------- ---- 26.7/30.5 MB 504.4 kB/s eta 0:00:08\n",
      "     --------------------------------- ---- 26.7/30.5 MB 504.4 kB/s eta 0:00:08\n",
      "     --------------------------------- ---- 26.7/30.5 MB 504.4 kB/s eta 0:00:08\n",
      "     --------------------------------- ---- 26.7/30.5 MB 504.4 kB/s eta 0:00:08\n",
      "     --------------------------------- ---- 26.7/30.5 MB 498.3 kB/s eta 0:00:08\n",
      "     --------------------------------- ---- 26.8/30.5 MB 498.6 kB/s eta 0:00:08\n",
      "     --------------------------------- ---- 26.8/30.5 MB 498.6 kB/s eta 0:00:08\n",
      "     --------------------------------- ---- 26.8/30.5 MB 499.4 kB/s eta 0:00:08\n",
      "     --------------------------------- ---- 26.9/30.5 MB 499.4 kB/s eta 0:00:08\n",
      "     --------------------------------- ---- 26.9/30.5 MB 499.4 kB/s eta 0:00:08\n",
      "     --------------------------------- ---- 26.9/30.5 MB 499.4 kB/s eta 0:00:08\n",
      "     --------------------------------- ---- 26.9/30.5 MB 499.4 kB/s eta 0:00:08\n",
      "     --------------------------------- ---- 26.9/30.5 MB 499.4 kB/s eta 0:00:08\n",
      "     --------------------------------- ---- 26.9/30.5 MB 499.4 kB/s eta 0:00:08\n",
      "     --------------------------------- ---- 27.0/30.5 MB 496.0 kB/s eta 0:00:08\n",
      "     --------------------------------- ---- 27.1/30.5 MB 499.0 kB/s eta 0:00:07\n",
      "     --------------------------------- ---- 27.1/30.5 MB 499.4 kB/s eta 0:00:07\n",
      "     --------------------------------- ---- 27.1/30.5 MB 499.4 kB/s eta 0:00:07\n",
      "     --------------------------------- ---- 27.1/30.5 MB 497.9 kB/s eta 0:00:07\n",
      "     --------------------------------- ---- 27.2/30.5 MB 497.1 kB/s eta 0:00:07\n",
      "     --------------------------------- ---- 27.2/30.5 MB 498.2 kB/s eta 0:00:07\n",
      "     --------------------------------- ---- 27.2/30.5 MB 497.1 kB/s eta 0:00:07\n",
      "     --------------------------------- ---- 27.2/30.5 MB 497.1 kB/s eta 0:00:07\n",
      "     --------------------------------- ---- 27.2/30.5 MB 495.6 kB/s eta 0:00:07\n",
      "     --------------------------------- ---- 27.2/30.5 MB 495.2 kB/s eta 0:00:07\n",
      "     --------------------------------- ---- 27.3/30.5 MB 500.5 kB/s eta 0:00:07\n",
      "     --------------------------------- ---- 27.3/30.5 MB 500.2 kB/s eta 0:00:07\n",
      "     --------------------------------- ---- 27.3/30.5 MB 498.6 kB/s eta 0:00:07\n",
      "     --------------------------------- ---- 27.3/30.5 MB 498.6 kB/s eta 0:00:07\n",
      "     --------------------------------- ---- 27.3/30.5 MB 497.1 kB/s eta 0:00:07\n",
      "     ---------------------------------- --- 27.3/30.5 MB 497.5 kB/s eta 0:00:07\n",
      "     ---------------------------------- --- 27.4/30.5 MB 495.6 kB/s eta 0:00:07\n",
      "     ---------------------------------- --- 27.4/30.5 MB 494.9 kB/s eta 0:00:07\n",
      "     ---------------------------------- --- 27.4/30.5 MB 493.7 kB/s eta 0:00:07\n",
      "     ---------------------------------- --- 27.4/30.5 MB 492.6 kB/s eta 0:00:07\n",
      "     ---------------------------------- --- 27.5/30.5 MB 493.0 kB/s eta 0:00:07\n",
      "     ---------------------------------- --- 27.5/30.5 MB 493.0 kB/s eta 0:00:07\n",
      "     ---------------------------------- --- 27.5/30.5 MB 491.9 kB/s eta 0:00:07\n",
      "     ---------------------------------- --- 27.5/30.5 MB 491.9 kB/s eta 0:00:07\n",
      "     ---------------------------------- --- 27.5/30.5 MB 491.5 kB/s eta 0:00:07\n",
      "     ---------------------------------- --- 27.6/30.5 MB 491.5 kB/s eta 0:00:07\n",
      "     ---------------------------------- --- 27.6/30.5 MB 491.5 kB/s eta 0:00:07\n",
      "     ---------------------------------- --- 27.6/30.5 MB 489.7 kB/s eta 0:00:07\n",
      "     ---------------------------------- --- 27.6/30.5 MB 490.8 kB/s eta 0:00:06\n",
      "     ---------------------------------- --- 27.6/30.5 MB 490.4 kB/s eta 0:00:06\n",
      "     ---------------------------------- --- 27.6/30.5 MB 490.0 kB/s eta 0:00:06\n",
      "     ---------------------------------- --- 27.7/30.5 MB 490.4 kB/s eta 0:00:06\n",
      "     ---------------------------------- --- 27.7/30.5 MB 489.0 kB/s eta 0:00:06\n",
      "     ---------------------------------- --- 27.7/30.5 MB 490.0 kB/s eta 0:00:06\n",
      "     ---------------------------------- --- 27.7/30.5 MB 490.0 kB/s eta 0:00:06\n",
      "     ---------------------------------- --- 27.8/30.5 MB 489.7 kB/s eta 0:00:06\n",
      "     ---------------------------------- --- 27.8/30.5 MB 488.2 kB/s eta 0:00:06\n",
      "     ---------------------------------- --- 27.8/30.5 MB 488.9 kB/s eta 0:00:06\n",
      "     ---------------------------------- --- 27.8/30.5 MB 488.9 kB/s eta 0:00:06\n",
      "     ---------------------------------- --- 27.8/30.5 MB 489.3 kB/s eta 0:00:06\n",
      "     ---------------------------------- --- 27.9/30.5 MB 489.3 kB/s eta 0:00:06\n",
      "     ---------------------------------- --- 27.9/30.5 MB 489.3 kB/s eta 0:00:06\n",
      "     ---------------------------------- --- 27.9/30.5 MB 488.6 kB/s eta 0:00:06\n",
      "     ---------------------------------- --- 27.9/30.5 MB 488.6 kB/s eta 0:00:06\n",
      "     ---------------------------------- --- 27.9/30.5 MB 487.5 kB/s eta 0:00:06\n",
      "     ---------------------------------- --- 28.0/30.5 MB 488.2 kB/s eta 0:00:06\n",
      "     ---------------------------------- --- 28.0/30.5 MB 488.2 kB/s eta 0:00:06\n",
      "     ---------------------------------- --- 28.0/30.5 MB 488.2 kB/s eta 0:00:06\n",
      "     ---------------------------------- --- 28.0/30.5 MB 487.1 kB/s eta 0:00:06\n",
      "     ---------------------------------- --- 28.0/30.5 MB 487.5 kB/s eta 0:00:06\n",
      "     ---------------------------------- --- 28.1/30.5 MB 487.1 kB/s eta 0:00:06\n",
      "     ---------------------------------- --- 28.1/30.5 MB 486.4 kB/s eta 0:00:06\n",
      "     ---------------------------------- --- 28.1/30.5 MB 486.0 kB/s eta 0:00:06\n",
      "     ----------------------------------- -- 28.1/30.5 MB 486.0 kB/s eta 0:00:05\n",
      "     ----------------------------------- -- 28.1/30.5 MB 486.0 kB/s eta 0:00:05\n",
      "     ----------------------------------- -- 28.2/30.5 MB 485.3 kB/s eta 0:00:05\n",
      "     ----------------------------------- -- 28.2/30.5 MB 485.3 kB/s eta 0:00:05\n",
      "     ----------------------------------- -- 28.2/30.5 MB 485.0 kB/s eta 0:00:05\n",
      "     ----------------------------------- -- 28.2/30.5 MB 484.2 kB/s eta 0:00:05\n",
      "     ----------------------------------- -- 28.3/30.5 MB 484.6 kB/s eta 0:00:05\n",
      "     ----------------------------------- -- 28.3/30.5 MB 484.6 kB/s eta 0:00:05\n",
      "     ----------------------------------- -- 28.3/30.5 MB 484.6 kB/s eta 0:00:05\n",
      "     ----------------------------------- -- 28.3/30.5 MB 484.2 kB/s eta 0:00:05\n",
      "     ----------------------------------- -- 28.3/30.5 MB 484.2 kB/s eta 0:00:05\n",
      "     ----------------------------------- -- 28.3/30.5 MB 483.9 kB/s eta 0:00:05\n",
      "     ----------------------------------- -- 28.4/30.5 MB 482.8 kB/s eta 0:00:05\n",
      "     ----------------------------------- -- 28.4/30.5 MB 483.5 kB/s eta 0:00:05\n",
      "     ----------------------------------- -- 28.4/30.5 MB 483.9 kB/s eta 0:00:05\n",
      "     ----------------------------------- -- 28.4/30.5 MB 483.2 kB/s eta 0:00:05\n",
      "     ----------------------------------- -- 28.5/30.5 MB 482.5 kB/s eta 0:00:05\n",
      "     ----------------------------------- -- 28.5/30.5 MB 482.1 kB/s eta 0:00:05\n",
      "     ----------------------------------- -- 28.5/30.5 MB 482.5 kB/s eta 0:00:05\n",
      "     ----------------------------------- -- 28.5/30.5 MB 481.7 kB/s eta 0:00:05\n",
      "     ----------------------------------- -- 28.5/30.5 MB 481.4 kB/s eta 0:00:05\n",
      "     ----------------------------------- -- 28.6/30.5 MB 481.4 kB/s eta 0:00:05\n",
      "     ----------------------------------- -- 28.6/30.5 MB 481.1 kB/s eta 0:00:05\n",
      "     ----------------------------------- -- 28.6/30.5 MB 481.4 kB/s eta 0:00:05\n",
      "     ----------------------------------- -- 28.6/30.5 MB 480.3 kB/s eta 0:00:04\n",
      "     ----------------------------------- -- 28.7/30.5 MB 481.1 kB/s eta 0:00:04\n",
      "     ----------------------------------- -- 28.7/30.5 MB 485.0 kB/s eta 0:00:04\n",
      "     ----------------------------------- -- 28.7/30.5 MB 485.3 kB/s eta 0:00:04\n",
      "     ----------------------------------- -- 28.7/30.5 MB 484.2 kB/s eta 0:00:04\n",
      "     ----------------------------------- -- 28.8/30.5 MB 482.5 kB/s eta 0:00:04\n",
      "     ----------------------------------- -- 28.8/30.5 MB 482.1 kB/s eta 0:00:04\n",
      "     ----------------------------------- -- 28.8/30.5 MB 480.7 kB/s eta 0:00:04\n",
      "     ----------------------------------- -- 28.8/30.5 MB 479.6 kB/s eta 0:00:04\n",
      "     ----------------------------------- -- 28.8/30.5 MB 479.6 kB/s eta 0:00:04\n",
      "     ----------------------------------- -- 28.8/30.5 MB 480.0 kB/s eta 0:00:04\n",
      "     ----------------------------------- -- 28.9/30.5 MB 486.0 kB/s eta 0:00:04\n",
      "     ----------------------------------- -- 28.9/30.5 MB 485.0 kB/s eta 0:00:04\n",
      "     ----------------------------------- -- 28.9/30.5 MB 486.8 kB/s eta 0:00:04\n",
      "     ----------------------------------- -- 28.9/30.5 MB 486.0 kB/s eta 0:00:04\n",
      "     ------------------------------------ - 29.0/30.5 MB 485.3 kB/s eta 0:00:04\n",
      "     ------------------------------------ - 29.0/30.5 MB 484.2 kB/s eta 0:00:04\n",
      "     ------------------------------------ - 29.0/30.5 MB 484.6 kB/s eta 0:00:04\n",
      "     ------------------------------------ - 29.0/30.5 MB 485.0 kB/s eta 0:00:04\n",
      "     ------------------------------------ - 29.0/30.5 MB 483.9 kB/s eta 0:00:04\n",
      "     ------------------------------------ - 29.1/30.5 MB 486.0 kB/s eta 0:00:04\n",
      "     ------------------------------------ - 29.1/30.5 MB 486.0 kB/s eta 0:00:04\n",
      "     ------------------------------------ - 29.1/30.5 MB 486.0 kB/s eta 0:00:04\n",
      "     ------------------------------------ - 29.1/30.5 MB 486.0 kB/s eta 0:00:04\n",
      "     ------------------------------------ - 29.1/30.5 MB 486.0 kB/s eta 0:00:04\n",
      "     ------------------------------------ - 29.1/30.5 MB 486.0 kB/s eta 0:00:04\n",
      "     ------------------------------------ - 29.2/30.5 MB 487.5 kB/s eta 0:00:03\n",
      "     ------------------------------------ - 29.2/30.5 MB 487.9 kB/s eta 0:00:03\n",
      "     ------------------------------------ - 29.2/30.5 MB 487.9 kB/s eta 0:00:03\n",
      "     ------------------------------------ - 29.2/30.5 MB 487.9 kB/s eta 0:00:03\n",
      "     ------------------------------------ - 29.2/30.5 MB 487.9 kB/s eta 0:00:03\n",
      "     ------------------------------------ - 29.2/30.5 MB 487.9 kB/s eta 0:00:03\n",
      "     ------------------------------------ - 29.2/30.5 MB 487.9 kB/s eta 0:00:03\n",
      "     ------------------------------------ - 29.2/30.5 MB 484.2 kB/s eta 0:00:03\n",
      "     ------------------------------------ - 29.3/30.5 MB 485.7 kB/s eta 0:00:03\n",
      "     ------------------------------------ - 29.3/30.5 MB 485.0 kB/s eta 0:00:03\n",
      "     ------------------------------------ - 29.3/30.5 MB 487.1 kB/s eta 0:00:03\n",
      "     ------------------------------------ - 29.3/30.5 MB 487.1 kB/s eta 0:00:03\n",
      "     ------------------------------------ - 29.3/30.5 MB 487.1 kB/s eta 0:00:03\n",
      "     ------------------------------------ - 29.3/30.5 MB 487.1 kB/s eta 0:00:03\n",
      "     ------------------------------------ - 29.3/30.5 MB 484.6 kB/s eta 0:00:03\n",
      "     ------------------------------------ - 29.4/30.5 MB 486.4 kB/s eta 0:00:03\n",
      "     ------------------------------------ - 29.4/30.5 MB 486.0 kB/s eta 0:00:03\n",
      "     ------------------------------------ - 29.4/30.5 MB 487.1 kB/s eta 0:00:03\n",
      "     ------------------------------------ - 29.4/30.5 MB 487.1 kB/s eta 0:00:03\n",
      "     ------------------------------------ - 29.4/30.5 MB 487.1 kB/s eta 0:00:03\n",
      "     ------------------------------------ - 29.4/30.5 MB 483.9 kB/s eta 0:00:03\n",
      "     ------------------------------------ - 29.5/30.5 MB 485.3 kB/s eta 0:00:03\n",
      "     ------------------------------------ - 29.5/30.5 MB 485.7 kB/s eta 0:00:03\n",
      "     ------------------------------------ - 29.5/30.5 MB 487.1 kB/s eta 0:00:03\n",
      "     ------------------------------------ - 29.5/30.5 MB 486.0 kB/s eta 0:00:03\n",
      "     ------------------------------------ - 29.5/30.5 MB 486.0 kB/s eta 0:00:03\n",
      "     ------------------------------------ - 29.6/30.5 MB 487.1 kB/s eta 0:00:03\n",
      "     ------------------------------------ - 29.6/30.5 MB 487.5 kB/s eta 0:00:02\n",
      "     ------------------------------------ - 29.6/30.5 MB 487.9 kB/s eta 0:00:02\n",
      "     ------------------------------------ - 29.6/30.5 MB 488.6 kB/s eta 0:00:02\n",
      "     ------------------------------------ - 29.6/30.5 MB 488.9 kB/s eta 0:00:02\n",
      "     ------------------------------------ - 29.7/30.5 MB 488.9 kB/s eta 0:00:02\n",
      "     ------------------------------------ - 29.7/30.5 MB 489.7 kB/s eta 0:00:02\n",
      "     ------------------------------------ - 29.7/30.5 MB 489.7 kB/s eta 0:00:02\n",
      "     -------------------------------------  29.7/30.5 MB 490.8 kB/s eta 0:00:02\n",
      "     -------------------------------------  29.7/30.5 MB 490.8 kB/s eta 0:00:02\n",
      "     -------------------------------------  29.8/30.5 MB 489.7 kB/s eta 0:00:02\n",
      "     -------------------------------------  29.8/30.5 MB 490.8 kB/s eta 0:00:02\n",
      "     -------------------------------------  29.8/30.5 MB 491.2 kB/s eta 0:00:02\n",
      "     -------------------------------------  29.9/30.5 MB 491.9 kB/s eta 0:00:02\n",
      "     -------------------------------------  29.9/30.5 MB 492.6 kB/s eta 0:00:02\n",
      "     -------------------------------------  29.9/30.5 MB 492.3 kB/s eta 0:00:02\n",
      "     -------------------------------------  29.9/30.5 MB 492.6 kB/s eta 0:00:02\n",
      "     -------------------------------------  29.9/30.5 MB 492.6 kB/s eta 0:00:02\n",
      "     -------------------------------------  30.0/30.5 MB 493.7 kB/s eta 0:00:02\n",
      "     -------------------------------------  30.0/30.5 MB 494.1 kB/s eta 0:00:02\n",
      "     -------------------------------------  30.0/30.5 MB 494.1 kB/s eta 0:00:02\n",
      "     -------------------------------------  30.0/30.5 MB 493.7 kB/s eta 0:00:02\n",
      "     -------------------------------------  30.1/30.5 MB 494.5 kB/s eta 0:00:01\n",
      "     -------------------------------------  30.1/30.5 MB 495.2 kB/s eta 0:00:01\n",
      "     -------------------------------------  30.1/30.5 MB 496.7 kB/s eta 0:00:01\n",
      "     -------------------------------------  30.1/30.5 MB 496.4 kB/s eta 0:00:01\n",
      "     -------------------------------------  30.1/30.5 MB 496.7 kB/s eta 0:00:01\n",
      "     -------------------------------------  30.2/30.5 MB 496.0 kB/s eta 0:00:01\n",
      "     -------------------------------------  30.2/30.5 MB 497.9 kB/s eta 0:00:01\n",
      "     -------------------------------------  30.2/30.5 MB 498.3 kB/s eta 0:00:01\n",
      "     -------------------------------------  30.2/30.5 MB 498.6 kB/s eta 0:00:01\n",
      "     -------------------------------------  30.3/30.5 MB 499.8 kB/s eta 0:00:01\n",
      "     -------------------------------------  30.3/30.5 MB 500.2 kB/s eta 0:00:01\n",
      "     -------------------------------------  30.3/30.5 MB 499.8 kB/s eta 0:00:01\n",
      "     -------------------------------------  30.3/30.5 MB 500.9 kB/s eta 0:00:01\n",
      "     -------------------------------------  30.4/30.5 MB 501.7 kB/s eta 0:00:01\n",
      "     -------------------------------------  30.4/30.5 MB 503.2 kB/s eta 0:00:01\n",
      "     -------------------------------------  30.4/30.5 MB 503.6 kB/s eta 0:00:01\n",
      "     -------------------------------------  30.5/30.5 MB 503.6 kB/s eta 0:00:01\n",
      "     -------------------------------------  30.5/30.5 MB 503.6 kB/s eta 0:00:01\n",
      "     -------------------------------------  30.5/30.5 MB 504.0 kB/s eta 0:00:01\n",
      "     -------------------------------------  30.5/30.5 MB 505.6 kB/s eta 0:00:01\n",
      "     -------------------------------------  30.5/30.5 MB 505.2 kB/s eta 0:00:01\n",
      "     -------------------------------------- 30.5/30.5 MB 504.4 kB/s eta 0:00:00\n",
      "Requirement already satisfied: pyshp<2.4,>=1.2 in c:\\users\\rkast\\appdata\\roaming\\python\\python311\\site-packages (from basemap) (2.3.1)\n",
      "Collecting matplotlib<3.8,>=1.5 (from basemap)\n",
      "  Downloading matplotlib-3.7.4-cp311-cp311-win_amd64.whl.metadata (5.8 kB)\n",
      "Requirement already satisfied: pyproj<3.7.0,>=1.9.3 in c:\\users\\rkast\\appdata\\roaming\\python\\python311\\site-packages (from basemap) (3.6.1)\n",
      "Collecting numpy<1.26,>=1.21 (from basemap)\n",
      "  Downloading numpy-1.25.2-cp311-cp311-win_amd64.whl.metadata (5.7 kB)\n",
      "Requirement already satisfied: contourpy>=1.0.1 in c:\\users\\rkast\\appdata\\roaming\\python\\python311\\site-packages (from matplotlib<3.8,>=1.5->basemap) (1.2.0)\n",
      "Requirement already satisfied: cycler>=0.10 in c:\\users\\rkast\\appdata\\roaming\\python\\python311\\site-packages (from matplotlib<3.8,>=1.5->basemap) (0.12.1)\n",
      "Requirement already satisfied: fonttools>=4.22.0 in c:\\users\\rkast\\appdata\\roaming\\python\\python311\\site-packages (from matplotlib<3.8,>=1.5->basemap) (4.46.0)\n",
      "Requirement already satisfied: kiwisolver>=1.0.1 in c:\\users\\rkast\\appdata\\roaming\\python\\python311\\site-packages (from matplotlib<3.8,>=1.5->basemap) (1.4.5)\n",
      "Requirement already satisfied: packaging>=20.0 in c:\\users\\rkast\\appdata\\roaming\\python\\python311\\site-packages (from matplotlib<3.8,>=1.5->basemap) (23.2)\n",
      "Requirement already satisfied: pillow>=6.2.0 in c:\\users\\rkast\\appdata\\roaming\\python\\python311\\site-packages (from matplotlib<3.8,>=1.5->basemap) (10.1.0)\n",
      "Requirement already satisfied: pyparsing>=2.3.1 in c:\\users\\rkast\\appdata\\roaming\\python\\python311\\site-packages (from matplotlib<3.8,>=1.5->basemap) (3.1.1)\n",
      "Requirement already satisfied: python-dateutil>=2.7 in c:\\users\\rkast\\appdata\\roaming\\python\\python311\\site-packages (from matplotlib<3.8,>=1.5->basemap) (2.8.2)\n",
      "Requirement already satisfied: certifi in c:\\users\\rkast\\appdata\\roaming\\python\\python311\\site-packages (from pyproj<3.7.0,>=1.9.3->basemap) (2023.11.17)\n",
      "Requirement already satisfied: six>=1.5 in c:\\users\\rkast\\appdata\\roaming\\python\\python311\\site-packages (from python-dateutil>=2.7->matplotlib<3.8,>=1.5->basemap) (1.16.0)\n",
      "Downloading basemap-1.3.8-cp311-cp311-win_amd64.whl (486 kB)\n",
      "   ---------------------------------------- 0.0/486.8 kB ? eta -:--:--\n",
      "   --- ------------------------------------ 41.0/486.8 kB 1.9 MB/s eta 0:00:01\n",
      "   ----- --------------------------------- 71.7/486.8 kB 975.2 kB/s eta 0:00:01\n",
      "   -------- ----------------------------- 112.6/486.8 kB 930.9 kB/s eta 0:00:01\n",
      "   --------- ---------------------------- 122.9/486.8 kB 901.1 kB/s eta 0:00:01\n",
      "   ----------- -------------------------- 143.4/486.8 kB 607.9 kB/s eta 0:00:01\n",
      "   ------------- ------------------------ 174.1/486.8 kB 655.4 kB/s eta 0:00:01\n",
      "   --------------- ---------------------- 204.8/486.8 kB 655.1 kB/s eta 0:00:01\n",
      "   ----------------- -------------------- 225.3/486.8 kB 687.0 kB/s eta 0:00:01\n",
      "   ------------------- ------------------ 256.0/486.8 kB 655.4 kB/s eta 0:00:01\n",
      "   ---------------------- --------------- 286.7/486.8 kB 707.1 kB/s eta 0:00:01\n",
      "   ----------------------- -------------- 307.2/486.8 kB 655.5 kB/s eta 0:00:01\n",
      "   ------------------------ ------------- 317.4/486.8 kB 655.0 kB/s eta 0:00:01\n",
      "   --------------------------- ---------- 358.4/486.8 kB 654.4 kB/s eta 0:00:01\n",
      "   ------------------------------ ------- 389.1/486.8 kB 655.5 kB/s eta 0:00:01\n",
      "   -------------------------------- ----- 419.8/486.8 kB 671.5 kB/s eta 0:00:01\n",
      "   ---------------------------------- --- 440.3/486.8 kB 688.1 kB/s eta 0:00:01\n",
      "   ------------------------------------ - 471.0/486.8 kB 669.8 kB/s eta 0:00:01\n",
      "   -------------------------------------- 486.8/486.8 kB 677.9 kB/s eta 0:00:00\n",
      "Downloading matplotlib-3.7.4-cp311-cp311-win_amd64.whl (7.5 MB)\n",
      "   ---------------------------------------- 0.0/7.5 MB ? eta -:--:--\n",
      "   ---------------------------------------- 0.0/7.5 MB 1.3 MB/s eta 0:00:06\n",
      "   ---------------------------------------- 0.1/7.5 MB 812.7 kB/s eta 0:00:10\n",
      "    --------------------------------------- 0.1/7.5 MB 930.9 kB/s eta 0:00:08\n",
      "    --------------------------------------- 0.1/7.5 MB 853.3 kB/s eta 0:00:09\n",
      "    --------------------------------------- 0.2/7.5 MB 893.0 kB/s eta 0:00:09\n",
      "    --------------------------------------- 0.2/7.5 MB 697.2 kB/s eta 0:00:11\n",
      "   - -------------------------------------- 0.2/7.5 MB 765.3 kB/s eta 0:00:10\n",
      "   - -------------------------------------- 0.3/7.5 MB 785.2 kB/s eta 0:00:10\n",
      "   - -------------------------------------- 0.3/7.5 MB 774.0 kB/s eta 0:00:10\n",
      "   - -------------------------------------- 0.3/7.5 MB 811.9 kB/s eta 0:00:09\n",
      "   - -------------------------------------- 0.3/7.5 MB 811.9 kB/s eta 0:00:09\n",
      "   - -------------------------------------- 0.4/7.5 MB 739.0 kB/s eta 0:00:10\n",
      "   -- ------------------------------------- 0.4/7.5 MB 774.0 kB/s eta 0:00:10\n",
      "   -- ------------------------------------- 0.4/7.5 MB 786.3 kB/s eta 0:00:09\n",
      "   -- ------------------------------------- 0.5/7.5 MB 782.1 kB/s eta 0:00:10\n",
      "   -- ------------------------------------- 0.5/7.5 MB 749.3 kB/s eta 0:00:10\n",
      "   -- ------------------------------------- 0.5/7.5 MB 759.1 kB/s eta 0:00:10\n",
      "   --- ------------------------------------ 0.6/7.5 MB 797.6 kB/s eta 0:00:09\n",
      "   --- ------------------------------------ 0.6/7.5 MB 786.7 kB/s eta 0:00:09\n",
      "   --- ------------------------------------ 0.6/7.5 MB 796.6 kB/s eta 0:00:09\n",
      "   --- ------------------------------------ 0.7/7.5 MB 776.5 kB/s eta 0:00:09\n",
      "   --- ------------------------------------ 0.7/7.5 MB 781.5 kB/s eta 0:00:09\n",
      "   ---- ----------------------------------- 0.8/7.5 MB 796.9 kB/s eta 0:00:09\n",
      "   ---- ----------------------------------- 0.8/7.5 MB 803.1 kB/s eta 0:00:09\n",
      "   ---- ----------------------------------- 0.8/7.5 MB 814.4 kB/s eta 0:00:09\n",
      "   ---- ----------------------------------- 0.8/7.5 MB 814.4 kB/s eta 0:00:09\n",
      "   ---- ----------------------------------- 0.9/7.5 MB 784.1 kB/s eta 0:00:09\n",
      "   ---- ----------------------------------- 0.9/7.5 MB 797.2 kB/s eta 0:00:09\n",
      "   ----- ---------------------------------- 1.0/7.5 MB 818.9 kB/s eta 0:00:08\n",
      "   ----- ---------------------------------- 1.0/7.5 MB 818.9 kB/s eta 0:00:08\n",
      "   ----- ---------------------------------- 1.0/7.5 MB 818.9 kB/s eta 0:00:08\n",
      "   ----- ---------------------------------- 1.0/7.5 MB 818.9 kB/s eta 0:00:08\n",
      "   ----- ---------------------------------- 1.0/7.5 MB 818.9 kB/s eta 0:00:08\n",
      "   ----- ---------------------------------- 1.0/7.5 MB 818.9 kB/s eta 0:00:08\n",
      "   ----- ---------------------------------- 1.0/7.5 MB 818.9 kB/s eta 0:00:08\n",
      "   ----- ---------------------------------- 1.0/7.5 MB 818.9 kB/s eta 0:00:08\n",
      "   ----- ---------------------------------- 1.0/7.5 MB 818.9 kB/s eta 0:00:08\n",
      "   ----- ---------------------------------- 1.0/7.5 MB 818.9 kB/s eta 0:00:08\n",
      "   ----- ---------------------------------- 1.0/7.5 MB 818.9 kB/s eta 0:00:08\n",
      "   ------ --------------------------------- 1.2/7.5 MB 723.5 kB/s eta 0:00:09\n",
      "   ------ --------------------------------- 1.2/7.5 MB 723.5 kB/s eta 0:00:09\n",
      "   ------ --------------------------------- 1.2/7.5 MB 723.5 kB/s eta 0:00:09\n",
      "   ------ --------------------------------- 1.2/7.5 MB 723.5 kB/s eta 0:00:09\n",
      "   ------ --------------------------------- 1.2/7.5 MB 723.5 kB/s eta 0:00:09\n",
      "   ------- -------------------------------- 1.3/7.5 MB 693.1 kB/s eta 0:00:09\n",
      "   ------- -------------------------------- 1.4/7.5 MB 758.1 kB/s eta 0:00:08\n",
      "   ------- -------------------------------- 1.4/7.5 MB 758.1 kB/s eta 0:00:08\n",
      "   ------- -------------------------------- 1.4/7.5 MB 758.1 kB/s eta 0:00:08\n",
      "   ------- -------------------------------- 1.4/7.5 MB 758.1 kB/s eta 0:00:08\n",
      "   ------- -------------------------------- 1.4/7.5 MB 758.1 kB/s eta 0:00:08\n",
      "   ------- -------------------------------- 1.4/7.5 MB 758.1 kB/s eta 0:00:08\n",
      "   -------- ------------------------------- 1.5/7.5 MB 703.1 kB/s eta 0:00:09\n",
      "   -------- ------------------------------- 1.5/7.5 MB 703.1 kB/s eta 0:00:09\n",
      "   -------- ------------------------------- 1.5/7.5 MB 703.1 kB/s eta 0:00:09\n",
      "   -------- ------------------------------- 1.5/7.5 MB 668.7 kB/s eta 0:00:09\n",
      "   -------- ------------------------------- 1.6/7.5 MB 677.1 kB/s eta 0:00:09\n",
      "   --------- ------------------------------ 1.7/7.5 MB 707.1 kB/s eta 0:00:09\n",
      "   --------- ------------------------------ 1.7/7.5 MB 707.1 kB/s eta 0:00:09\n",
      "   --------- ------------------------------ 1.7/7.5 MB 707.1 kB/s eta 0:00:09\n",
      "   --------- ------------------------------ 1.7/7.5 MB 707.1 kB/s eta 0:00:09\n",
      "   --------- ------------------------------ 1.7/7.5 MB 675.7 kB/s eta 0:00:09\n",
      "   --------- ------------------------------ 1.8/7.5 MB 683.2 kB/s eta 0:00:09\n",
      "   --------- ------------------------------ 1.8/7.5 MB 682.7 kB/s eta 0:00:09\n",
      "   --------- ------------------------------ 1.8/7.5 MB 682.7 kB/s eta 0:00:09\n",
      "   --------- ------------------------------ 1.8/7.5 MB 682.7 kB/s eta 0:00:09\n",
      "   --------- ------------------------------ 1.8/7.5 MB 682.7 kB/s eta 0:00:09\n",
      "   --------- ------------------------------ 1.8/7.5 MB 682.7 kB/s eta 0:00:09\n",
      "   --------- ------------------------------ 1.8/7.5 MB 682.7 kB/s eta 0:00:09\n",
      "   --------- ------------------------------ 1.8/7.5 MB 637.3 kB/s eta 0:00:09\n",
      "   --------- ------------------------------ 1.8/7.5 MB 637.3 kB/s eta 0:00:09\n",
      "   --------- ------------------------------ 1.8/7.5 MB 637.3 kB/s eta 0:00:09\n",
      "   --------- ------------------------------ 1.8/7.5 MB 637.3 kB/s eta 0:00:09\n",
      "   --------- ------------------------------ 1.8/7.5 MB 637.3 kB/s eta 0:00:09\n",
      "   --------- ------------------------------ 1.8/7.5 MB 637.3 kB/s eta 0:00:09\n",
      "   --------- ------------------------------ 1.8/7.5 MB 637.3 kB/s eta 0:00:09\n",
      "   ---------- ----------------------------- 1.9/7.5 MB 596.6 kB/s eta 0:00:10\n",
      "   ---------- ----------------------------- 1.9/7.5 MB 594.2 kB/s eta 0:00:10\n",
      "   ---------- ----------------------------- 1.9/7.5 MB 594.2 kB/s eta 0:00:10\n",
      "   ---------- ----------------------------- 1.9/7.5 MB 594.2 kB/s eta 0:00:10\n",
      "   ---------- ----------------------------- 1.9/7.5 MB 594.2 kB/s eta 0:00:10\n",
      "   ---------- ----------------------------- 1.9/7.5 MB 594.2 kB/s eta 0:00:10\n",
      "   ---------- ----------------------------- 1.9/7.5 MB 594.2 kB/s eta 0:00:10\n",
      "   ---------- ----------------------------- 1.9/7.5 MB 554.6 kB/s eta 0:00:11\n",
      "   ---------- ----------------------------- 1.9/7.5 MB 554.9 kB/s eta 0:00:11\n",
      "   ---------- ----------------------------- 2.0/7.5 MB 551.0 kB/s eta 0:00:11\n",
      "   ---------- ----------------------------- 2.0/7.5 MB 551.0 kB/s eta 0:00:11\n",
      "   ---------- ----------------------------- 2.0/7.5 MB 551.0 kB/s eta 0:00:11\n",
      "   ---------- ----------------------------- 2.0/7.5 MB 551.0 kB/s eta 0:00:11\n",
      "   ---------- ----------------------------- 2.0/7.5 MB 551.0 kB/s eta 0:00:11\n",
      "   ---------- ----------------------------- 2.0/7.5 MB 527.0 kB/s eta 0:00:11\n",
      "   ---------- ----------------------------- 2.0/7.5 MB 527.0 kB/s eta 0:00:11\n",
      "   ---------- ----------------------------- 2.0/7.5 MB 523.7 kB/s eta 0:00:11\n",
      "   ---------- ----------------------------- 2.0/7.5 MB 523.7 kB/s eta 0:00:11\n",
      "   ---------- ----------------------------- 2.0/7.5 MB 523.7 kB/s eta 0:00:11\n",
      "   ---------- ----------------------------- 2.0/7.5 MB 523.7 kB/s eta 0:00:11\n",
      "   ---------- ----------------------------- 2.0/7.5 MB 523.7 kB/s eta 0:00:11\n",
      "   ---------- ----------------------------- 2.0/7.5 MB 523.7 kB/s eta 0:00:11\n",
      "   ---------- ----------------------------- 2.0/7.5 MB 499.7 kB/s eta 0:00:11\n",
      "   ----------- ---------------------------- 2.1/7.5 MB 499.0 kB/s eta 0:00:11\n",
      "   ----------- ---------------------------- 2.1/7.5 MB 499.0 kB/s eta 0:00:11\n",
      "   ----------- ---------------------------- 2.1/7.5 MB 499.0 kB/s eta 0:00:11\n",
      "   ----------- ---------------------------- 2.1/7.5 MB 499.0 kB/s eta 0:00:11\n",
      "   ----------- ---------------------------- 2.1/7.5 MB 499.0 kB/s eta 0:00:11\n",
      "   ----------- ---------------------------- 2.1/7.5 MB 499.0 kB/s eta 0:00:11\n",
      "   ----------- ---------------------------- 2.1/7.5 MB 479.8 kB/s eta 0:00:12\n",
      "   ----------- ---------------------------- 2.1/7.5 MB 481.1 kB/s eta 0:00:12\n",
      "   ----------- ---------------------------- 2.1/7.5 MB 478.3 kB/s eta 0:00:12\n",
      "   ----------- ---------------------------- 2.1/7.5 MB 478.3 kB/s eta 0:00:12\n",
      "   ----------- ---------------------------- 2.1/7.5 MB 478.3 kB/s eta 0:00:12\n",
      "   ----------- ---------------------------- 2.1/7.5 MB 478.3 kB/s eta 0:00:12\n",
      "   ----------- ---------------------------- 2.1/7.5 MB 478.3 kB/s eta 0:00:12\n",
      "   ----------- ---------------------------- 2.2/7.5 MB 463.3 kB/s eta 0:00:12\n",
      "   ----------- ---------------------------- 2.2/7.5 MB 459.4 kB/s eta 0:00:12\n",
      "   ----------- ---------------------------- 2.2/7.5 MB 460.6 kB/s eta 0:00:12\n",
      "   ----------- ---------------------------- 2.2/7.5 MB 459.0 kB/s eta 0:00:12\n",
      "   ----------- ---------------------------- 2.2/7.5 MB 459.0 kB/s eta 0:00:12\n",
      "   ----------- ---------------------------- 2.2/7.5 MB 452.2 kB/s eta 0:00:12\n",
      "   ----------- ---------------------------- 2.2/7.5 MB 453.5 kB/s eta 0:00:12\n",
      "   ------------ --------------------------- 2.3/7.5 MB 451.3 kB/s eta 0:00:12\n",
      "   ------------ --------------------------- 2.3/7.5 MB 451.2 kB/s eta 0:00:12\n",
      "   ------------ --------------------------- 2.3/7.5 MB 451.2 kB/s eta 0:00:12\n",
      "   ------------ --------------------------- 2.3/7.5 MB 446.9 kB/s eta 0:00:12\n",
      "   ------------ --------------------------- 2.3/7.5 MB 443.5 kB/s eta 0:00:12\n",
      "   ------------ --------------------------- 2.3/7.5 MB 444.8 kB/s eta 0:00:12\n",
      "   ------------ --------------------------- 2.3/7.5 MB 444.8 kB/s eta 0:00:12\n",
      "   ------------ --------------------------- 2.3/7.5 MB 440.2 kB/s eta 0:00:12\n",
      "   ------------ --------------------------- 2.3/7.5 MB 439.4 kB/s eta 0:00:12\n",
      "   ------------ --------------------------- 2.4/7.5 MB 438.2 kB/s eta 0:00:12\n",
      "   ------------ --------------------------- 2.4/7.5 MB 437.6 kB/s eta 0:00:12\n",
      "   ------------ --------------------------- 2.4/7.5 MB 437.6 kB/s eta 0:00:12\n",
      "   ------------ --------------------------- 2.4/7.5 MB 436.3 kB/s eta 0:00:12\n",
      "   ------------ --------------------------- 2.4/7.5 MB 435.1 kB/s eta 0:00:12\n",
      "   ------------ --------------------------- 2.4/7.5 MB 435.1 kB/s eta 0:00:12\n",
      "   ------------ --------------------------- 2.4/7.5 MB 432.0 kB/s eta 0:00:12\n",
      "   ------------- -------------------------- 2.4/7.5 MB 432.0 kB/s eta 0:00:12\n",
      "   ------------- -------------------------- 2.5/7.5 MB 430.3 kB/s eta 0:00:12\n",
      "   ------------- -------------------------- 2.5/7.5 MB 426.2 kB/s eta 0:00:12\n",
      "   ------------- -------------------------- 2.5/7.5 MB 428.0 kB/s eta 0:00:12\n",
      "   ------------- -------------------------- 2.5/7.5 MB 427.0 kB/s eta 0:00:12\n",
      "   ------------- -------------------------- 2.5/7.5 MB 426.4 kB/s eta 0:00:12\n",
      "   ------------- -------------------------- 2.5/7.5 MB 425.4 kB/s eta 0:00:12\n",
      "   ------------- -------------------------- 2.5/7.5 MB 422.6 kB/s eta 0:00:12\n",
      "   ------------- -------------------------- 2.5/7.5 MB 422.6 kB/s eta 0:00:12\n",
      "   ------------- -------------------------- 2.6/7.5 MB 420.5 kB/s eta 0:00:12\n",
      "   ------------- -------------------------- 2.6/7.5 MB 420.7 kB/s eta 0:00:12\n",
      "   ------------- -------------------------- 2.6/7.5 MB 420.2 kB/s eta 0:00:12\n",
      "   ------------- -------------------------- 2.6/7.5 MB 417.7 kB/s eta 0:00:12\n",
      "   ------------- -------------------------- 2.6/7.5 MB 417.8 kB/s eta 0:00:12\n",
      "   ------------- -------------------------- 2.6/7.5 MB 417.8 kB/s eta 0:00:12\n",
      "   -------------- ------------------------- 2.6/7.5 MB 414.3 kB/s eta 0:00:12\n",
      "   -------------- ------------------------- 2.7/7.5 MB 414.4 kB/s eta 0:00:12\n",
      "   -------------- ------------------------- 2.7/7.5 MB 413.5 kB/s eta 0:00:12\n",
      "   -------------- ------------------------- 2.7/7.5 MB 412.1 kB/s eta 0:00:12\n",
      "   -------------- ------------------------- 2.7/7.5 MB 412.1 kB/s eta 0:00:12\n",
      "   -------------- ------------------------- 2.7/7.5 MB 411.4 kB/s eta 0:00:12\n",
      "   -------------- ------------------------- 2.7/7.5 MB 410.0 kB/s eta 0:00:12\n",
      "   -------------- ------------------------- 2.7/7.5 MB 409.2 kB/s eta 0:00:12\n",
      "   -------------- ------------------------- 2.7/7.5 MB 409.2 kB/s eta 0:00:12\n",
      "   -------------- ------------------------- 2.8/7.5 MB 408.4 kB/s eta 0:00:12\n",
      "   -------------- ------------------------- 2.8/7.5 MB 407.1 kB/s eta 0:00:12\n",
      "   -------------- ------------------------- 2.8/7.5 MB 406.4 kB/s eta 0:00:12\n",
      "   -------------- ------------------------- 2.8/7.5 MB 406.4 kB/s eta 0:00:12\n",
      "   -------------- ------------------------- 2.8/7.5 MB 404.2 kB/s eta 0:00:12\n",
      "   -------------- ------------------------- 2.8/7.5 MB 404.2 kB/s eta 0:00:12\n",
      "   --------------- ------------------------ 2.8/7.5 MB 403.5 kB/s eta 0:00:12\n",
      "   --------------- ------------------------ 2.8/7.5 MB 402.8 kB/s eta 0:00:12\n",
      "   --------------- ------------------------ 2.8/7.5 MB 402.5 kB/s eta 0:00:12\n",
      "   --------------- ------------------------ 2.9/7.5 MB 401.3 kB/s eta 0:00:12\n",
      "   --------------- ------------------------ 2.9/7.5 MB 401.3 kB/s eta 0:00:12\n",
      "   --------------- ------------------------ 2.9/7.5 MB 398.9 kB/s eta 0:00:12\n",
      "   --------------- ------------------------ 2.9/7.5 MB 398.9 kB/s eta 0:00:12\n",
      "   --------------- ------------------------ 2.9/7.5 MB 396.9 kB/s eta 0:00:12\n",
      "   --------------- ------------------------ 2.9/7.5 MB 398.0 kB/s eta 0:00:12\n",
      "   --------------- ------------------------ 2.9/7.5 MB 398.3 kB/s eta 0:00:12\n",
      "   --------------- ------------------------ 2.9/7.5 MB 395.4 kB/s eta 0:00:12\n",
      "   --------------- ------------------------ 2.9/7.5 MB 395.4 kB/s eta 0:00:12\n",
      "   --------------- ------------------------ 3.0/7.5 MB 394.8 kB/s eta 0:00:12\n",
      "   --------------- ------------------------ 3.0/7.5 MB 394.6 kB/s eta 0:00:12\n",
      "   --------------- ------------------------ 3.0/7.5 MB 394.0 kB/s eta 0:00:12\n",
      "   --------------- ------------------------ 3.0/7.5 MB 394.0 kB/s eta 0:00:12\n",
      "   ---------------- ----------------------- 3.0/7.5 MB 393.5 kB/s eta 0:00:12\n",
      "   ---------------- ----------------------- 3.0/7.5 MB 392.4 kB/s eta 0:00:12\n",
      "   ---------------- ----------------------- 3.0/7.5 MB 392.7 kB/s eta 0:00:12\n",
      "   ---------------- ----------------------- 3.1/7.5 MB 391.6 kB/s eta 0:00:12\n",
      "   ---------------- ----------------------- 3.1/7.5 MB 391.6 kB/s eta 0:00:12\n",
      "   ---------------- ----------------------- 3.1/7.5 MB 390.3 kB/s eta 0:00:12\n",
      "   ---------------- ----------------------- 3.1/7.5 MB 390.6 kB/s eta 0:00:12\n",
      "   ---------------- ----------------------- 3.1/7.5 MB 389.6 kB/s eta 0:00:12\n",
      "   ---------------- ----------------------- 3.1/7.5 MB 389.3 kB/s eta 0:00:12\n",
      "   ---------------- ----------------------- 3.1/7.5 MB 389.6 kB/s eta 0:00:12\n",
      "   ---------------- ----------------------- 3.1/7.5 MB 387.9 kB/s eta 0:00:12\n",
      "   ---------------- ----------------------- 3.1/7.5 MB 387.9 kB/s eta 0:00:12\n",
      "   ---------------- ----------------------- 3.2/7.5 MB 389.2 kB/s eta 0:00:12\n",
      "   ---------------- ----------------------- 3.2/7.5 MB 389.2 kB/s eta 0:00:12\n",
      "   ----------------- ---------------------- 3.2/7.5 MB 387.5 kB/s eta 0:00:12\n",
      "   ----------------- ---------------------- 3.2/7.5 MB 386.3 kB/s eta 0:00:12\n",
      "   ----------------- ---------------------- 3.2/7.5 MB 385.3 kB/s eta 0:00:12\n",
      "   ----------------- ---------------------- 3.2/7.5 MB 386.4 kB/s eta 0:00:12\n",
      "   ----------------- ---------------------- 3.3/7.5 MB 386.6 kB/s eta 0:00:11\n",
      "   ----------------- ---------------------- 3.3/7.5 MB 386.6 kB/s eta 0:00:11\n",
      "   ----------------- ---------------------- 3.3/7.5 MB 384.3 kB/s eta 0:00:12\n",
      "   ----------------- ---------------------- 3.3/7.5 MB 384.6 kB/s eta 0:00:11\n",
      "   ----------------- ---------------------- 3.3/7.5 MB 384.4 kB/s eta 0:00:11\n",
      "   ----------------- ---------------------- 3.3/7.5 MB 384.7 kB/s eta 0:00:11\n",
      "   ----------------- ---------------------- 3.3/7.5 MB 384.9 kB/s eta 0:00:11\n",
      "   ----------------- ---------------------- 3.4/7.5 MB 383.3 kB/s eta 0:00:11\n",
      "   ------------------ --------------------- 3.4/7.5 MB 383.7 kB/s eta 0:00:11\n",
      "   ------------------ --------------------- 3.4/7.5 MB 382.8 kB/s eta 0:00:11\n",
      "   ------------------ --------------------- 3.4/7.5 MB 382.8 kB/s eta 0:00:11\n",
      "   ------------------ --------------------- 3.4/7.5 MB 384.7 kB/s eta 0:00:11\n",
      "   ------------------ --------------------- 3.4/7.5 MB 383.2 kB/s eta 0:00:11\n",
      "   ------------------ --------------------- 3.5/7.5 MB 383.4 kB/s eta 0:00:11\n",
      "   ------------------ --------------------- 3.5/7.5 MB 382.6 kB/s eta 0:00:11\n",
      "   ------------------ --------------------- 3.5/7.5 MB 382.6 kB/s eta 0:00:11\n",
      "   ------------------ --------------------- 3.5/7.5 MB 382.6 kB/s eta 0:00:11\n",
      "   ------------------ --------------------- 3.5/7.5 MB 382.5 kB/s eta 0:00:11\n",
      "   ------------------ --------------------- 3.5/7.5 MB 382.5 kB/s eta 0:00:11\n",
      "   ------------------ --------------------- 3.5/7.5 MB 382.5 kB/s eta 0:00:11\n",
      "   ------------------ --------------------- 3.5/7.5 MB 382.5 kB/s eta 0:00:11\n",
      "   ------------------- -------------------- 3.6/7.5 MB 382.0 kB/s eta 0:00:11\n",
      "   ------------------- -------------------- 3.6/7.5 MB 382.0 kB/s eta 0:00:11\n",
      "   ------------------- -------------------- 3.6/7.5 MB 382.0 kB/s eta 0:00:11\n",
      "   ------------------- -------------------- 3.6/7.5 MB 381.9 kB/s eta 0:00:11\n",
      "   ------------------- -------------------- 3.6/7.5 MB 381.9 kB/s eta 0:00:11\n",
      "   ------------------- -------------------- 3.6/7.5 MB 381.9 kB/s eta 0:00:11\n",
      "   ------------------- -------------------- 3.6/7.5 MB 381.9 kB/s eta 0:00:11\n",
      "   ------------------- -------------------- 3.6/7.5 MB 381.9 kB/s eta 0:00:11\n",
      "   ------------------- -------------------- 3.6/7.5 MB 381.9 kB/s eta 0:00:11\n",
      "   ------------------- -------------------- 3.6/7.5 MB 374.6 kB/s eta 0:00:11\n",
      "   ------------------- -------------------- 3.7/7.5 MB 376.0 kB/s eta 0:00:11\n",
      "   ------------------- -------------------- 3.7/7.5 MB 376.3 kB/s eta 0:00:11\n",
      "   ------------------- -------------------- 3.7/7.5 MB 377.2 kB/s eta 0:00:11\n",
      "   ------------------- -------------------- 3.7/7.5 MB 377.2 kB/s eta 0:00:11\n",
      "   ------------------- -------------------- 3.7/7.5 MB 374.6 kB/s eta 0:00:11\n",
      "   ------------------- -------------------- 3.7/7.5 MB 375.5 kB/s eta 0:00:11\n",
      "   -------------------- ------------------- 3.8/7.5 MB 375.7 kB/s eta 0:00:10\n",
      "   -------------------- ------------------- 3.8/7.5 MB 376.5 kB/s eta 0:00:10\n",
      "   -------------------- ------------------- 3.8/7.5 MB 376.4 kB/s eta 0:00:10\n",
      "   -------------------- ------------------- 3.8/7.5 MB 376.6 kB/s eta 0:00:10\n",
      "   -------------------- ------------------- 3.8/7.5 MB 375.9 kB/s eta 0:00:10\n",
      "   -------------------- ------------------- 3.9/7.5 MB 376.8 kB/s eta 0:00:10\n",
      "   -------------------- ------------------- 3.9/7.5 MB 377.8 kB/s eta 0:00:10\n",
      "   -------------------- ------------------- 3.9/7.5 MB 378.0 kB/s eta 0:00:10\n",
      "   -------------------- ------------------- 3.9/7.5 MB 379.3 kB/s eta 0:00:10\n",
      "   -------------------- ------------------- 3.9/7.5 MB 378.6 kB/s eta 0:00:10\n",
      "   --------------------- ------------------ 4.0/7.5 MB 379.4 kB/s eta 0:00:10\n",
      "   --------------------- ------------------ 4.0/7.5 MB 379.5 kB/s eta 0:00:10\n",
      "   --------------------- ------------------ 4.0/7.5 MB 380.3 kB/s eta 0:00:10\n",
      "   --------------------- ------------------ 4.0/7.5 MB 379.6 kB/s eta 0:00:10\n",
      "   --------------------- ------------------ 4.0/7.5 MB 380.4 kB/s eta 0:00:10\n",
      "   --------------------- ------------------ 4.1/7.5 MB 381.6 kB/s eta 0:00:10\n",
      "   --------------------- ------------------ 4.1/7.5 MB 382.5 kB/s eta 0:00:09\n",
      "   --------------------- ------------------ 4.1/7.5 MB 383.7 kB/s eta 0:00:09\n",
      "   --------------------- ------------------ 4.1/7.5 MB 382.9 kB/s eta 0:00:09\n",
      "   ---------------------- ----------------- 4.2/7.5 MB 383.5 kB/s eta 0:00:09\n",
      "   ---------------------- ----------------- 4.2/7.5 MB 385.3 kB/s eta 0:00:09\n",
      "   ---------------------- ----------------- 4.2/7.5 MB 386.4 kB/s eta 0:00:09\n",
      "   ---------------------- ----------------- 4.2/7.5 MB 387.2 kB/s eta 0:00:09\n",
      "   ---------------------- ----------------- 4.3/7.5 MB 388.5 kB/s eta 0:00:09\n",
      "   ---------------------- ----------------- 4.3/7.5 MB 388.0 kB/s eta 0:00:09\n",
      "   ----------------------- ---------------- 4.3/7.5 MB 389.2 kB/s eta 0:00:09\n",
      "   ----------------------- ---------------- 4.4/7.5 MB 390.8 kB/s eta 0:00:09\n",
      "   ----------------------- ---------------- 4.4/7.5 MB 391.4 kB/s eta 0:00:08\n",
      "   ----------------------- ---------------- 4.4/7.5 MB 391.6 kB/s eta 0:00:08\n",
      "   ----------------------- ---------------- 4.4/7.5 MB 391.6 kB/s eta 0:00:08\n",
      "   ----------------------- ---------------- 4.4/7.5 MB 391.6 kB/s eta 0:00:08\n",
      "   ----------------------- ---------------- 4.4/7.5 MB 390.9 kB/s eta 0:00:08\n",
      "   ----------------------- ---------------- 4.5/7.5 MB 391.9 kB/s eta 0:00:08\n",
      "   ----------------------- ---------------- 4.5/7.5 MB 393.2 kB/s eta 0:00:08\n",
      "   ------------------------ --------------- 4.5/7.5 MB 394.3 kB/s eta 0:00:08\n",
      "   ------------------------ --------------- 4.5/7.5 MB 395.5 kB/s eta 0:00:08\n",
      "   ------------------------ --------------- 4.6/7.5 MB 394.8 kB/s eta 0:00:08\n",
      "   ------------------------ --------------- 4.6/7.5 MB 394.5 kB/s eta 0:00:08\n",
      "   ------------------------ --------------- 4.6/7.5 MB 395.5 kB/s eta 0:00:08\n",
      "   ------------------------ --------------- 4.6/7.5 MB 397.1 kB/s eta 0:00:08\n",
      "   ------------------------ --------------- 4.7/7.5 MB 398.1 kB/s eta 0:00:08\n",
      "   ------------------------- -------------- 4.7/7.5 MB 399.7 kB/s eta 0:00:08\n",
      "   ------------------------- -------------- 4.7/7.5 MB 400.9 kB/s eta 0:00:07\n",
      "   ------------------------- -------------- 4.8/7.5 MB 401.3 kB/s eta 0:00:07\n",
      "   ------------------------- -------------- 4.8/7.5 MB 402.3 kB/s eta 0:00:07\n",
      "   ------------------------- -------------- 4.8/7.5 MB 403.9 kB/s eta 0:00:07\n",
      "   ------------------------- -------------- 4.9/7.5 MB 406.6 kB/s eta 0:00:07\n",
      "   -------------------------- ------------- 4.9/7.5 MB 407.5 kB/s eta 0:00:07\n",
      "   -------------------------- ------------- 4.9/7.5 MB 408.2 kB/s eta 0:00:07\n",
      "   -------------------------- ------------- 5.0/7.5 MB 410.0 kB/s eta 0:00:07\n",
      "   -------------------------- ------------- 5.0/7.5 MB 410.6 kB/s eta 0:00:07\n",
      "   -------------------------- ------------- 5.0/7.5 MB 411.9 kB/s eta 0:00:07\n",
      "   --------------------------- ------------ 5.1/7.5 MB 414.5 kB/s eta 0:00:06\n",
      "   --------------------------- ------------ 5.1/7.5 MB 414.5 kB/s eta 0:00:06\n",
      "   --------------------------- ------------ 5.1/7.5 MB 417.7 kB/s eta 0:00:06\n",
      "   --------------------------- ------------ 5.2/7.5 MB 419.5 kB/s eta 0:00:06\n",
      "   --------------------------- ------------ 5.2/7.5 MB 418.7 kB/s eta 0:00:06\n",
      "   --------------------------- ------------ 5.2/7.5 MB 421.8 kB/s eta 0:00:06\n",
      "   --------------------------- ------------ 5.3/7.5 MB 422.1 kB/s eta 0:00:06\n",
      "   ---------------------------- ----------- 5.3/7.5 MB 422.4 kB/s eta 0:00:06\n",
      "   ---------------------------- ----------- 5.3/7.5 MB 424.1 kB/s eta 0:00:06\n",
      "   ---------------------------- ----------- 5.4/7.5 MB 426.3 kB/s eta 0:00:06\n",
      "   ---------------------------- ----------- 5.4/7.5 MB 428.8 kB/s eta 0:00:05\n",
      "   ---------------------------- ----------- 5.4/7.5 MB 429.9 kB/s eta 0:00:05\n",
      "   ---------------------------- ----------- 5.4/7.5 MB 429.9 kB/s eta 0:00:05\n",
      "   ---------------------------- ----------- 5.4/7.5 MB 429.9 kB/s eta 0:00:05\n",
      "   ---------------------------- ----------- 5.4/7.5 MB 429.9 kB/s eta 0:00:05\n",
      "   ---------------------------- ----------- 5.4/7.5 MB 429.9 kB/s eta 0:00:05\n",
      "   ---------------------------- ----------- 5.4/7.5 MB 429.9 kB/s eta 0:00:05\n",
      "   ----------------------------- ---------- 5.4/7.5 MB 422.3 kB/s eta 0:00:05\n",
      "   ----------------------------- ---------- 5.4/7.5 MB 422.3 kB/s eta 0:00:05\n",
      "   ----------------------------- ---------- 5.4/7.5 MB 422.3 kB/s eta 0:00:05\n",
      "   ----------------------------- ---------- 5.4/7.5 MB 422.3 kB/s eta 0:00:05\n",
      "   ----------------------------- ---------- 5.4/7.5 MB 422.3 kB/s eta 0:00:05\n",
      "   ----------------------------- ---------- 5.4/7.5 MB 422.3 kB/s eta 0:00:05\n",
      "   ------------------------------ --------- 5.8/7.5 MB 439.5 kB/s eta 0:00:04\n",
      "   ------------------------------ --------- 5.8/7.5 MB 439.5 kB/s eta 0:00:04\n",
      "   ------------------------------ --------- 5.8/7.5 MB 438.2 kB/s eta 0:00:04\n",
      "   ------------------------------- -------- 5.8/7.5 MB 440.0 kB/s eta 0:00:04\n",
      "   ------------------------------- -------- 5.9/7.5 MB 440.7 kB/s eta 0:00:04\n",
      "   ------------------------------- -------- 5.9/7.5 MB 443.5 kB/s eta 0:00:04\n",
      "   ------------------------------- -------- 5.9/7.5 MB 443.5 kB/s eta 0:00:04\n",
      "   ------------------------------- -------- 6.0/7.5 MB 444.3 kB/s eta 0:00:04\n",
      "   ------------------------------- -------- 6.0/7.5 MB 444.2 kB/s eta 0:00:04\n",
      "   -------------------------------- ------- 6.0/7.5 MB 445.2 kB/s eta 0:00:04\n",
      "   -------------------------------- ------- 6.0/7.5 MB 445.7 kB/s eta 0:00:04\n",
      "   -------------------------------- ------- 6.1/7.5 MB 447.7 kB/s eta 0:00:04\n",
      "   -------------------------------- ------- 6.1/7.5 MB 448.9 kB/s eta 0:00:04\n",
      "   -------------------------------- ------- 6.2/7.5 MB 449.1 kB/s eta 0:00:03\n",
      "   --------------------------------- ------ 6.2/7.5 MB 451.1 kB/s eta 0:00:03\n",
      "   --------------------------------- ------ 6.2/7.5 MB 450.8 kB/s eta 0:00:03\n",
      "   --------------------------------- ------ 6.2/7.5 MB 451.0 kB/s eta 0:00:03\n",
      "   --------------------------------- ------ 6.3/7.5 MB 452.9 kB/s eta 0:00:03\n",
      "   --------------------------------- ------ 6.3/7.5 MB 454.1 kB/s eta 0:00:03\n",
      "   --------------------------------- ------ 6.4/7.5 MB 456.2 kB/s eta 0:00:03\n",
      "   --------------------------------- ------ 6.4/7.5 MB 456.5 kB/s eta 0:00:03\n",
      "   --------------------------------- ------ 6.4/7.5 MB 456.5 kB/s eta 0:00:03\n",
      "   --------------------------------- ------ 6.4/7.5 MB 456.5 kB/s eta 0:00:03\n",
      "   --------------------------------- ------ 6.4/7.5 MB 456.5 kB/s eta 0:00:03\n",
      "   --------------------------------- ------ 6.4/7.5 MB 456.5 kB/s eta 0:00:03\n",
      "   --------------------------------- ------ 6.4/7.5 MB 456.5 kB/s eta 0:00:03\n",
      "   ---------------------------------- ----- 6.4/7.5 MB 450.1 kB/s eta 0:00:03\n",
      "   ---------------------------------- ----- 6.5/7.5 MB 458.9 kB/s eta 0:00:03\n",
      "   ---------------------------------- ----- 6.5/7.5 MB 458.9 kB/s eta 0:00:03\n",
      "   ---------------------------------- ----- 6.5/7.5 MB 458.9 kB/s eta 0:00:03\n",
      "   ---------------------------------- ----- 6.5/7.5 MB 458.9 kB/s eta 0:00:03\n",
      "   ----------------------------------- ---- 6.7/7.5 MB 463.6 kB/s eta 0:00:02\n",
      "   ----------------------------------- ---- 6.7/7.5 MB 463.6 kB/s eta 0:00:02\n",
      "   ----------------------------------- ---- 6.7/7.5 MB 463.5 kB/s eta 0:00:02\n",
      "   ----------------------------------- ---- 6.7/7.5 MB 463.7 kB/s eta 0:00:02\n",
      "   ------------------------------------ --- 6.8/7.5 MB 464.1 kB/s eta 0:00:02\n",
      "   ------------------------------------ --- 6.8/7.5 MB 464.1 kB/s eta 0:00:02\n",
      "   ------------------------------------ --- 6.8/7.5 MB 462.7 kB/s eta 0:00:02\n",
      "   ------------------------------------ --- 6.8/7.5 MB 462.6 kB/s eta 0:00:02\n",
      "   ------------------------------------ --- 6.8/7.5 MB 462.4 kB/s eta 0:00:02\n",
      "   ------------------------------------ --- 6.9/7.5 MB 462.8 kB/s eta 0:00:02\n",
      "   ------------------------------------ --- 6.9/7.5 MB 462.5 kB/s eta 0:00:02\n",
      "   ------------------------------------ --- 6.9/7.5 MB 462.5 kB/s eta 0:00:02\n",
      "   ------------------------------------ --- 6.9/7.5 MB 461.8 kB/s eta 0:00:02\n",
      "   ------------------------------------ --- 6.9/7.5 MB 461.6 kB/s eta 0:00:02\n",
      "   ------------------------------------ --- 6.9/7.5 MB 461.9 kB/s eta 0:00:02\n",
      "   ------------------------------------ --- 6.9/7.5 MB 461.7 kB/s eta 0:00:02\n",
      "   ------------------------------------- -- 7.0/7.5 MB 461.6 kB/s eta 0:00:02\n",
      "   ------------------------------------- -- 7.0/7.5 MB 461.5 kB/s eta 0:00:02\n",
      "   ------------------------------------- -- 7.0/7.5 MB 460.8 kB/s eta 0:00:02\n",
      "   ------------------------------------- -- 7.0/7.5 MB 461.4 kB/s eta 0:00:02\n",
      "   ------------------------------------- -- 7.0/7.5 MB 461.8 kB/s eta 0:00:02\n",
      "   ------------------------------------- -- 7.1/7.5 MB 461.7 kB/s eta 0:00:01\n",
      "   ------------------------------------- -- 7.1/7.5 MB 461.7 kB/s eta 0:00:01\n",
      "   ------------------------------------- -- 7.1/7.5 MB 461.3 kB/s eta 0:00:01\n",
      "   ------------------------------------- -- 7.1/7.5 MB 461.1 kB/s eta 0:00:01\n",
      "   -------------------------------------- - 7.1/7.5 MB 461.9 kB/s eta 0:00:01\n",
      "   -------------------------------------- - 7.2/7.5 MB 461.6 kB/s eta 0:00:01\n",
      "   -------------------------------------- - 7.2/7.5 MB 461.8 kB/s eta 0:00:01\n",
      "   -------------------------------------- - 7.2/7.5 MB 460.6 kB/s eta 0:00:01\n",
      "   -------------------------------------- - 7.2/7.5 MB 460.7 kB/s eta 0:00:01\n",
      "   -------------------------------------- - 7.2/7.5 MB 461.1 kB/s eta 0:00:01\n",
      "   -------------------------------------- - 7.3/7.5 MB 461.7 kB/s eta 0:00:01\n",
      "   -------------------------------------- - 7.3/7.5 MB 461.7 kB/s eta 0:00:01\n",
      "   -------------------------------------- - 7.3/7.5 MB 460.9 kB/s eta 0:00:01\n",
      "   -------------------------------------- - 7.3/7.5 MB 460.8 kB/s eta 0:00:01\n",
      "   ---------------------------------------  7.3/7.5 MB 461.6 kB/s eta 0:00:01\n",
      "   ---------------------------------------  7.4/7.5 MB 461.9 kB/s eta 0:00:01\n",
      "   ---------------------------------------  7.4/7.5 MB 462.2 kB/s eta 0:00:01\n",
      "   ---------------------------------------  7.4/7.5 MB 462.2 kB/s eta 0:00:01\n",
      "   ---------------------------------------  7.4/7.5 MB 461.6 kB/s eta 0:00:01\n",
      "   ---------------------------------------  7.4/7.5 MB 460.5 kB/s eta 0:00:01\n",
      "   ---------------------------------------  7.5/7.5 MB 461.7 kB/s eta 0:00:01\n",
      "   ---------------------------------------  7.5/7.5 MB 461.8 kB/s eta 0:00:01\n",
      "   ---------------------------------------  7.5/7.5 MB 461.8 kB/s eta 0:00:01\n",
      "   ---------------------------------------  7.5/7.5 MB 461.3 kB/s eta 0:00:01\n",
      "   ---------------------------------------- 7.5/7.5 MB 460.0 kB/s eta 0:00:00\n",
      "Downloading numpy-1.25.2-cp311-cp311-win_amd64.whl (15.5 MB)\n",
      "   ---------------------------------------- 0.0/15.5 MB ? eta -:--:--\n",
      "   ---------------------------------------- 0.0/15.5 MB 1.4 MB/s eta 0:00:12\n",
      "   ---------------------------------------- 0.1/15.5 MB 825.8 kB/s eta 0:00:19\n",
      "   ---------------------------------------- 0.1/15.5 MB 770.8 kB/s eta 0:00:21\n",
      "   ---------------------------------------- 0.1/15.5 MB 655.4 kB/s eta 0:00:24\n",
      "   ---------------------------------------- 0.1/15.5 MB 655.4 kB/s eta 0:00:24\n",
      "   ---------------------------------------- 0.1/15.5 MB 481.4 kB/s eta 0:00:33\n",
      "   ---------------------------------------- 0.1/15.5 MB 502.3 kB/s eta 0:00:31\n",
      "   ---------------------------------------- 0.2/15.5 MB 546.6 kB/s eta 0:00:29\n",
      "    --------------------------------------- 0.2/15.5 MB 537.4 kB/s eta 0:00:29\n",
      "    --------------------------------------- 0.2/15.5 MB 518.8 kB/s eta 0:00:30\n",
      "    --------------------------------------- 0.2/15.5 MB 509.6 kB/s eta 0:00:31\n",
      "    --------------------------------------- 0.2/15.5 MB 519.9 kB/s eta 0:00:30\n",
      "    --------------------------------------- 0.3/15.5 MB 517.0 kB/s eta 0:00:30\n",
      "    --------------------------------------- 0.3/15.5 MB 505.4 kB/s eta 0:00:31\n",
      "    --------------------------------------- 0.3/15.5 MB 513.8 kB/s eta 0:00:30\n",
      "    --------------------------------------- 0.3/15.5 MB 521.2 kB/s eta 0:00:30\n",
      "    --------------------------------------- 0.4/15.5 MB 506.8 kB/s eta 0:00:30\n",
      "    --------------------------------------- 0.4/15.5 MB 499.2 kB/s eta 0:00:31\n",
      "   - -------------------------------------- 0.4/15.5 MB 505.2 kB/s eta 0:00:31\n",
      "   - -------------------------------------- 0.4/15.5 MB 511.3 kB/s eta 0:00:30\n",
      "   - -------------------------------------- 0.4/15.5 MB 511.3 kB/s eta 0:00:30\n",
      "   - -------------------------------------- 0.4/15.5 MB 491.5 kB/s eta 0:00:31\n",
      "   - -------------------------------------- 0.5/15.5 MB 486.0 kB/s eta 0:00:32\n",
      "   - -------------------------------------- 0.5/15.5 MB 505.0 kB/s eta 0:00:30\n",
      "   - -------------------------------------- 0.5/15.5 MB 499.5 kB/s eta 0:00:31\n",
      "   - -------------------------------------- 0.5/15.5 MB 499.5 kB/s eta 0:00:31\n",
      "   - -------------------------------------- 0.5/15.5 MB 468.4 kB/s eta 0:00:33\n",
      "   - -------------------------------------- 0.5/15.5 MB 464.2 kB/s eta 0:00:33\n",
      "   - -------------------------------------- 0.6/15.5 MB 480.5 kB/s eta 0:00:32\n",
      "   - -------------------------------------- 0.6/15.5 MB 480.5 kB/s eta 0:00:32\n",
      "   - -------------------------------------- 0.6/15.5 MB 483.3 kB/s eta 0:00:31\n",
      "   - -------------------------------------- 0.6/15.5 MB 483.3 kB/s eta 0:00:31\n",
      "   - -------------------------------------- 0.7/15.5 MB 480.4 kB/s eta 0:00:32\n",
      "   - -------------------------------------- 0.7/15.5 MB 476.6 kB/s eta 0:00:32\n",
      "   - -------------------------------------- 0.7/15.5 MB 486.2 kB/s eta 0:00:31\n",
      "   - -------------------------------------- 0.7/15.5 MB 472.2 kB/s eta 0:00:32\n",
      "   - -------------------------------------- 0.7/15.5 MB 484.7 kB/s eta 0:00:31\n",
      "   - -------------------------------------- 0.8/15.5 MB 485.1 kB/s eta 0:00:31\n",
      "   -- ------------------------------------- 0.8/15.5 MB 486.7 kB/s eta 0:00:31\n",
      "   -- ------------------------------------- 0.8/15.5 MB 490.0 kB/s eta 0:00:31\n",
      "   -- ------------------------------------- 0.8/15.5 MB 485.6 kB/s eta 0:00:31\n",
      "   -- ------------------------------------- 0.8/15.5 MB 484.2 kB/s eta 0:00:31\n",
      "   -- ------------------------------------- 0.9/15.5 MB 481.5 kB/s eta 0:00:31\n",
      "   -- ------------------------------------- 0.9/15.5 MB 484.4 kB/s eta 0:00:31\n",
      "   -- ------------------------------------- 0.9/15.5 MB 484.7 kB/s eta 0:00:31\n",
      "   -- ------------------------------------- 0.9/15.5 MB 488.9 kB/s eta 0:00:30\n",
      "   -- ------------------------------------- 1.0/15.5 MB 483.9 kB/s eta 0:00:31\n",
      "   -- ------------------------------------- 1.0/15.5 MB 490.3 kB/s eta 0:00:30\n",
      "   -- ------------------------------------- 1.0/15.5 MB 484.0 kB/s eta 0:00:31\n",
      "   -- ------------------------------------- 1.0/15.5 MB 484.0 kB/s eta 0:00:31\n",
      "   -- ------------------------------------- 1.0/15.5 MB 477.1 kB/s eta 0:00:31\n",
      "   -- ------------------------------------- 1.0/15.5 MB 479.7 kB/s eta 0:00:31\n",
      "   -- ------------------------------------- 1.1/15.5 MB 483.4 kB/s eta 0:00:30\n",
      "   -- ------------------------------------- 1.1/15.5 MB 487.0 kB/s eta 0:00:30\n",
      "   -- ------------------------------------- 1.1/15.5 MB 487.0 kB/s eta 0:00:30\n",
      "   -- ------------------------------------- 1.1/15.5 MB 479.4 kB/s eta 0:00:31\n",
      "   -- ------------------------------------- 1.2/15.5 MB 482.9 kB/s eta 0:00:30\n",
      "   --- ------------------------------------ 1.2/15.5 MB 485.2 kB/s eta 0:00:30\n",
      "   --- ------------------------------------ 1.2/15.5 MB 488.4 kB/s eta 0:00:30\n",
      "   --- ------------------------------------ 1.2/15.5 MB 490.6 kB/s eta 0:00:30\n",
      "   --- ------------------------------------ 1.2/15.5 MB 490.6 kB/s eta 0:00:30\n",
      "   --- ------------------------------------ 1.3/15.5 MB 487.6 kB/s eta 0:00:30\n",
      "   --- ------------------------------------ 1.3/15.5 MB 482.8 kB/s eta 0:00:30\n",
      "   --- ------------------------------------ 1.3/15.5 MB 486.7 kB/s eta 0:00:30\n",
      "   --- ------------------------------------ 1.3/15.5 MB 488.7 kB/s eta 0:00:30\n",
      "   --- ------------------------------------ 1.3/15.5 MB 488.7 kB/s eta 0:00:30\n",
      "   --- ------------------------------------ 1.4/15.5 MB 487.8 kB/s eta 0:00:30\n",
      "   --- ------------------------------------ 1.4/15.5 MB 488.0 kB/s eta 0:00:30\n",
      "   --- ------------------------------------ 1.4/15.5 MB 488.0 kB/s eta 0:00:30\n",
      "   --- ------------------------------------ 1.4/15.5 MB 490.6 kB/s eta 0:00:29\n",
      "   --- ------------------------------------ 1.4/15.5 MB 490.6 kB/s eta 0:00:29\n",
      "   --- ------------------------------------ 1.5/15.5 MB 482.3 kB/s eta 0:00:30\n",
      "   --- ------------------------------------ 1.5/15.5 MB 480.6 kB/s eta 0:00:30\n",
      "   --- ------------------------------------ 1.5/15.5 MB 482.4 kB/s eta 0:00:30\n",
      "   --- ------------------------------------ 1.5/15.5 MB 482.6 kB/s eta 0:00:30\n",
      "   --- ------------------------------------ 1.5/15.5 MB 484.2 kB/s eta 0:00:29\n",
      "   ---- ----------------------------------- 1.6/15.5 MB 484.5 kB/s eta 0:00:29\n",
      "   ---- ----------------------------------- 1.6/15.5 MB 483.8 kB/s eta 0:00:29\n",
      "   ---- ----------------------------------- 1.6/15.5 MB 486.9 kB/s eta 0:00:29\n",
      "   ---- ----------------------------------- 1.6/15.5 MB 486.2 kB/s eta 0:00:29\n",
      "   ---- ----------------------------------- 1.7/15.5 MB 484.0 kB/s eta 0:00:29\n",
      "   ---- ----------------------------------- 1.7/15.5 MB 487.8 kB/s eta 0:00:29\n",
      "   ---- ----------------------------------- 1.7/15.5 MB 486.3 kB/s eta 0:00:29\n",
      "   ---- ----------------------------------- 1.7/15.5 MB 485.7 kB/s eta 0:00:29\n",
      "   ---- ----------------------------------- 1.7/15.5 MB 485.8 kB/s eta 0:00:29\n",
      "   ---- ----------------------------------- 1.8/15.5 MB 487.3 kB/s eta 0:00:29\n",
      "   ---- ----------------------------------- 1.8/15.5 MB 489.5 kB/s eta 0:00:29\n",
      "   ---- ----------------------------------- 1.8/15.5 MB 489.5 kB/s eta 0:00:29\n",
      "   ---- ----------------------------------- 1.8/15.5 MB 487.5 kB/s eta 0:00:29\n",
      "   ---- ----------------------------------- 1.9/15.5 MB 489.6 kB/s eta 0:00:28\n",
      "   ---- ----------------------------------- 1.9/15.5 MB 488.9 kB/s eta 0:00:28\n",
      "   ---- ----------------------------------- 1.9/15.5 MB 492.9 kB/s eta 0:00:28\n",
      "   ---- ----------------------------------- 1.9/15.5 MB 491.5 kB/s eta 0:00:28\n",
      "   ---- ----------------------------------- 1.9/15.5 MB 490.9 kB/s eta 0:00:28\n",
      "   ----- ---------------------------------- 1.9/15.5 MB 489.6 kB/s eta 0:00:28\n",
      "   ----- ---------------------------------- 2.0/15.5 MB 492.2 kB/s eta 0:00:28\n",
      "   ----- ---------------------------------- 2.0/15.5 MB 490.9 kB/s eta 0:00:28\n",
      "   ----- ---------------------------------- 2.0/15.5 MB 492.9 kB/s eta 0:00:28\n",
      "   ----- ---------------------------------- 2.0/15.5 MB 492.2 kB/s eta 0:00:28\n",
      "   ----- ---------------------------------- 2.1/15.5 MB 495.8 kB/s eta 0:00:28\n",
      "   ----- ---------------------------------- 2.1/15.5 MB 492.8 kB/s eta 0:00:28\n",
      "   ----- ---------------------------------- 2.1/15.5 MB 495.8 kB/s eta 0:00:28\n",
      "   ----- ---------------------------------- 2.1/15.5 MB 495.7 kB/s eta 0:00:28\n",
      "   ----- ---------------------------------- 2.2/15.5 MB 497.5 kB/s eta 0:00:27\n",
      "   ----- ---------------------------------- 2.2/15.5 MB 497.5 kB/s eta 0:00:27\n",
      "   ----- ---------------------------------- 2.2/15.5 MB 497.9 kB/s eta 0:00:27\n",
      "   ----- ---------------------------------- 2.2/15.5 MB 495.0 kB/s eta 0:00:27\n",
      "   ----- ---------------------------------- 2.3/15.5 MB 494.9 kB/s eta 0:00:27\n",
      "   ----- ---------------------------------- 2.3/15.5 MB 497.7 kB/s eta 0:00:27\n",
      "   ----- ---------------------------------- 2.3/15.5 MB 498.8 kB/s eta 0:00:27\n",
      "   ----- ---------------------------------- 2.3/15.5 MB 497.0 kB/s eta 0:00:27\n",
      "   ------ --------------------------------- 2.3/15.5 MB 498.1 kB/s eta 0:00:27\n",
      "   ------ --------------------------------- 2.4/15.5 MB 497.5 kB/s eta 0:00:27\n",
      "   ------ --------------------------------- 2.4/15.5 MB 499.0 kB/s eta 0:00:27\n",
      "   ------ --------------------------------- 2.4/15.5 MB 501.6 kB/s eta 0:00:27\n",
      "   ------ --------------------------------- 2.4/15.5 MB 499.9 kB/s eta 0:00:27\n",
      "   ------ --------------------------------- 2.5/15.5 MB 500.5 kB/s eta 0:00:27\n",
      "   ------ --------------------------------- 2.5/15.5 MB 502.4 kB/s eta 0:00:26\n",
      "   ------ --------------------------------- 2.5/15.5 MB 503.8 kB/s eta 0:00:26\n",
      "   ------ --------------------------------- 2.5/15.5 MB 504.3 kB/s eta 0:00:26\n",
      "   ------ --------------------------------- 2.6/15.5 MB 505.2 kB/s eta 0:00:26\n",
      "   ------ --------------------------------- 2.6/15.5 MB 505.1 kB/s eta 0:00:26\n",
      "   ------ --------------------------------- 2.6/15.5 MB 506.0 kB/s eta 0:00:26\n",
      "   ------ --------------------------------- 2.6/15.5 MB 505.8 kB/s eta 0:00:26\n",
      "   ------ --------------------------------- 2.7/15.5 MB 508.7 kB/s eta 0:00:26\n",
      "   ------ --------------------------------- 2.7/15.5 MB 509.6 kB/s eta 0:00:26\n",
      "   ------ --------------------------------- 2.7/15.5 MB 508.4 kB/s eta 0:00:26\n",
      "   ------- -------------------------------- 2.7/15.5 MB 510.2 kB/s eta 0:00:26\n",
      "   ------- -------------------------------- 2.8/15.5 MB 510.6 kB/s eta 0:00:26\n",
      "   ------- -------------------------------- 2.8/15.5 MB 510.4 kB/s eta 0:00:26\n",
      "   ------- -------------------------------- 2.8/15.5 MB 512.7 kB/s eta 0:00:25\n",
      "   ------- -------------------------------- 2.8/15.5 MB 513.5 kB/s eta 0:00:25\n",
      "   ------- -------------------------------- 2.9/15.5 MB 513.2 kB/s eta 0:00:25\n",
      "   ------- -------------------------------- 2.9/15.5 MB 514.5 kB/s eta 0:00:25\n",
      "   ------- -------------------------------- 2.9/15.5 MB 515.6 kB/s eta 0:00:25\n",
      "   ------- -------------------------------- 2.9/15.5 MB 518.1 kB/s eta 0:00:25\n",
      "   ------- -------------------------------- 3.0/15.5 MB 518.9 kB/s eta 0:00:25\n",
      "   ------- -------------------------------- 3.0/15.5 MB 516.5 kB/s eta 0:00:25\n",
      "   ------- -------------------------------- 3.0/15.5 MB 519.0 kB/s eta 0:00:25\n",
      "   ------- -------------------------------- 3.1/15.5 MB 522.3 kB/s eta 0:00:24\n",
      "   ------- -------------------------------- 3.1/15.5 MB 522.9 kB/s eta 0:00:24\n",
      "   -------- ------------------------------- 3.1/15.5 MB 523.9 kB/s eta 0:00:24\n",
      "   -------- ------------------------------- 3.1/15.5 MB 523.9 kB/s eta 0:00:24\n",
      "   -------- ------------------------------- 3.2/15.5 MB 523.9 kB/s eta 0:00:24\n",
      "   -------- ------------------------------- 3.2/15.5 MB 523.9 kB/s eta 0:00:24\n",
      "   -------- ------------------------------- 3.2/15.5 MB 524.4 kB/s eta 0:00:24\n",
      "   -------- ------------------------------- 3.2/15.5 MB 526.3 kB/s eta 0:00:24\n",
      "   -------- ------------------------------- 3.3/15.5 MB 527.3 kB/s eta 0:00:24\n",
      "   -------- ------------------------------- 3.3/15.5 MB 530.3 kB/s eta 0:00:24\n",
      "   -------- ------------------------------- 3.3/15.5 MB 530.6 kB/s eta 0:00:24\n",
      "   -------- ------------------------------- 3.4/15.5 MB 531.8 kB/s eta 0:00:23\n",
      "   -------- ------------------------------- 3.4/15.5 MB 532.1 kB/s eta 0:00:23\n",
      "   -------- ------------------------------- 3.4/15.5 MB 533.3 kB/s eta 0:00:23\n",
      "   -------- ------------------------------- 3.4/15.5 MB 535.5 kB/s eta 0:00:23\n",
      "   -------- ------------------------------- 3.5/15.5 MB 539.3 kB/s eta 0:00:23\n",
      "   -------- ------------------------------- 3.5/15.5 MB 538.3 kB/s eta 0:00:23\n",
      "   --------- ------------------------------ 3.5/15.5 MB 536.5 kB/s eta 0:00:23\n",
      "   --------- ------------------------------ 3.6/15.5 MB 540.2 kB/s eta 0:00:23\n",
      "   --------- ------------------------------ 3.6/15.5 MB 541.3 kB/s eta 0:00:23\n",
      "   --------- ------------------------------ 3.6/15.5 MB 544.8 kB/s eta 0:00:22\n",
      "   --------- ------------------------------ 3.7/15.5 MB 546.9 kB/s eta 0:00:22\n",
      "   --------- ------------------------------ 3.7/15.5 MB 546.4 kB/s eta 0:00:22\n",
      "   --------- ------------------------------ 3.7/15.5 MB 548.4 kB/s eta 0:00:22\n",
      "   --------- ------------------------------ 3.8/15.5 MB 549.2 kB/s eta 0:00:22\n",
      "   --------- ------------------------------ 3.8/15.5 MB 552.6 kB/s eta 0:00:22\n",
      "   --------- ------------------------------ 3.8/15.5 MB 553.3 kB/s eta 0:00:22\n",
      "   --------- ------------------------------ 3.9/15.5 MB 555.2 kB/s eta 0:00:22\n",
      "   ---------- ----------------------------- 3.9/15.5 MB 557.6 kB/s eta 0:00:21\n",
      "   ---------- ----------------------------- 4.0/15.5 MB 558.3 kB/s eta 0:00:21\n",
      "   ---------- ----------------------------- 4.0/15.5 MB 560.1 kB/s eta 0:00:21\n",
      "   ---------- ----------------------------- 4.0/15.5 MB 561.9 kB/s eta 0:00:21\n",
      "   ---------- ----------------------------- 4.0/15.5 MB 561.1 kB/s eta 0:00:21\n",
      "   ---------- ----------------------------- 4.1/15.5 MB 564.6 kB/s eta 0:00:21\n",
      "   ---------- ----------------------------- 4.1/15.5 MB 566.4 kB/s eta 0:00:21\n",
      "   ---------- ----------------------------- 4.2/15.5 MB 569.7 kB/s eta 0:00:20\n",
      "   ---------- ----------------------------- 4.2/15.5 MB 569.7 kB/s eta 0:00:20\n",
      "   ---------- ----------------------------- 4.2/15.5 MB 569.7 kB/s eta 0:00:20\n",
      "   ---------- ----------------------------- 4.2/15.5 MB 569.7 kB/s eta 0:00:20\n",
      "   ---------- ----------------------------- 4.2/15.5 MB 569.7 kB/s eta 0:00:20\n",
      "   ---------- ----------------------------- 4.2/15.5 MB 569.7 kB/s eta 0:00:20\n",
      "   ---------- ----------------------------- 4.2/15.5 MB 552.2 kB/s eta 0:00:21\n",
      "   ---------- ----------------------------- 4.2/15.5 MB 552.2 kB/s eta 0:00:21\n",
      "   ---------- ----------------------------- 4.2/15.5 MB 552.2 kB/s eta 0:00:21\n",
      "   ---------- ----------------------------- 4.2/15.5 MB 552.2 kB/s eta 0:00:21\n",
      "   ---------- ----------------------------- 4.2/15.5 MB 552.2 kB/s eta 0:00:21\n",
      "   ----------- ---------------------------- 4.5/15.5 MB 575.0 kB/s eta 0:00:20\n",
      "   ----------- ---------------------------- 4.5/15.5 MB 575.4 kB/s eta 0:00:20\n",
      "   ----------- ---------------------------- 4.5/15.5 MB 575.4 kB/s eta 0:00:20\n",
      "   ----------- ---------------------------- 4.5/15.5 MB 576.0 kB/s eta 0:00:20\n",
      "   ----------- ---------------------------- 4.6/15.5 MB 576.7 kB/s eta 0:00:20\n",
      "   ----------- ---------------------------- 4.6/15.5 MB 579.6 kB/s eta 0:00:19\n",
      "   ----------- ---------------------------- 4.6/15.5 MB 577.5 kB/s eta 0:00:19\n",
      "   ----------- ---------------------------- 4.7/15.5 MB 577.7 kB/s eta 0:00:19\n",
      "   ------------ --------------------------- 4.7/15.5 MB 576.8 kB/s eta 0:00:19\n",
      "   ------------ --------------------------- 4.7/15.5 MB 578.5 kB/s eta 0:00:19\n",
      "   ------------ --------------------------- 4.7/15.5 MB 578.9 kB/s eta 0:00:19\n",
      "   ------------ --------------------------- 4.8/15.5 MB 580.5 kB/s eta 0:00:19\n",
      "   ------------ --------------------------- 4.8/15.5 MB 580.9 kB/s eta 0:00:19\n",
      "   ------------ --------------------------- 4.8/15.5 MB 580.9 kB/s eta 0:00:19\n",
      "   ------------ --------------------------- 4.8/15.5 MB 579.1 kB/s eta 0:00:19\n",
      "   ------------ --------------------------- 4.9/15.5 MB 582.0 kB/s eta 0:00:19\n",
      "   ------------ --------------------------- 4.9/15.5 MB 583.5 kB/s eta 0:00:19\n",
      "   ------------ --------------------------- 5.0/15.5 MB 584.1 kB/s eta 0:00:19\n",
      "   ------------ --------------------------- 5.0/15.5 MB 585.3 kB/s eta 0:00:19\n",
      "   ------------ --------------------------- 5.0/15.5 MB 583.5 kB/s eta 0:00:19\n",
      "   ------------ --------------------------- 5.0/15.5 MB 584.9 kB/s eta 0:00:18\n",
      "   ------------- -------------------------- 5.1/15.5 MB 585.3 kB/s eta 0:00:18\n",
      "   ------------- -------------------------- 5.1/15.5 MB 589.0 kB/s eta 0:00:18\n",
      "   ------------- -------------------------- 5.1/15.5 MB 589.5 kB/s eta 0:00:18\n",
      "   ------------- -------------------------- 5.2/15.5 MB 589.7 kB/s eta 0:00:18\n",
      "   ------------- -------------------------- 5.2/15.5 MB 590.1 kB/s eta 0:00:18\n",
      "   ------------- -------------------------- 5.2/15.5 MB 590.4 kB/s eta 0:00:18\n",
      "   ------------- -------------------------- 5.3/15.5 MB 593.0 kB/s eta 0:00:18\n",
      "   ------------- -------------------------- 5.3/15.5 MB 593.3 kB/s eta 0:00:18\n",
      "   ------------- -------------------------- 5.3/15.5 MB 594.7 kB/s eta 0:00:18\n",
      "   ------------- -------------------------- 5.4/15.5 MB 596.2 kB/s eta 0:00:18\n",
      "   ------------- -------------------------- 5.4/15.5 MB 596.5 kB/s eta 0:00:17\n",
      "   ------------- -------------------------- 5.4/15.5 MB 597.8 kB/s eta 0:00:17\n",
      "   -------------- ------------------------- 5.5/15.5 MB 598.1 kB/s eta 0:00:17\n",
      "   -------------- ------------------------- 5.5/15.5 MB 600.6 kB/s eta 0:00:17\n",
      "   -------------- ------------------------- 5.5/15.5 MB 600.8 kB/s eta 0:00:17\n",
      "   -------------- ------------------------- 5.6/15.5 MB 601.1 kB/s eta 0:00:17\n",
      "   -------------- ------------------------- 5.6/15.5 MB 601.1 kB/s eta 0:00:17\n",
      "   -------------- ------------------------- 5.6/15.5 MB 601.1 kB/s eta 0:00:17\n",
      "   -------------- ------------------------- 5.6/15.5 MB 601.1 kB/s eta 0:00:17\n",
      "   -------------- ------------------------- 5.6/15.5 MB 601.1 kB/s eta 0:00:17\n",
      "   -------------- ------------------------- 5.6/15.5 MB 601.1 kB/s eta 0:00:17\n",
      "   -------------- ------------------------- 5.6/15.5 MB 601.1 kB/s eta 0:00:17\n",
      "   -------------- ------------------------- 5.6/15.5 MB 601.1 kB/s eta 0:00:17\n",
      "   -------------- ------------------------- 5.6/15.5 MB 601.1 kB/s eta 0:00:17\n",
      "   -------------- ------------------------- 5.7/15.5 MB 593.6 kB/s eta 0:00:17\n",
      "   -------------- ------------------------- 5.7/15.5 MB 593.6 kB/s eta 0:00:17\n",
      "   --------------- ------------------------ 5.8/15.5 MB 599.6 kB/s eta 0:00:17\n",
      "   --------------- ------------------------ 5.9/15.5 MB 601.7 kB/s eta 0:00:17\n",
      "   --------------- ------------------------ 5.9/15.5 MB 601.7 kB/s eta 0:00:17\n",
      "   --------------- ------------------------ 5.9/15.5 MB 596.1 kB/s eta 0:00:17\n",
      "   --------------- ------------------------ 5.9/15.5 MB 597.2 kB/s eta 0:00:17\n",
      "   --------------- ------------------------ 5.9/15.5 MB 596.5 kB/s eta 0:00:17\n",
      "   --------------- ------------------------ 6.0/15.5 MB 597.8 kB/s eta 0:00:17\n",
      "   --------------- ------------------------ 6.0/15.5 MB 597.9 kB/s eta 0:00:16\n",
      "   --------------- ------------------------ 6.0/15.5 MB 597.2 kB/s eta 0:00:16\n",
      "   --------------- ------------------------ 6.0/15.5 MB 597.4 kB/s eta 0:00:16\n",
      "   --------------- ------------------------ 6.1/15.5 MB 596.7 kB/s eta 0:00:16\n",
      "   --------------- ------------------------ 6.1/15.5 MB 597.9 kB/s eta 0:00:16\n",
      "   --------------- ------------------------ 6.1/15.5 MB 598.3 kB/s eta 0:00:16\n",
      "   --------------- ------------------------ 6.1/15.5 MB 597.4 kB/s eta 0:00:16\n",
      "   --------------- ------------------------ 6.2/15.5 MB 597.6 kB/s eta 0:00:16\n",
      "   --------------- ------------------------ 6.2/15.5 MB 597.0 kB/s eta 0:00:16\n",
      "   --------------- ------------------------ 6.2/15.5 MB 598.1 kB/s eta 0:00:16\n",
      "   ---------------- ----------------------- 6.2/15.5 MB 598.3 kB/s eta 0:00:16\n",
      "   ---------------- ----------------------- 6.3/15.5 MB 597.6 kB/s eta 0:00:16\n",
      "   ---------------- ----------------------- 6.3/15.5 MB 597.8 kB/s eta 0:00:16\n",
      "   ---------------- ----------------------- 6.3/15.5 MB 599.0 kB/s eta 0:00:16\n",
      "   ---------------- ----------------------- 6.3/15.5 MB 598.3 kB/s eta 0:00:16\n",
      "   ---------------- ----------------------- 6.4/15.5 MB 599.4 kB/s eta 0:00:16\n",
      "   ---------------- ----------------------- 6.4/15.5 MB 599.4 kB/s eta 0:00:16\n",
      "   ---------------- ----------------------- 6.4/15.5 MB 597.0 kB/s eta 0:00:16\n",
      "   ---------------- ----------------------- 6.4/15.5 MB 599.1 kB/s eta 0:00:16\n",
      "   ---------------- ----------------------- 6.5/15.5 MB 598.3 kB/s eta 0:00:16\n",
      "   ---------------- ----------------------- 6.5/15.5 MB 599.4 kB/s eta 0:00:16\n",
      "   ---------------- ----------------------- 6.5/15.5 MB 599.7 kB/s eta 0:00:16\n",
      "   ---------------- ----------------------- 6.5/15.5 MB 599.7 kB/s eta 0:00:16\n",
      "   ---------------- ----------------------- 6.5/15.5 MB 599.7 kB/s eta 0:00:16\n",
      "   ---------------- ----------------------- 6.6/15.5 MB 596.6 kB/s eta 0:00:16\n",
      "   ---------------- ----------------------- 6.6/15.5 MB 595.9 kB/s eta 0:00:16\n",
      "   ----------------- ---------------------- 6.6/15.5 MB 598.0 kB/s eta 0:00:15\n",
      "   ----------------- ---------------------- 6.7/15.5 MB 598.2 kB/s eta 0:00:15\n",
      "   ----------------- ---------------------- 6.7/15.5 MB 599.2 kB/s eta 0:00:15\n",
      "   ----------------- ---------------------- 6.7/15.5 MB 597.7 kB/s eta 0:00:15\n",
      "   ----------------- ---------------------- 6.7/15.5 MB 598.8 kB/s eta 0:00:15\n",
      "   ----------------- ---------------------- 6.7/15.5 MB 598.0 kB/s eta 0:00:15\n",
      "   ----------------- ---------------------- 6.8/15.5 MB 599.3 kB/s eta 0:00:15\n",
      "   ----------------- ---------------------- 6.8/15.5 MB 600.3 kB/s eta 0:00:15\n",
      "   ----------------- ---------------------- 6.8/15.5 MB 599.7 kB/s eta 0:00:15\n",
      "   ----------------- ---------------------- 6.9/15.5 MB 599.9 kB/s eta 0:00:15\n",
      "   ----------------- ---------------------- 6.9/15.5 MB 600.1 kB/s eta 0:00:15\n",
      "   ----------------- ---------------------- 6.9/15.5 MB 599.4 kB/s eta 0:00:15\n",
      "   ----------------- ---------------------- 7.0/15.5 MB 599.6 kB/s eta 0:00:15\n",
      "   ----------------- ---------------------- 7.0/15.5 MB 599.9 kB/s eta 0:00:15\n",
      "   ------------------ --------------------- 7.0/15.5 MB 601.8 kB/s eta 0:00:15\n",
      "   ------------------ --------------------- 7.1/15.5 MB 602.0 kB/s eta 0:00:15\n",
      "   ------------------ --------------------- 7.1/15.5 MB 602.1 kB/s eta 0:00:15\n",
      "   ------------------ --------------------- 7.1/15.5 MB 602.4 kB/s eta 0:00:15\n",
      "   ------------------ --------------------- 7.1/15.5 MB 602.6 kB/s eta 0:00:14\n",
      "   ------------------ --------------------- 7.2/15.5 MB 603.6 kB/s eta 0:00:14\n",
      "   ------------------ --------------------- 7.2/15.5 MB 604.7 kB/s eta 0:00:14\n",
      "   ------------------ --------------------- 7.2/15.5 MB 604.0 kB/s eta 0:00:14\n",
      "   ------------------ --------------------- 7.2/15.5 MB 604.0 kB/s eta 0:00:14\n",
      "   ------------------ --------------------- 7.2/15.5 MB 604.0 kB/s eta 0:00:14\n",
      "   ------------------ --------------------- 7.3/15.5 MB 602.1 kB/s eta 0:00:14\n",
      "   ------------------ --------------------- 7.4/15.5 MB 604.0 kB/s eta 0:00:14\n",
      "   ------------------ --------------------- 7.4/15.5 MB 604.2 kB/s eta 0:00:14\n",
      "   ------------------- -------------------- 7.4/15.5 MB 605.1 kB/s eta 0:00:14\n",
      "   ------------------- -------------------- 7.4/15.5 MB 605.1 kB/s eta 0:00:14\n",
      "   ------------------- -------------------- 7.4/15.5 MB 602.2 kB/s eta 0:00:14\n",
      "   ------------------- -------------------- 7.5/15.5 MB 603.2 kB/s eta 0:00:14\n",
      "   ------------------- -------------------- 7.5/15.5 MB 603.4 kB/s eta 0:00:14\n",
      "   ------------------- -------------------- 7.6/15.5 MB 606.1 kB/s eta 0:00:14\n",
      "   ------------------- -------------------- 7.6/15.5 MB 606.1 kB/s eta 0:00:14\n",
      "   ------------------- -------------------- 7.6/15.5 MB 603.9 kB/s eta 0:00:14\n",
      "   ------------------- -------------------- 7.6/15.5 MB 604.2 kB/s eta 0:00:14\n",
      "   ------------------- -------------------- 7.7/15.5 MB 605.9 kB/s eta 0:00:14\n",
      "   ------------------- -------------------- 7.7/15.5 MB 606.8 kB/s eta 0:00:13\n",
      "   ------------------- -------------------- 7.7/15.5 MB 607.0 kB/s eta 0:00:13\n",
      "   ------------------- -------------------- 7.7/15.5 MB 606.4 kB/s eta 0:00:13\n",
      "   -------------------- ------------------- 7.8/15.5 MB 606.6 kB/s eta 0:00:13\n",
      "   -------------------- ------------------- 7.8/15.5 MB 608.4 kB/s eta 0:00:13\n",
      "   -------------------- ------------------- 7.8/15.5 MB 608.4 kB/s eta 0:00:13\n",
      "   -------------------- ------------------- 7.9/15.5 MB 609.4 kB/s eta 0:00:13\n",
      "   -------------------- ------------------- 7.9/15.5 MB 608.8 kB/s eta 0:00:13\n",
      "   -------------------- ------------------- 7.9/15.5 MB 608.1 kB/s eta 0:00:13\n",
      "   -------------------- ------------------- 7.9/15.5 MB 608.3 kB/s eta 0:00:13\n",
      "   -------------------- ------------------- 8.0/15.5 MB 610.0 kB/s eta 0:00:13\n",
      "   -------------------- ------------------- 8.0/15.5 MB 610.0 kB/s eta 0:00:13\n",
      "   -------------------- ------------------- 8.0/15.5 MB 608.0 kB/s eta 0:00:13\n",
      "   -------------------- ------------------- 8.1/15.5 MB 609.7 kB/s eta 0:00:13\n",
      "   -------------------- ------------------- 8.1/15.5 MB 610.5 kB/s eta 0:00:13\n",
      "   -------------------- ------------------- 8.1/15.5 MB 610.7 kB/s eta 0:00:13\n",
      "   -------------------- ------------------- 8.2/15.5 MB 611.5 kB/s eta 0:00:13\n",
      "   --------------------- ------------------ 8.2/15.5 MB 610.2 kB/s eta 0:00:13\n",
      "   --------------------- ------------------ 8.2/15.5 MB 611.1 kB/s eta 0:00:13\n",
      "   --------------------- ------------------ 8.2/15.5 MB 612.0 kB/s eta 0:00:12\n",
      "   --------------------- ------------------ 8.3/15.5 MB 612.9 kB/s eta 0:00:12\n",
      "   --------------------- ------------------ 8.3/15.5 MB 612.3 kB/s eta 0:00:12\n",
      "   --------------------- ------------------ 8.3/15.5 MB 613.1 kB/s eta 0:00:12\n",
      "   --------------------- ------------------ 8.3/15.5 MB 611.7 kB/s eta 0:00:12\n",
      "   --------------------- ------------------ 8.4/15.5 MB 612.7 kB/s eta 0:00:12\n",
      "   --------------------- ------------------ 8.4/15.5 MB 612.7 kB/s eta 0:00:12\n",
      "   --------------------- ------------------ 8.4/15.5 MB 613.7 kB/s eta 0:00:12\n",
      "   --------------------- ------------------ 8.5/15.5 MB 614.5 kB/s eta 0:00:12\n",
      "   --------------------- ------------------ 8.5/15.5 MB 613.9 kB/s eta 0:00:12\n",
      "   --------------------- ------------------ 8.5/15.5 MB 614.7 kB/s eta 0:00:12\n",
      "   --------------------- ------------------ 8.6/15.5 MB 614.8 kB/s eta 0:00:12\n",
      "   ---------------------- ----------------- 8.6/15.5 MB 615.0 kB/s eta 0:00:12\n",
      "   ---------------------- ----------------- 8.6/15.5 MB 615.1 kB/s eta 0:00:12\n",
      "   ---------------------- ----------------- 8.6/15.5 MB 616.6 kB/s eta 0:00:12\n",
      "   ---------------------- ----------------- 8.7/15.5 MB 616.1 kB/s eta 0:00:12\n",
      "   ---------------------- ----------------- 8.7/15.5 MB 616.2 kB/s eta 0:00:12\n",
      "   ---------------------- ----------------- 8.7/15.5 MB 616.3 kB/s eta 0:00:12\n",
      "   ---------------------- ----------------- 8.8/15.5 MB 616.4 kB/s eta 0:00:12\n",
      "   ---------------------- ----------------- 8.8/15.5 MB 618.0 kB/s eta 0:00:11\n",
      "   ---------------------- ----------------- 8.8/15.5 MB 617.4 kB/s eta 0:00:11\n",
      "   ---------------------- ----------------- 8.8/15.5 MB 617.5 kB/s eta 0:00:11\n",
      "   ---------------------- ----------------- 8.9/15.5 MB 618.3 kB/s eta 0:00:11\n",
      "   ---------------------- ----------------- 8.9/15.5 MB 618.4 kB/s eta 0:00:11\n",
      "   ----------------------- ---------------- 9.0/15.5 MB 619.2 kB/s eta 0:00:11\n",
      "   ----------------------- ---------------- 9.0/15.5 MB 618.7 kB/s eta 0:00:11\n",
      "   ----------------------- ---------------- 9.0/15.5 MB 619.5 kB/s eta 0:00:11\n",
      "   ----------------------- ---------------- 9.1/15.5 MB 620.3 kB/s eta 0:00:11\n",
      "   ----------------------- ---------------- 9.1/15.5 MB 620.4 kB/s eta 0:00:11\n",
      "   ----------------------- ---------------- 9.1/15.5 MB 620.5 kB/s eta 0:00:11\n",
      "   ----------------------- ---------------- 9.1/15.5 MB 621.2 kB/s eta 0:00:11\n",
      "   ----------------------- ---------------- 9.2/15.5 MB 621.3 kB/s eta 0:00:11\n",
      "   ----------------------- ---------------- 9.2/15.5 MB 620.8 kB/s eta 0:00:11\n",
      "   ----------------------- ---------------- 9.2/15.5 MB 621.6 kB/s eta 0:00:11\n",
      "   ----------------------- ---------------- 9.3/15.5 MB 621.7 kB/s eta 0:00:11\n",
      "   ----------------------- ---------------- 9.3/15.5 MB 621.7 kB/s eta 0:00:11\n",
      "   ----------------------- ---------------- 9.3/15.5 MB 621.9 kB/s eta 0:00:11\n",
      "   ------------------------ --------------- 9.3/15.5 MB 622.0 kB/s eta 0:00:10\n",
      "   ------------------------ --------------- 9.4/15.5 MB 623.4 kB/s eta 0:00:10\n",
      "   ------------------------ --------------- 9.4/15.5 MB 623.5 kB/s eta 0:00:10\n",
      "   ------------------------ --------------- 9.4/15.5 MB 622.9 kB/s eta 0:00:10\n",
      "   ------------------------ --------------- 9.5/15.5 MB 623.7 kB/s eta 0:00:10\n",
      "   ------------------------ --------------- 9.5/15.5 MB 624.4 kB/s eta 0:00:10\n",
      "   ------------------------ --------------- 9.5/15.5 MB 623.9 kB/s eta 0:00:10\n",
      "   ------------------------ --------------- 9.6/15.5 MB 624.5 kB/s eta 0:00:10\n",
      "   ------------------------ --------------- 9.6/15.5 MB 624.0 kB/s eta 0:00:10\n",
      "   ------------------------ --------------- 9.6/15.5 MB 625.4 kB/s eta 0:00:10\n",
      "   ------------------------ --------------- 9.6/15.5 MB 625.5 kB/s eta 0:00:10\n",
      "   ------------------------ --------------- 9.7/15.5 MB 624.9 kB/s eta 0:00:10\n",
      "   ------------------------- -------------- 9.7/15.5 MB 626.3 kB/s eta 0:00:10\n",
      "   ------------------------- -------------- 9.7/15.5 MB 626.3 kB/s eta 0:00:10\n",
      "   ------------------------- -------------- 9.7/15.5 MB 625.1 kB/s eta 0:00:10\n",
      "   ------------------------- -------------- 9.8/15.5 MB 626.5 kB/s eta 0:00:10\n",
      "   ------------------------- -------------- 9.8/15.5 MB 626.6 kB/s eta 0:00:10\n",
      "   ------------------------- -------------- 9.9/15.5 MB 626.7 kB/s eta 0:00:10\n",
      "   ------------------------- -------------- 9.9/15.5 MB 626.7 kB/s eta 0:00:10\n",
      "   ------------------------- -------------- 9.9/15.5 MB 626.2 kB/s eta 0:00:10\n",
      "   ------------------------- -------------- 9.9/15.5 MB 626.9 kB/s eta 0:00:09\n",
      "   ------------------------- -------------- 10.0/15.5 MB 627.6 kB/s eta 0:00:09\n",
      "   ------------------------- -------------- 10.0/15.5 MB 628.3 kB/s eta 0:00:09\n",
      "   ------------------------- -------------- 10.0/15.5 MB 628.3 kB/s eta 0:00:09\n",
      "   ------------------------- -------------- 10.0/15.5 MB 628.3 kB/s eta 0:00:09\n",
      "   ------------------------- -------------- 10.1/15.5 MB 626.6 kB/s eta 0:00:09\n",
      "   ------------------------- -------------- 10.1/15.5 MB 626.7 kB/s eta 0:00:09\n",
      "   -------------------------- ------------- 10.1/15.5 MB 628.0 kB/s eta 0:00:09\n",
      "   -------------------------- ------------- 10.1/15.5 MB 628.1 kB/s eta 0:00:09\n",
      "   -------------------------- ------------- 10.2/15.5 MB 628.8 kB/s eta 0:00:09\n",
      "   -------------------------- ------------- 10.2/15.5 MB 628.8 kB/s eta 0:00:09\n",
      "   -------------------------- ------------- 10.3/15.5 MB 628.3 kB/s eta 0:00:09\n",
      "   -------------------------- ------------- 10.3/15.5 MB 628.9 kB/s eta 0:00:09\n",
      "   -------------------------- ------------- 10.3/15.5 MB 629.5 kB/s eta 0:00:09\n",
      "   -------------------------- ------------- 10.4/15.5 MB 631.9 kB/s eta 0:00:09\n",
      "   -------------------------- ------------- 10.4/15.5 MB 631.3 kB/s eta 0:00:09\n",
      "   -------------------------- ------------- 10.4/15.5 MB 632.6 kB/s eta 0:00:09\n",
      "   -------------------------- ------------- 10.5/15.5 MB 634.4 kB/s eta 0:00:09\n",
      "   --------------------------- ------------ 10.5/15.5 MB 635.6 kB/s eta 0:00:08\n",
      "   --------------------------- ------------ 10.5/15.5 MB 636.9 kB/s eta 0:00:08\n",
      "   --------------------------- ------------ 10.5/15.5 MB 636.3 kB/s eta 0:00:08\n",
      "   --------------------------- ------------ 10.6/15.5 MB 637.5 kB/s eta 0:00:08\n",
      "   --------------------------- ------------ 10.6/15.5 MB 638.8 kB/s eta 0:00:08\n",
      "   --------------------------- ------------ 10.7/15.5 MB 641.2 kB/s eta 0:00:08\n",
      "   --------------------------- ------------ 10.7/15.5 MB 642.5 kB/s eta 0:00:08\n",
      "   --------------------------- ------------ 10.7/15.5 MB 642.5 kB/s eta 0:00:08\n",
      "   --------------------------- ------------ 10.7/15.5 MB 645.7 kB/s eta 0:00:08\n",
      "   --------------------------- ------------ 10.8/15.5 MB 646.3 kB/s eta 0:00:08\n",
      "   --------------------------- ------------ 10.8/15.5 MB 647.6 kB/s eta 0:00:08\n",
      "   --------------------------- ------------ 10.9/15.5 MB 650.1 kB/s eta 0:00:08\n",
      "   ---------------------------- ----------- 10.9/15.5 MB 650.1 kB/s eta 0:00:08\n",
      "   ---------------------------- ----------- 10.9/15.5 MB 651.4 kB/s eta 0:00:08\n",
      "   ---------------------------- ----------- 11.0/15.5 MB 650.8 kB/s eta 0:00:08\n",
      "   ---------------------------- ----------- 11.0/15.5 MB 653.4 kB/s eta 0:00:07\n",
      "   ---------------------------- ----------- 11.0/15.5 MB 654.7 kB/s eta 0:00:07\n",
      "   ---------------------------- ----------- 11.1/15.5 MB 658.0 kB/s eta 0:00:07\n",
      "   ---------------------------- ----------- 11.1/15.5 MB 659.3 kB/s eta 0:00:07\n",
      "   ---------------------------- ----------- 11.2/15.5 MB 659.3 kB/s eta 0:00:07\n",
      "   ---------------------------- ----------- 11.2/15.5 MB 658.0 kB/s eta 0:00:07\n",
      "   ---------------------------- ----------- 11.2/15.5 MB 663.3 kB/s eta 0:00:07\n",
      "   ---------------------------- ----------- 11.2/15.5 MB 663.3 kB/s eta 0:00:07\n",
      "   ---------------------------- ----------- 11.2/15.5 MB 663.3 kB/s eta 0:00:07\n",
      "   ---------------------------- ----------- 11.2/15.5 MB 663.3 kB/s eta 0:00:07\n",
      "   ---------------------------- ----------- 11.2/15.5 MB 663.3 kB/s eta 0:00:07\n",
      "   ---------------------------- ----------- 11.2/15.5 MB 663.3 kB/s eta 0:00:07\n",
      "   ----------------------------- ---------- 11.3/15.5 MB 654.7 kB/s eta 0:00:07\n",
      "   ----------------------------- ---------- 11.4/15.5 MB 666.0 kB/s eta 0:00:07\n",
      "   ----------------------------- ---------- 11.4/15.5 MB 666.0 kB/s eta 0:00:07\n",
      "   ----------------------------- ---------- 11.4/15.5 MB 666.0 kB/s eta 0:00:07\n",
      "   ----------------------------- ---------- 11.4/15.5 MB 666.0 kB/s eta 0:00:07\n",
      "   ----------------------------- ---------- 11.4/15.5 MB 666.0 kB/s eta 0:00:07\n",
      "   ----------------------------- ---------- 11.6/15.5 MB 667.4 kB/s eta 0:00:06\n",
      "   ----------------------------- ---------- 11.6/15.5 MB 667.4 kB/s eta 0:00:06\n",
      "   ----------------------------- ---------- 11.6/15.5 MB 666.7 kB/s eta 0:00:06\n",
      "   ----------------------------- ---------- 11.6/15.5 MB 667.4 kB/s eta 0:00:06\n",
      "   ----------------------------- ---------- 11.6/15.5 MB 665.4 kB/s eta 0:00:06\n",
      "   ----------------------------- ---------- 11.6/15.5 MB 667.4 kB/s eta 0:00:06\n",
      "   ----------------------------- ---------- 11.6/15.5 MB 665.4 kB/s eta 0:00:06\n",
      "   ------------------------------ --------- 11.7/15.5 MB 664.0 kB/s eta 0:00:06\n",
      "   ------------------------------ --------- 11.7/15.5 MB 666.7 kB/s eta 0:00:06\n",
      "   ------------------------------ --------- 11.7/15.5 MB 666.7 kB/s eta 0:00:06\n",
      "   ------------------------------ --------- 11.7/15.5 MB 666.0 kB/s eta 0:00:06\n",
      "   ------------------------------ --------- 11.7/15.5 MB 664.7 kB/s eta 0:00:06\n",
      "   ------------------------------ --------- 11.7/15.5 MB 665.4 kB/s eta 0:00:06\n",
      "   ------------------------------ --------- 11.8/15.5 MB 664.7 kB/s eta 0:00:06\n",
      "   ------------------------------ --------- 11.8/15.5 MB 666.0 kB/s eta 0:00:06\n",
      "   ------------------------------ --------- 11.8/15.5 MB 666.0 kB/s eta 0:00:06\n",
      "   ------------------------------ --------- 11.8/15.5 MB 663.3 kB/s eta 0:00:06\n",
      "   ------------------------------ --------- 11.8/15.5 MB 662.7 kB/s eta 0:00:06\n",
      "   ------------------------------ --------- 11.9/15.5 MB 663.3 kB/s eta 0:00:06\n",
      "   ------------------------------ --------- 11.9/15.5 MB 665.4 kB/s eta 0:00:06\n",
      "   ------------------------------ --------- 11.9/15.5 MB 663.4 kB/s eta 0:00:06\n",
      "   ------------------------------ --------- 11.9/15.5 MB 663.4 kB/s eta 0:00:06\n",
      "   ------------------------------ --------- 11.9/15.5 MB 662.0 kB/s eta 0:00:06\n",
      "   ------------------------------ --------- 12.0/15.5 MB 664.7 kB/s eta 0:00:06\n",
      "   ------------------------------ --------- 12.0/15.5 MB 663.3 kB/s eta 0:00:06\n",
      "   ------------------------------ --------- 12.0/15.5 MB 663.3 kB/s eta 0:00:06\n",
      "   ------------------------------ --------- 12.0/15.5 MB 662.0 kB/s eta 0:00:06\n",
      "   ------------------------------ --------- 12.0/15.5 MB 663.3 kB/s eta 0:00:06\n",
      "   ------------------------------- -------- 12.1/15.5 MB 662.7 kB/s eta 0:00:06\n",
      "   ------------------------------- -------- 12.1/15.5 MB 662.6 kB/s eta 0:00:06\n",
      "   ------------------------------- -------- 12.1/15.5 MB 662.6 kB/s eta 0:00:06\n",
      "   ------------------------------- -------- 12.1/15.5 MB 661.3 kB/s eta 0:00:06\n",
      "   ------------------------------- -------- 12.2/15.5 MB 662.7 kB/s eta 0:00:06\n",
      "   ------------------------------- -------- 12.2/15.5 MB 662.6 kB/s eta 0:00:06\n",
      "   ------------------------------- -------- 12.2/15.5 MB 662.6 kB/s eta 0:00:06\n",
      "   ------------------------------- -------- 12.2/15.5 MB 662.0 kB/s eta 0:00:05\n",
      "   ------------------------------- -------- 12.2/15.5 MB 660.6 kB/s eta 0:00:05\n",
      "   ------------------------------- -------- 12.3/15.5 MB 662.6 kB/s eta 0:00:05\n",
      "   ------------------------------- -------- 12.3/15.5 MB 662.0 kB/s eta 0:00:05\n",
      "   ------------------------------- -------- 12.3/15.5 MB 660.7 kB/s eta 0:00:05\n",
      "   ------------------------------- -------- 12.3/15.5 MB 661.3 kB/s eta 0:00:05\n",
      "   ------------------------------- -------- 12.3/15.5 MB 662.0 kB/s eta 0:00:05\n",
      "   ------------------------------- -------- 12.4/15.5 MB 660.7 kB/s eta 0:00:05\n",
      "   ------------------------------- -------- 12.4/15.5 MB 660.0 kB/s eta 0:00:05\n",
      "   ------------------------------- -------- 12.4/15.5 MB 661.3 kB/s eta 0:00:05\n",
      "   -------------------------------- ------- 12.4/15.5 MB 660.0 kB/s eta 0:00:05\n",
      "   -------------------------------- ------- 12.5/15.5 MB 662.0 kB/s eta 0:00:05\n",
      "   -------------------------------- ------- 12.5/15.5 MB 661.3 kB/s eta 0:00:05\n",
      "   -------------------------------- ------- 12.5/15.5 MB 660.0 kB/s eta 0:00:05\n",
      "   -------------------------------- ------- 12.5/15.5 MB 661.3 kB/s eta 0:00:05\n",
      "   -------------------------------- ------- 12.6/15.5 MB 660.7 kB/s eta 0:00:05\n",
      "   -------------------------------- ------- 12.6/15.5 MB 660.6 kB/s eta 0:00:05\n",
      "   -------------------------------- ------- 12.6/15.5 MB 660.7 kB/s eta 0:00:05\n",
      "   -------------------------------- ------- 12.6/15.5 MB 661.3 kB/s eta 0:00:05\n",
      "   -------------------------------- ------- 12.6/15.5 MB 659.3 kB/s eta 0:00:05\n",
      "   -------------------------------- ------- 12.7/15.5 MB 661.3 kB/s eta 0:00:05\n",
      "   -------------------------------- ------- 12.7/15.5 MB 660.7 kB/s eta 0:00:05\n",
      "   -------------------------------- ------- 12.7/15.5 MB 660.7 kB/s eta 0:00:05\n",
      "   -------------------------------- ------- 12.7/15.5 MB 659.3 kB/s eta 0:00:05\n",
      "   -------------------------------- ------- 12.7/15.5 MB 660.0 kB/s eta 0:00:05\n",
      "   -------------------------------- ------- 12.8/15.5 MB 658.7 kB/s eta 0:00:05\n",
      "   -------------------------------- ------- 12.8/15.5 MB 658.0 kB/s eta 0:00:05\n",
      "   -------------------------------- ------- 12.8/15.5 MB 658.6 kB/s eta 0:00:05\n",
      "   --------------------------------- ------ 12.8/15.5 MB 659.3 kB/s eta 0:00:05\n",
      "   --------------------------------- ------ 12.8/15.5 MB 657.3 kB/s eta 0:00:05\n",
      "   --------------------------------- ------ 12.9/15.5 MB 658.0 kB/s eta 0:00:05\n",
      "   --------------------------------- ------ 12.9/15.5 MB 657.3 kB/s eta 0:00:05\n",
      "   --------------------------------- ------ 12.9/15.5 MB 656.0 kB/s eta 0:00:05\n",
      "   --------------------------------- ------ 12.9/15.5 MB 656.7 kB/s eta 0:00:04\n",
      "   --------------------------------- ------ 12.9/15.5 MB 656.0 kB/s eta 0:00:04\n",
      "   --------------------------------- ------ 13.0/15.5 MB 656.0 kB/s eta 0:00:04\n",
      "   --------------------------------- ------ 13.0/15.5 MB 655.4 kB/s eta 0:00:04\n",
      "   --------------------------------- ------ 13.0/15.5 MB 656.0 kB/s eta 0:00:04\n",
      "   --------------------------------- ------ 13.0/15.5 MB 655.4 kB/s eta 0:00:04\n",
      "   --------------------------------- ------ 13.0/15.5 MB 655.4 kB/s eta 0:00:04\n",
      "   --------------------------------- ------ 13.1/15.5 MB 654.7 kB/s eta 0:00:04\n",
      "   --------------------------------- ------ 13.1/15.5 MB 654.0 kB/s eta 0:00:04\n",
      "   --------------------------------- ------ 13.1/15.5 MB 654.7 kB/s eta 0:00:04\n",
      "   --------------------------------- ------ 13.1/15.5 MB 653.4 kB/s eta 0:00:04\n",
      "   --------------------------------- ------ 13.2/15.5 MB 653.4 kB/s eta 0:00:04\n",
      "   --------------------------------- ------ 13.2/15.5 MB 652.1 kB/s eta 0:00:04\n",
      "   --------------------------------- ------ 13.2/15.5 MB 653.4 kB/s eta 0:00:04\n",
      "   ---------------------------------- ----- 13.2/15.5 MB 653.4 kB/s eta 0:00:04\n",
      "   ---------------------------------- ----- 13.2/15.5 MB 652.1 kB/s eta 0:00:04\n",
      "   ---------------------------------- ----- 13.3/15.5 MB 652.1 kB/s eta 0:00:04\n",
      "   ---------------------------------- ----- 13.3/15.5 MB 652.1 kB/s eta 0:00:04\n",
      "   ---------------------------------- ----- 13.3/15.5 MB 650.2 kB/s eta 0:00:04\n",
      "   ---------------------------------- ----- 13.3/15.5 MB 650.2 kB/s eta 0:00:04\n",
      "   ---------------------------------- ----- 13.4/15.5 MB 650.8 kB/s eta 0:00:04\n",
      "   ---------------------------------- ----- 13.4/15.5 MB 648.9 kB/s eta 0:00:04\n",
      "   ---------------------------------- ----- 13.4/15.5 MB 648.9 kB/s eta 0:00:04\n",
      "   ---------------------------------- ----- 13.4/15.5 MB 648.2 kB/s eta 0:00:04\n",
      "   ---------------------------------- ----- 13.4/15.5 MB 648.2 kB/s eta 0:00:04\n",
      "   ---------------------------------- ----- 13.5/15.5 MB 647.6 kB/s eta 0:00:04\n",
      "   ---------------------------------- ----- 13.5/15.5 MB 647.6 kB/s eta 0:00:04\n",
      "   ---------------------------------- ----- 13.5/15.5 MB 646.9 kB/s eta 0:00:04\n",
      "   ---------------------------------- ----- 13.5/15.5 MB 645.0 kB/s eta 0:00:04\n",
      "   ---------------------------------- ----- 13.5/15.5 MB 645.0 kB/s eta 0:00:04\n",
      "   ---------------------------------- ----- 13.6/15.5 MB 645.0 kB/s eta 0:00:04\n",
      "   ---------------------------------- ----- 13.6/15.5 MB 644.4 kB/s eta 0:00:04\n",
      "   ----------------------------------- ---- 13.6/15.5 MB 643.7 kB/s eta 0:00:03\n",
      "   ----------------------------------- ---- 13.6/15.5 MB 642.5 kB/s eta 0:00:03\n",
      "   ----------------------------------- ---- 13.6/15.5 MB 643.1 kB/s eta 0:00:03\n",
      "   ----------------------------------- ---- 13.7/15.5 MB 641.9 kB/s eta 0:00:03\n",
      "   ----------------------------------- ---- 13.7/15.5 MB 641.8 kB/s eta 0:00:03\n",
      "   ----------------------------------- ---- 13.7/15.5 MB 642.5 kB/s eta 0:00:03\n",
      "   ----------------------------------- ---- 13.8/15.5 MB 641.9 kB/s eta 0:00:03\n",
      "   ----------------------------------- ---- 13.8/15.5 MB 641.2 kB/s eta 0:00:03\n",
      "   ----------------------------------- ---- 13.8/15.5 MB 639.4 kB/s eta 0:00:03\n",
      "   ----------------------------------- ---- 13.8/15.5 MB 640.0 kB/s eta 0:00:03\n",
      "   ----------------------------------- ---- 13.8/15.5 MB 638.7 kB/s eta 0:00:03\n",
      "   ----------------------------------- ---- 13.9/15.5 MB 638.1 kB/s eta 0:00:03\n",
      "   ----------------------------------- ---- 13.9/15.5 MB 636.9 kB/s eta 0:00:03\n",
      "   ----------------------------------- ---- 13.9/15.5 MB 637.5 kB/s eta 0:00:03\n",
      "   ----------------------------------- ---- 13.9/15.5 MB 637.5 kB/s eta 0:00:03\n",
      "   ----------------------------------- ---- 14.0/15.5 MB 636.3 kB/s eta 0:00:03\n",
      "   ----------------------------------- ---- 14.0/15.5 MB 636.3 kB/s eta 0:00:03\n",
      "   ------------------------------------ --- 14.0/15.5 MB 635.0 kB/s eta 0:00:03\n",
      "   ------------------------------------ --- 14.0/15.5 MB 633.8 kB/s eta 0:00:03\n",
      "   ------------------------------------ --- 14.0/15.5 MB 632.6 kB/s eta 0:00:03\n",
      "   ------------------------------------ --- 14.1/15.5 MB 633.8 kB/s eta 0:00:03\n",
      "   ------------------------------------ --- 14.1/15.5 MB 633.8 kB/s eta 0:00:03\n",
      "   ------------------------------------ --- 14.1/15.5 MB 632.6 kB/s eta 0:00:03\n",
      "   ------------------------------------ --- 14.1/15.5 MB 632.6 kB/s eta 0:00:03\n",
      "   ------------------------------------ --- 14.1/15.5 MB 630.7 kB/s eta 0:00:03\n",
      "   ------------------------------------ --- 14.2/15.5 MB 630.7 kB/s eta 0:00:03\n",
      "   ------------------------------------ --- 14.2/15.5 MB 630.1 kB/s eta 0:00:03\n",
      "   ------------------------------------ --- 14.2/15.5 MB 628.9 kB/s eta 0:00:03\n",
      "   ------------------------------------ --- 14.2/15.5 MB 627.7 kB/s eta 0:00:03\n",
      "   ------------------------------------ --- 14.2/15.5 MB 627.7 kB/s eta 0:00:03\n",
      "   ------------------------------------ --- 14.3/15.5 MB 627.7 kB/s eta 0:00:03\n",
      "   ------------------------------------ --- 14.3/15.5 MB 625.9 kB/s eta 0:00:03\n",
      "   ------------------------------------ --- 14.3/15.5 MB 626.5 kB/s eta 0:00:02\n",
      "   ------------------------------------ --- 14.3/15.5 MB 625.9 kB/s eta 0:00:02\n",
      "   ------------------------------------ --- 14.4/15.5 MB 624.7 kB/s eta 0:00:02\n",
      "   ------------------------------------- -- 14.4/15.5 MB 623.5 kB/s eta 0:00:02\n",
      "   ------------------------------------- -- 14.4/15.5 MB 632.0 kB/s eta 0:00:02\n",
      "   ------------------------------------- -- 14.4/15.5 MB 639.4 kB/s eta 0:00:02\n",
      "   ------------------------------------- -- 14.4/15.5 MB 638.1 kB/s eta 0:00:02\n",
      "   ------------------------------------- -- 14.5/15.5 MB 635.6 kB/s eta 0:00:02\n",
      "   ------------------------------------- -- 14.5/15.5 MB 635.0 kB/s eta 0:00:02\n",
      "   ------------------------------------- -- 14.5/15.5 MB 632.6 kB/s eta 0:00:02\n",
      "   ------------------------------------- -- 14.5/15.5 MB 630.7 kB/s eta 0:00:02\n",
      "   ------------------------------------- -- 14.6/15.5 MB 628.9 kB/s eta 0:00:02\n",
      "   ------------------------------------- -- 14.6/15.5 MB 627.7 kB/s eta 0:00:02\n",
      "   ------------------------------------- -- 14.6/15.5 MB 625.3 kB/s eta 0:00:02\n",
      "   ------------------------------------- -- 14.7/15.5 MB 623.5 kB/s eta 0:00:02\n",
      "   ------------------------------------- -- 14.7/15.5 MB 622.3 kB/s eta 0:00:02\n",
      "   ------------------------------------- -- 14.7/15.5 MB 622.3 kB/s eta 0:00:02\n",
      "   ------------------------------------- -- 14.7/15.5 MB 620.0 kB/s eta 0:00:02\n",
      "   ------------------------------------- -- 14.7/15.5 MB 620.6 kB/s eta 0:00:02\n",
      "   -------------------------------------- - 14.8/15.5 MB 619.4 kB/s eta 0:00:02\n",
      "   -------------------------------------- - 14.8/15.5 MB 620.0 kB/s eta 0:00:02\n",
      "   -------------------------------------- - 14.8/15.5 MB 620.0 kB/s eta 0:00:02\n",
      "   -------------------------------------- - 14.8/15.5 MB 617.1 kB/s eta 0:00:02\n",
      "   -------------------------------------- - 14.9/15.5 MB 615.9 kB/s eta 0:00:02\n",
      "   -------------------------------------- - 14.9/15.5 MB 618.2 kB/s eta 0:00:02\n",
      "   -------------------------------------- - 14.9/15.5 MB 618.8 kB/s eta 0:00:01\n",
      "   -------------------------------------- - 14.9/15.5 MB 618.8 kB/s eta 0:00:01\n",
      "   -------------------------------------- - 15.0/15.5 MB 617.1 kB/s eta 0:00:01\n",
      "   -------------------------------------- - 15.0/15.5 MB 617.1 kB/s eta 0:00:01\n",
      "   -------------------------------------- - 15.0/15.5 MB 615.3 kB/s eta 0:00:01\n",
      "   -------------------------------------- - 15.0/15.5 MB 614.7 kB/s eta 0:00:01\n",
      "   -------------------------------------- - 15.1/15.5 MB 616.5 kB/s eta 0:00:01\n",
      "   -------------------------------------- - 15.1/15.5 MB 615.9 kB/s eta 0:00:01\n",
      "   -------------------------------------- - 15.1/15.5 MB 614.2 kB/s eta 0:00:01\n",
      "   -------------------------------------- - 15.1/15.5 MB 614.1 kB/s eta 0:00:01\n",
      "   ---------------------------------------  15.2/15.5 MB 613.6 kB/s eta 0:00:01\n",
      "   ---------------------------------------  15.2/15.5 MB 613.6 kB/s eta 0:00:01\n",
      "   ---------------------------------------  15.2/15.5 MB 614.1 kB/s eta 0:00:01\n",
      "   ---------------------------------------  15.2/15.5 MB 614.2 kB/s eta 0:00:01\n",
      "   ---------------------------------------  15.3/15.5 MB 613.6 kB/s eta 0:00:01\n",
      "   ---------------------------------------  15.3/15.5 MB 613.0 kB/s eta 0:00:01\n",
      "   ---------------------------------------  15.3/15.5 MB 612.5 kB/s eta 0:00:01\n",
      "   ---------------------------------------  15.3/15.5 MB 612.5 kB/s eta 0:00:01\n",
      "   ---------------------------------------  15.4/15.5 MB 613.0 kB/s eta 0:00:01\n",
      "   ---------------------------------------  15.4/15.5 MB 612.5 kB/s eta 0:00:01\n",
      "   ---------------------------------------  15.5/15.5 MB 612.5 kB/s eta 0:00:01\n",
      "   ---------------------------------------  15.5/15.5 MB 612.5 kB/s eta 0:00:01\n",
      "   ---------------------------------------  15.5/15.5 MB 611.9 kB/s eta 0:00:01\n",
      "   ---------------------------------------  15.5/15.5 MB 611.3 kB/s eta 0:00:01\n",
      "   ---------------------------------------- 15.5/15.5 MB 609.7 kB/s eta 0:00:00\n",
      "Installing collected packages: numpy, basemap-data, matplotlib, basemap\n",
      "  Attempting uninstall: numpy\n",
      "    Found existing installation: numpy 1.26.2\n",
      "    Uninstalling numpy-1.26.2:\n",
      "      Successfully uninstalled numpy-1.26.2\n",
      "  Attempting uninstall: matplotlib\n",
      "    Found existing installation: matplotlib 3.8.2\n",
      "    Uninstalling matplotlib-3.8.2:\n"
     ]
    },
    {
     "name": "stderr",
     "output_type": "stream",
     "text": [
      "  WARNING: Failed to remove contents in a temporary directory 'C:\\Users\\rkast\\AppData\\Roaming\\Python\\Python311\\site-packages\\~umpy.libs'.\n",
      "  You can safely remove it manually.\n",
      "  WARNING: Failed to remove contents in a temporary directory 'C:\\Users\\rkast\\AppData\\Roaming\\Python\\Python311\\site-packages\\~umpy'.\n",
      "  You can safely remove it manually.\n",
      "ERROR: Could not install packages due to an OSError: [WinError 5] Access is denied: 'c:\\\\users\\\\rkast\\\\appdata\\\\roaming\\\\python\\\\python311\\\\site-packages\\\\matplotlib\\\\backends\\\\_backend_agg.cp311-win_amd64.pyd'\n",
      "Check the permissions.\n",
      "\n",
      "WARNING: Ignoring invalid distribution ~atplotlib (C:\\Users\\rkast\\AppData\\Roaming\\Python\\Python311\\site-packages)\n"
     ]
    },
    {
     "name": "stdout",
     "output_type": "stream",
     "text": [
      "Defaulting to user installation because normal site-packages is not writeable\n",
      "Requirement already satisfied: basemap-data in c:\\users\\rkast\\appdata\\roaming\\python\\python311\\site-packages (1.3.2)\n",
      "Note: you may need to restart the kernel to use updated packages.\n"
     ]
    },
    {
     "name": "stderr",
     "output_type": "stream",
     "text": [
      "WARNING: Ignoring invalid distribution ~atplotlib (C:\\Users\\rkast\\AppData\\Roaming\\Python\\Python311\\site-packages)\n",
      "WARNING: Ignoring invalid distribution ~atplotlib (C:\\Users\\rkast\\AppData\\Roaming\\Python\\Python311\\site-packages)\n",
      "WARNING: Ignoring invalid distribution ~atplotlib (C:\\Users\\rkast\\AppData\\Roaming\\Python\\Python311\\site-packages)\n",
      "WARNING: Ignoring invalid distribution ~atplotlib (C:\\Users\\rkast\\AppData\\Roaming\\Python\\Python311\\site-packages)\n",
      "\n",
      "[notice] A new release of pip is available: 23.3.1 -> 23.3.2\n",
      "[notice] To update, run: python.exe -m pip install --upgrade pip\n"
     ]
    }
   ],
   "source": [
    "!pip3 install basemap\n",
    "%pip install basemap-data"
   ]
  },
  {
   "cell_type": "code",
   "execution_count": 21,
   "id": "566af9d0",
   "metadata": {},
   "outputs": [
    {
     "name": "stderr",
     "output_type": "stream",
     "text": [
      "More than 20 figures have been opened. Figures created through the pyplot interface (`matplotlib.pyplot.figure`) are retained until explicitly closed and may consume too much memory. (To control this warning, see the rcParam `figure.max_open_warning`). Consider using `matplotlib.pyplot.close()`.\n"
     ]
    },
    {
     "data": {
      "text/plain": [
       "<Figure size 600x800 with 0 Axes>"
      ]
     },
     "metadata": {},
     "output_type": "display_data"
    },
    {
     "data": {
      "text/plain": [
       "<Figure size 600x800 with 0 Axes>"
      ]
     },
     "metadata": {},
     "output_type": "display_data"
    },
    {
     "data": {
      "text/plain": [
       "<Figure size 600x800 with 0 Axes>"
      ]
     },
     "metadata": {},
     "output_type": "display_data"
    },
    {
     "data": {
      "text/plain": [
       "<Figure size 600x800 with 0 Axes>"
      ]
     },
     "metadata": {},
     "output_type": "display_data"
    },
    {
     "data": {
      "text/plain": [
       "<Figure size 600x800 with 0 Axes>"
      ]
     },
     "metadata": {},
     "output_type": "display_data"
    },
    {
     "data": {
      "text/plain": [
       "<Figure size 600x800 with 0 Axes>"
      ]
     },
     "metadata": {},
     "output_type": "display_data"
    },
    {
     "data": {
      "text/plain": [
       "<Figure size 600x800 with 0 Axes>"
      ]
     },
     "metadata": {},
     "output_type": "display_data"
    },
    {
     "data": {
      "text/plain": [
       "<Figure size 600x800 with 0 Axes>"
      ]
     },
     "metadata": {},
     "output_type": "display_data"
    },
    {
     "data": {
      "text/plain": [
       "<Figure size 600x800 with 0 Axes>"
      ]
     },
     "metadata": {},
     "output_type": "display_data"
    },
    {
     "data": {
      "text/plain": [
       "<Figure size 600x800 with 0 Axes>"
      ]
     },
     "metadata": {},
     "output_type": "display_data"
    },
    {
     "data": {
      "text/plain": [
       "<Figure size 600x800 with 0 Axes>"
      ]
     },
     "metadata": {},
     "output_type": "display_data"
    },
    {
     "data": {
      "text/plain": [
       "<Figure size 600x800 with 0 Axes>"
      ]
     },
     "metadata": {},
     "output_type": "display_data"
    },
    {
     "data": {
      "text/plain": [
       "<Figure size 600x800 with 0 Axes>"
      ]
     },
     "metadata": {},
     "output_type": "display_data"
    },
    {
     "data": {
      "text/plain": [
       "<Figure size 600x800 with 0 Axes>"
      ]
     },
     "metadata": {},
     "output_type": "display_data"
    },
    {
     "data": {
      "text/plain": [
       "<Figure size 600x800 with 0 Axes>"
      ]
     },
     "metadata": {},
     "output_type": "display_data"
    },
    {
     "data": {
      "text/plain": [
       "<Figure size 600x800 with 0 Axes>"
      ]
     },
     "metadata": {},
     "output_type": "display_data"
    },
    {
     "data": {
      "text/plain": [
       "<Figure size 600x800 with 0 Axes>"
      ]
     },
     "metadata": {},
     "output_type": "display_data"
    },
    {
     "data": {
      "text/plain": [
       "<Figure size 600x800 with 0 Axes>"
      ]
     },
     "metadata": {},
     "output_type": "display_data"
    },
    {
     "data": {
      "text/plain": [
       "<Figure size 600x800 with 0 Axes>"
      ]
     },
     "metadata": {},
     "output_type": "display_data"
    },
    {
     "data": {
      "text/plain": [
       "<Figure size 600x800 with 0 Axes>"
      ]
     },
     "metadata": {},
     "output_type": "display_data"
    },
    {
     "data": {
      "text/plain": [
       "<Figure size 600x800 with 0 Axes>"
      ]
     },
     "metadata": {},
     "output_type": "display_data"
    },
    {
     "data": {
      "text/plain": [
       "<Figure size 600x800 with 0 Axes>"
      ]
     },
     "metadata": {},
     "output_type": "display_data"
    },
    {
     "data": {
      "text/plain": [
       "<Figure size 600x800 with 0 Axes>"
      ]
     },
     "metadata": {},
     "output_type": "display_data"
    },
    {
     "data": {
      "text/plain": [
       "<Figure size 600x800 with 0 Axes>"
      ]
     },
     "metadata": {},
     "output_type": "display_data"
    },
    {
     "data": {
      "text/plain": [
       "<Figure size 600x800 with 0 Axes>"
      ]
     },
     "metadata": {},
     "output_type": "display_data"
    },
    {
     "data": {
      "text/plain": [
       "<Figure size 600x800 with 0 Axes>"
      ]
     },
     "metadata": {},
     "output_type": "display_data"
    },
    {
     "data": {
      "text/plain": [
       "<Figure size 600x800 with 0 Axes>"
      ]
     },
     "metadata": {},
     "output_type": "display_data"
    },
    {
     "data": {
      "text/plain": [
       "<Figure size 600x800 with 0 Axes>"
      ]
     },
     "metadata": {},
     "output_type": "display_data"
    },
    {
     "data": {
      "text/plain": [
       "<Figure size 600x800 with 0 Axes>"
      ]
     },
     "metadata": {},
     "output_type": "display_data"
    },
    {
     "data": {
      "text/plain": [
       "<Figure size 600x800 with 0 Axes>"
      ]
     },
     "metadata": {},
     "output_type": "display_data"
    },
    {
     "data": {
      "text/plain": [
       "<Figure size 600x800 with 0 Axes>"
      ]
     },
     "metadata": {},
     "output_type": "display_data"
    },
    {
     "data": {
      "text/plain": [
       "<Figure size 600x800 with 0 Axes>"
      ]
     },
     "metadata": {},
     "output_type": "display_data"
    },
    {
     "data": {
      "text/plain": [
       "<Figure size 600x800 with 0 Axes>"
      ]
     },
     "metadata": {},
     "output_type": "display_data"
    },
    {
     "data": {
      "text/plain": [
       "<Figure size 600x800 with 0 Axes>"
      ]
     },
     "metadata": {},
     "output_type": "display_data"
    },
    {
     "data": {
      "text/plain": [
       "<Figure size 600x800 with 0 Axes>"
      ]
     },
     "metadata": {},
     "output_type": "display_data"
    },
    {
     "data": {
      "text/plain": [
       "<Figure size 600x800 with 0 Axes>"
      ]
     },
     "metadata": {},
     "output_type": "display_data"
    },
    {
     "data": {
      "text/plain": [
       "<Figure size 600x800 with 0 Axes>"
      ]
     },
     "metadata": {},
     "output_type": "display_data"
    },
    {
     "data": {
      "text/plain": [
       "<Figure size 600x800 with 0 Axes>"
      ]
     },
     "metadata": {},
     "output_type": "display_data"
    },
    {
     "data": {
      "text/plain": [
       "<Figure size 600x800 with 0 Axes>"
      ]
     },
     "metadata": {},
     "output_type": "display_data"
    },
    {
     "data": {
      "text/plain": [
       "<Figure size 600x800 with 0 Axes>"
      ]
     },
     "metadata": {},
     "output_type": "display_data"
    },
    {
     "data": {
      "text/plain": [
       "<Figure size 600x800 with 0 Axes>"
      ]
     },
     "metadata": {},
     "output_type": "display_data"
    },
    {
     "data": {
      "text/plain": [
       "<Figure size 600x800 with 0 Axes>"
      ]
     },
     "metadata": {},
     "output_type": "display_data"
    },
    {
     "data": {
      "text/plain": [
       "<Figure size 600x800 with 0 Axes>"
      ]
     },
     "metadata": {},
     "output_type": "display_data"
    },
    {
     "data": {
      "text/plain": [
       "<Figure size 600x800 with 0 Axes>"
      ]
     },
     "metadata": {},
     "output_type": "display_data"
    },
    {
     "data": {
      "text/plain": [
       "<Figure size 600x800 with 0 Axes>"
      ]
     },
     "metadata": {},
     "output_type": "display_data"
    },
    {
     "data": {
      "text/plain": [
       "<Figure size 600x800 with 0 Axes>"
      ]
     },
     "metadata": {},
     "output_type": "display_data"
    },
    {
     "data": {
      "text/plain": [
       "<Figure size 600x800 with 0 Axes>"
      ]
     },
     "metadata": {},
     "output_type": "display_data"
    },
    {
     "data": {
      "text/plain": [
       "<Figure size 600x800 with 0 Axes>"
      ]
     },
     "metadata": {},
     "output_type": "display_data"
    },
    {
     "data": {
      "text/plain": [
       "<Figure size 600x800 with 0 Axes>"
      ]
     },
     "metadata": {},
     "output_type": "display_data"
    },
    {
     "data": {
      "text/plain": [
       "<Figure size 600x800 with 0 Axes>"
      ]
     },
     "metadata": {},
     "output_type": "display_data"
    },
    {
     "data": {
      "text/plain": [
       "<Figure size 600x800 with 0 Axes>"
      ]
     },
     "metadata": {},
     "output_type": "display_data"
    },
    {
     "data": {
      "text/plain": [
       "<Figure size 600x800 with 0 Axes>"
      ]
     },
     "metadata": {},
     "output_type": "display_data"
    },
    {
     "data": {
      "text/plain": [
       "<Figure size 600x800 with 0 Axes>"
      ]
     },
     "metadata": {},
     "output_type": "display_data"
    },
    {
     "data": {
      "text/plain": [
       "<Figure size 600x800 with 0 Axes>"
      ]
     },
     "metadata": {},
     "output_type": "display_data"
    },
    {
     "data": {
      "text/plain": [
       "<Figure size 600x800 with 0 Axes>"
      ]
     },
     "metadata": {},
     "output_type": "display_data"
    },
    {
     "data": {
      "text/plain": [
       "<Figure size 600x800 with 0 Axes>"
      ]
     },
     "metadata": {},
     "output_type": "display_data"
    },
    {
     "data": {
      "text/plain": [
       "<Figure size 600x800 with 0 Axes>"
      ]
     },
     "metadata": {},
     "output_type": "display_data"
    },
    {
     "data": {
      "text/plain": [
       "<Figure size 600x800 with 0 Axes>"
      ]
     },
     "metadata": {},
     "output_type": "display_data"
    },
    {
     "data": {
      "text/plain": [
       "<Figure size 600x800 with 0 Axes>"
      ]
     },
     "metadata": {},
     "output_type": "display_data"
    },
    {
     "data": {
      "text/plain": [
       "<Figure size 600x800 with 0 Axes>"
      ]
     },
     "metadata": {},
     "output_type": "display_data"
    },
    {
     "data": {
      "text/plain": [
       "<Figure size 600x800 with 0 Axes>"
      ]
     },
     "metadata": {},
     "output_type": "display_data"
    },
    {
     "data": {
      "text/plain": [
       "<Figure size 600x800 with 0 Axes>"
      ]
     },
     "metadata": {},
     "output_type": "display_data"
    },
    {
     "data": {
      "text/plain": [
       "<Figure size 600x800 with 0 Axes>"
      ]
     },
     "metadata": {},
     "output_type": "display_data"
    },
    {
     "data": {
      "text/plain": [
       "<Figure size 600x800 with 0 Axes>"
      ]
     },
     "metadata": {},
     "output_type": "display_data"
    },
    {
     "data": {
      "text/plain": [
       "<Figure size 600x800 with 0 Axes>"
      ]
     },
     "metadata": {},
     "output_type": "display_data"
    },
    {
     "data": {
      "text/plain": [
       "<Figure size 600x800 with 0 Axes>"
      ]
     },
     "metadata": {},
     "output_type": "display_data"
    },
    {
     "data": {
      "text/plain": [
       "<Figure size 600x800 with 0 Axes>"
      ]
     },
     "metadata": {},
     "output_type": "display_data"
    },
    {
     "data": {
      "text/plain": [
       "<Figure size 600x800 with 0 Axes>"
      ]
     },
     "metadata": {},
     "output_type": "display_data"
    },
    {
     "data": {
      "text/plain": [
       "<Figure size 600x800 with 0 Axes>"
      ]
     },
     "metadata": {},
     "output_type": "display_data"
    },
    {
     "data": {
      "text/plain": [
       "<Figure size 600x800 with 0 Axes>"
      ]
     },
     "metadata": {},
     "output_type": "display_data"
    },
    {
     "data": {
      "text/plain": [
       "<Figure size 600x800 with 0 Axes>"
      ]
     },
     "metadata": {},
     "output_type": "display_data"
    },
    {
     "data": {
      "text/plain": [
       "<Figure size 600x800 with 0 Axes>"
      ]
     },
     "metadata": {},
     "output_type": "display_data"
    },
    {
     "data": {
      "text/plain": [
       "<Figure size 600x800 with 0 Axes>"
      ]
     },
     "metadata": {},
     "output_type": "display_data"
    },
    {
     "data": {
      "text/plain": [
       "<Figure size 600x800 with 0 Axes>"
      ]
     },
     "metadata": {},
     "output_type": "display_data"
    },
    {
     "data": {
      "text/plain": [
       "<Figure size 600x800 with 0 Axes>"
      ]
     },
     "metadata": {},
     "output_type": "display_data"
    },
    {
     "data": {
      "text/plain": [
       "<Figure size 600x800 with 0 Axes>"
      ]
     },
     "metadata": {},
     "output_type": "display_data"
    },
    {
     "data": {
      "text/plain": [
       "<Figure size 600x800 with 0 Axes>"
      ]
     },
     "metadata": {},
     "output_type": "display_data"
    },
    {
     "data": {
      "text/plain": [
       "<Figure size 600x800 with 0 Axes>"
      ]
     },
     "metadata": {},
     "output_type": "display_data"
    },
    {
     "data": {
      "text/plain": [
       "<Figure size 600x800 with 0 Axes>"
      ]
     },
     "metadata": {},
     "output_type": "display_data"
    },
    {
     "data": {
      "text/plain": [
       "<Figure size 600x800 with 0 Axes>"
      ]
     },
     "metadata": {},
     "output_type": "display_data"
    },
    {
     "data": {
      "text/plain": [
       "<Figure size 600x800 with 0 Axes>"
      ]
     },
     "metadata": {},
     "output_type": "display_data"
    },
    {
     "data": {
      "text/plain": [
       "<Figure size 600x800 with 0 Axes>"
      ]
     },
     "metadata": {},
     "output_type": "display_data"
    },
    {
     "data": {
      "text/plain": [
       "<Figure size 600x800 with 0 Axes>"
      ]
     },
     "metadata": {},
     "output_type": "display_data"
    },
    {
     "data": {
      "text/plain": [
       "<Figure size 600x800 with 0 Axes>"
      ]
     },
     "metadata": {},
     "output_type": "display_data"
    },
    {
     "data": {
      "text/plain": [
       "<Figure size 600x800 with 0 Axes>"
      ]
     },
     "metadata": {},
     "output_type": "display_data"
    },
    {
     "data": {
      "text/plain": [
       "<Figure size 600x800 with 0 Axes>"
      ]
     },
     "metadata": {},
     "output_type": "display_data"
    },
    {
     "data": {
      "text/plain": [
       "<Figure size 600x800 with 0 Axes>"
      ]
     },
     "metadata": {},
     "output_type": "display_data"
    },
    {
     "data": {
      "text/plain": [
       "<Figure size 600x800 with 0 Axes>"
      ]
     },
     "metadata": {},
     "output_type": "display_data"
    },
    {
     "data": {
      "text/plain": [
       "<Figure size 600x800 with 0 Axes>"
      ]
     },
     "metadata": {},
     "output_type": "display_data"
    },
    {
     "data": {
      "text/plain": [
       "<Figure size 600x800 with 0 Axes>"
      ]
     },
     "metadata": {},
     "output_type": "display_data"
    },
    {
     "data": {
      "text/plain": [
       "<Figure size 600x800 with 0 Axes>"
      ]
     },
     "metadata": {},
     "output_type": "display_data"
    },
    {
     "data": {
      "text/plain": [
       "<Figure size 600x800 with 0 Axes>"
      ]
     },
     "metadata": {},
     "output_type": "display_data"
    },
    {
     "data": {
      "text/plain": [
       "<Figure size 600x800 with 0 Axes>"
      ]
     },
     "metadata": {},
     "output_type": "display_data"
    },
    {
     "data": {
      "text/plain": [
       "<Figure size 600x800 with 0 Axes>"
      ]
     },
     "metadata": {},
     "output_type": "display_data"
    },
    {
     "data": {
      "text/plain": [
       "<Figure size 600x800 with 0 Axes>"
      ]
     },
     "metadata": {},
     "output_type": "display_data"
    },
    {
     "data": {
      "text/plain": [
       "<Figure size 600x800 with 0 Axes>"
      ]
     },
     "metadata": {},
     "output_type": "display_data"
    },
    {
     "data": {
      "text/plain": [
       "<Figure size 600x800 with 0 Axes>"
      ]
     },
     "metadata": {},
     "output_type": "display_data"
    },
    {
     "data": {
      "text/plain": [
       "<Figure size 600x800 with 0 Axes>"
      ]
     },
     "metadata": {},
     "output_type": "display_data"
    },
    {
     "data": {
      "text/plain": [
       "<Figure size 600x800 with 0 Axes>"
      ]
     },
     "metadata": {},
     "output_type": "display_data"
    },
    {
     "data": {
      "text/plain": [
       "<Figure size 600x800 with 0 Axes>"
      ]
     },
     "metadata": {},
     "output_type": "display_data"
    },
    {
     "data": {
      "text/plain": [
       "<Figure size 600x800 with 0 Axes>"
      ]
     },
     "metadata": {},
     "output_type": "display_data"
    },
    {
     "data": {
      "text/plain": [
       "<Figure size 600x800 with 0 Axes>"
      ]
     },
     "metadata": {},
     "output_type": "display_data"
    },
    {
     "data": {
      "text/plain": [
       "<Figure size 600x800 with 0 Axes>"
      ]
     },
     "metadata": {},
     "output_type": "display_data"
    },
    {
     "data": {
      "text/plain": [
       "<Figure size 600x800 with 0 Axes>"
      ]
     },
     "metadata": {},
     "output_type": "display_data"
    },
    {
     "data": {
      "text/plain": [
       "<Figure size 600x800 with 0 Axes>"
      ]
     },
     "metadata": {},
     "output_type": "display_data"
    },
    {
     "data": {
      "text/plain": [
       "<Figure size 600x800 with 0 Axes>"
      ]
     },
     "metadata": {},
     "output_type": "display_data"
    },
    {
     "data": {
      "text/plain": [
       "<Figure size 600x800 with 0 Axes>"
      ]
     },
     "metadata": {},
     "output_type": "display_data"
    },
    {
     "data": {
      "text/plain": [
       "<Figure size 600x800 with 0 Axes>"
      ]
     },
     "metadata": {},
     "output_type": "display_data"
    },
    {
     "data": {
      "text/plain": [
       "<Figure size 600x800 with 0 Axes>"
      ]
     },
     "metadata": {},
     "output_type": "display_data"
    },
    {
     "data": {
      "text/plain": [
       "<Figure size 600x800 with 0 Axes>"
      ]
     },
     "metadata": {},
     "output_type": "display_data"
    },
    {
     "data": {
      "text/plain": [
       "<Figure size 600x800 with 0 Axes>"
      ]
     },
     "metadata": {},
     "output_type": "display_data"
    },
    {
     "data": {
      "text/plain": [
       "<Figure size 600x800 with 0 Axes>"
      ]
     },
     "metadata": {},
     "output_type": "display_data"
    },
    {
     "data": {
      "text/plain": [
       "<Figure size 600x800 with 0 Axes>"
      ]
     },
     "metadata": {},
     "output_type": "display_data"
    },
    {
     "data": {
      "text/plain": [
       "<Figure size 600x800 with 0 Axes>"
      ]
     },
     "metadata": {},
     "output_type": "display_data"
    },
    {
     "data": {
      "text/plain": [
       "<Figure size 600x800 with 0 Axes>"
      ]
     },
     "metadata": {},
     "output_type": "display_data"
    },
    {
     "data": {
      "text/plain": [
       "<Figure size 600x800 with 0 Axes>"
      ]
     },
     "metadata": {},
     "output_type": "display_data"
    },
    {
     "data": {
      "text/plain": [
       "<Figure size 600x800 with 0 Axes>"
      ]
     },
     "metadata": {},
     "output_type": "display_data"
    },
    {
     "data": {
      "text/plain": [
       "<Figure size 600x800 with 0 Axes>"
      ]
     },
     "metadata": {},
     "output_type": "display_data"
    },
    {
     "data": {
      "text/plain": [
       "<Figure size 600x800 with 0 Axes>"
      ]
     },
     "metadata": {},
     "output_type": "display_data"
    },
    {
     "data": {
      "text/plain": [
       "<Figure size 600x800 with 0 Axes>"
      ]
     },
     "metadata": {},
     "output_type": "display_data"
    },
    {
     "data": {
      "text/plain": [
       "<Figure size 600x800 with 0 Axes>"
      ]
     },
     "metadata": {},
     "output_type": "display_data"
    },
    {
     "data": {
      "text/plain": [
       "<Figure size 600x800 with 0 Axes>"
      ]
     },
     "metadata": {},
     "output_type": "display_data"
    },
    {
     "data": {
      "text/plain": [
       "<Figure size 600x800 with 0 Axes>"
      ]
     },
     "metadata": {},
     "output_type": "display_data"
    },
    {
     "data": {
      "text/plain": [
       "<Figure size 600x800 with 0 Axes>"
      ]
     },
     "metadata": {},
     "output_type": "display_data"
    },
    {
     "data": {
      "text/plain": [
       "<Figure size 600x800 with 0 Axes>"
      ]
     },
     "metadata": {},
     "output_type": "display_data"
    },
    {
     "data": {
      "text/plain": [
       "<Figure size 600x800 with 0 Axes>"
      ]
     },
     "metadata": {},
     "output_type": "display_data"
    },
    {
     "data": {
      "text/plain": [
       "<Figure size 600x800 with 0 Axes>"
      ]
     },
     "metadata": {},
     "output_type": "display_data"
    },
    {
     "data": {
      "text/plain": [
       "<Figure size 600x800 with 0 Axes>"
      ]
     },
     "metadata": {},
     "output_type": "display_data"
    },
    {
     "data": {
      "text/plain": [
       "<Figure size 600x800 with 0 Axes>"
      ]
     },
     "metadata": {},
     "output_type": "display_data"
    },
    {
     "data": {
      "text/plain": [
       "<Figure size 600x800 with 0 Axes>"
      ]
     },
     "metadata": {},
     "output_type": "display_data"
    },
    {
     "data": {
      "text/plain": [
       "<Figure size 600x800 with 0 Axes>"
      ]
     },
     "metadata": {},
     "output_type": "display_data"
    },
    {
     "data": {
      "text/plain": [
       "<Figure size 600x800 with 0 Axes>"
      ]
     },
     "metadata": {},
     "output_type": "display_data"
    },
    {
     "data": {
      "text/plain": [
       "<Figure size 600x800 with 0 Axes>"
      ]
     },
     "metadata": {},
     "output_type": "display_data"
    },
    {
     "data": {
      "text/plain": [
       "<Figure size 600x800 with 0 Axes>"
      ]
     },
     "metadata": {},
     "output_type": "display_data"
    },
    {
     "data": {
      "text/plain": [
       "<Figure size 600x800 with 0 Axes>"
      ]
     },
     "metadata": {},
     "output_type": "display_data"
    },
    {
     "data": {
      "text/plain": [
       "<Figure size 600x800 with 0 Axes>"
      ]
     },
     "metadata": {},
     "output_type": "display_data"
    },
    {
     "data": {
      "text/plain": [
       "<Figure size 600x800 with 0 Axes>"
      ]
     },
     "metadata": {},
     "output_type": "display_data"
    },
    {
     "data": {
      "text/plain": [
       "<Figure size 600x800 with 0 Axes>"
      ]
     },
     "metadata": {},
     "output_type": "display_data"
    },
    {
     "data": {
      "text/plain": [
       "<Figure size 600x800 with 0 Axes>"
      ]
     },
     "metadata": {},
     "output_type": "display_data"
    },
    {
     "data": {
      "text/plain": [
       "<Figure size 600x800 with 0 Axes>"
      ]
     },
     "metadata": {},
     "output_type": "display_data"
    },
    {
     "data": {
      "text/plain": [
       "<Figure size 600x800 with 0 Axes>"
      ]
     },
     "metadata": {},
     "output_type": "display_data"
    },
    {
     "data": {
      "text/plain": [
       "<Figure size 600x800 with 0 Axes>"
      ]
     },
     "metadata": {},
     "output_type": "display_data"
    },
    {
     "data": {
      "text/plain": [
       "<Figure size 600x800 with 0 Axes>"
      ]
     },
     "metadata": {},
     "output_type": "display_data"
    },
    {
     "data": {
      "text/plain": [
       "<Figure size 600x800 with 0 Axes>"
      ]
     },
     "metadata": {},
     "output_type": "display_data"
    },
    {
     "data": {
      "text/plain": [
       "<Figure size 600x800 with 0 Axes>"
      ]
     },
     "metadata": {},
     "output_type": "display_data"
    },
    {
     "data": {
      "text/plain": [
       "<Figure size 600x800 with 0 Axes>"
      ]
     },
     "metadata": {},
     "output_type": "display_data"
    },
    {
     "data": {
      "text/plain": [
       "<Figure size 600x800 with 0 Axes>"
      ]
     },
     "metadata": {},
     "output_type": "display_data"
    },
    {
     "data": {
      "text/plain": [
       "<Figure size 600x800 with 0 Axes>"
      ]
     },
     "metadata": {},
     "output_type": "display_data"
    },
    {
     "data": {
      "text/plain": [
       "<Figure size 600x800 with 0 Axes>"
      ]
     },
     "metadata": {},
     "output_type": "display_data"
    },
    {
     "data": {
      "text/plain": [
       "<Figure size 600x800 with 0 Axes>"
      ]
     },
     "metadata": {},
     "output_type": "display_data"
    },
    {
     "data": {
      "text/plain": [
       "<Figure size 600x800 with 0 Axes>"
      ]
     },
     "metadata": {},
     "output_type": "display_data"
    },
    {
     "data": {
      "text/plain": [
       "<Figure size 600x800 with 0 Axes>"
      ]
     },
     "metadata": {},
     "output_type": "display_data"
    },
    {
     "data": {
      "text/plain": [
       "<Figure size 600x800 with 0 Axes>"
      ]
     },
     "metadata": {},
     "output_type": "display_data"
    },
    {
     "data": {
      "text/plain": [
       "<Figure size 600x800 with 0 Axes>"
      ]
     },
     "metadata": {},
     "output_type": "display_data"
    },
    {
     "data": {
      "text/plain": [
       "<Figure size 600x800 with 0 Axes>"
      ]
     },
     "metadata": {},
     "output_type": "display_data"
    },
    {
     "data": {
      "text/plain": [
       "<Figure size 600x800 with 0 Axes>"
      ]
     },
     "metadata": {},
     "output_type": "display_data"
    },
    {
     "data": {
      "text/plain": [
       "<Figure size 600x800 with 0 Axes>"
      ]
     },
     "metadata": {},
     "output_type": "display_data"
    },
    {
     "data": {
      "text/plain": [
       "<Figure size 600x800 with 0 Axes>"
      ]
     },
     "metadata": {},
     "output_type": "display_data"
    },
    {
     "data": {
      "text/plain": [
       "<Figure size 600x800 with 0 Axes>"
      ]
     },
     "metadata": {},
     "output_type": "display_data"
    },
    {
     "data": {
      "text/plain": [
       "<Figure size 600x800 with 0 Axes>"
      ]
     },
     "metadata": {},
     "output_type": "display_data"
    },
    {
     "data": {
      "text/plain": [
       "<Figure size 600x800 with 0 Axes>"
      ]
     },
     "metadata": {},
     "output_type": "display_data"
    },
    {
     "data": {
      "text/plain": [
       "<Figure size 600x800 with 0 Axes>"
      ]
     },
     "metadata": {},
     "output_type": "display_data"
    },
    {
     "data": {
      "text/plain": [
       "<Figure size 600x800 with 0 Axes>"
      ]
     },
     "metadata": {},
     "output_type": "display_data"
    },
    {
     "data": {
      "text/plain": [
       "<Figure size 600x800 with 0 Axes>"
      ]
     },
     "metadata": {},
     "output_type": "display_data"
    },
    {
     "data": {
      "text/plain": [
       "<Figure size 600x800 with 0 Axes>"
      ]
     },
     "metadata": {},
     "output_type": "display_data"
    },
    {
     "data": {
      "text/plain": [
       "<Figure size 600x800 with 0 Axes>"
      ]
     },
     "metadata": {},
     "output_type": "display_data"
    },
    {
     "data": {
      "text/plain": [
       "<Figure size 600x800 with 0 Axes>"
      ]
     },
     "metadata": {},
     "output_type": "display_data"
    },
    {
     "data": {
      "text/plain": [
       "<Figure size 600x800 with 0 Axes>"
      ]
     },
     "metadata": {},
     "output_type": "display_data"
    },
    {
     "data": {
      "text/plain": [
       "<Figure size 600x800 with 0 Axes>"
      ]
     },
     "metadata": {},
     "output_type": "display_data"
    },
    {
     "data": {
      "text/plain": [
       "<Figure size 600x800 with 0 Axes>"
      ]
     },
     "metadata": {},
     "output_type": "display_data"
    },
    {
     "data": {
      "text/plain": [
       "<Figure size 600x800 with 0 Axes>"
      ]
     },
     "metadata": {},
     "output_type": "display_data"
    },
    {
     "data": {
      "text/plain": [
       "<Figure size 600x800 with 0 Axes>"
      ]
     },
     "metadata": {},
     "output_type": "display_data"
    },
    {
     "data": {
      "text/plain": [
       "<Figure size 600x800 with 0 Axes>"
      ]
     },
     "metadata": {},
     "output_type": "display_data"
    },
    {
     "data": {
      "text/plain": [
       "<Figure size 600x800 with 0 Axes>"
      ]
     },
     "metadata": {},
     "output_type": "display_data"
    },
    {
     "data": {
      "text/plain": [
       "<Figure size 600x800 with 0 Axes>"
      ]
     },
     "metadata": {},
     "output_type": "display_data"
    },
    {
     "data": {
      "text/plain": [
       "<Figure size 600x800 with 0 Axes>"
      ]
     },
     "metadata": {},
     "output_type": "display_data"
    },
    {
     "data": {
      "text/plain": [
       "<Figure size 600x800 with 0 Axes>"
      ]
     },
     "metadata": {},
     "output_type": "display_data"
    },
    {
     "data": {
      "text/plain": [
       "<Figure size 600x800 with 0 Axes>"
      ]
     },
     "metadata": {},
     "output_type": "display_data"
    },
    {
     "data": {
      "text/plain": [
       "<Figure size 600x800 with 0 Axes>"
      ]
     },
     "metadata": {},
     "output_type": "display_data"
    },
    {
     "data": {
      "text/plain": [
       "<Figure size 600x800 with 0 Axes>"
      ]
     },
     "metadata": {},
     "output_type": "display_data"
    },
    {
     "data": {
      "text/plain": [
       "<Figure size 600x800 with 0 Axes>"
      ]
     },
     "metadata": {},
     "output_type": "display_data"
    },
    {
     "data": {
      "text/plain": [
       "<Figure size 600x800 with 0 Axes>"
      ]
     },
     "metadata": {},
     "output_type": "display_data"
    },
    {
     "data": {
      "text/plain": [
       "<Figure size 600x800 with 0 Axes>"
      ]
     },
     "metadata": {},
     "output_type": "display_data"
    },
    {
     "data": {
      "text/plain": [
       "<Figure size 600x800 with 0 Axes>"
      ]
     },
     "metadata": {},
     "output_type": "display_data"
    },
    {
     "data": {
      "text/plain": [
       "<Figure size 600x800 with 0 Axes>"
      ]
     },
     "metadata": {},
     "output_type": "display_data"
    },
    {
     "data": {
      "text/plain": [
       "<Figure size 600x800 with 0 Axes>"
      ]
     },
     "metadata": {},
     "output_type": "display_data"
    },
    {
     "data": {
      "text/plain": [
       "<Figure size 600x800 with 0 Axes>"
      ]
     },
     "metadata": {},
     "output_type": "display_data"
    },
    {
     "data": {
      "text/plain": [
       "<Figure size 600x800 with 0 Axes>"
      ]
     },
     "metadata": {},
     "output_type": "display_data"
    },
    {
     "data": {
      "text/plain": [
       "<Figure size 600x800 with 0 Axes>"
      ]
     },
     "metadata": {},
     "output_type": "display_data"
    },
    {
     "data": {
      "text/plain": [
       "<Figure size 600x800 with 0 Axes>"
      ]
     },
     "metadata": {},
     "output_type": "display_data"
    },
    {
     "data": {
      "text/plain": [
       "<Figure size 600x800 with 0 Axes>"
      ]
     },
     "metadata": {},
     "output_type": "display_data"
    },
    {
     "data": {
      "text/plain": [
       "<Figure size 600x800 with 0 Axes>"
      ]
     },
     "metadata": {},
     "output_type": "display_data"
    },
    {
     "data": {
      "text/plain": [
       "<Figure size 600x800 with 0 Axes>"
      ]
     },
     "metadata": {},
     "output_type": "display_data"
    },
    {
     "data": {
      "text/plain": [
       "<Figure size 600x800 with 0 Axes>"
      ]
     },
     "metadata": {},
     "output_type": "display_data"
    },
    {
     "data": {
      "text/plain": [
       "<Figure size 600x800 with 0 Axes>"
      ]
     },
     "metadata": {},
     "output_type": "display_data"
    },
    {
     "data": {
      "text/plain": [
       "<Figure size 600x800 with 0 Axes>"
      ]
     },
     "metadata": {},
     "output_type": "display_data"
    },
    {
     "data": {
      "text/plain": [
       "<Figure size 600x800 with 0 Axes>"
      ]
     },
     "metadata": {},
     "output_type": "display_data"
    },
    {
     "data": {
      "text/plain": [
       "<Figure size 600x800 with 0 Axes>"
      ]
     },
     "metadata": {},
     "output_type": "display_data"
    },
    {
     "data": {
      "text/plain": [
       "<Figure size 600x800 with 0 Axes>"
      ]
     },
     "metadata": {},
     "output_type": "display_data"
    },
    {
     "data": {
      "text/plain": [
       "<Figure size 600x800 with 0 Axes>"
      ]
     },
     "metadata": {},
     "output_type": "display_data"
    },
    {
     "data": {
      "text/plain": [
       "<Figure size 600x800 with 0 Axes>"
      ]
     },
     "metadata": {},
     "output_type": "display_data"
    },
    {
     "data": {
      "text/plain": [
       "<Figure size 600x800 with 0 Axes>"
      ]
     },
     "metadata": {},
     "output_type": "display_data"
    },
    {
     "data": {
      "text/plain": [
       "<Figure size 600x800 with 0 Axes>"
      ]
     },
     "metadata": {},
     "output_type": "display_data"
    },
    {
     "data": {
      "text/plain": [
       "<Figure size 600x800 with 0 Axes>"
      ]
     },
     "metadata": {},
     "output_type": "display_data"
    },
    {
     "data": {
      "text/plain": [
       "<Figure size 600x800 with 0 Axes>"
      ]
     },
     "metadata": {},
     "output_type": "display_data"
    },
    {
     "data": {
      "text/plain": [
       "<Figure size 600x800 with 0 Axes>"
      ]
     },
     "metadata": {},
     "output_type": "display_data"
    },
    {
     "data": {
      "text/plain": [
       "<Figure size 600x800 with 0 Axes>"
      ]
     },
     "metadata": {},
     "output_type": "display_data"
    },
    {
     "data": {
      "text/plain": [
       "<Figure size 600x800 with 0 Axes>"
      ]
     },
     "metadata": {},
     "output_type": "display_data"
    },
    {
     "data": {
      "text/plain": [
       "<Figure size 600x800 with 0 Axes>"
      ]
     },
     "metadata": {},
     "output_type": "display_data"
    },
    {
     "data": {
      "text/plain": [
       "<Figure size 600x800 with 0 Axes>"
      ]
     },
     "metadata": {},
     "output_type": "display_data"
    },
    {
     "data": {
      "text/plain": [
       "<Figure size 600x800 with 0 Axes>"
      ]
     },
     "metadata": {},
     "output_type": "display_data"
    },
    {
     "data": {
      "text/plain": [
       "<Figure size 600x800 with 0 Axes>"
      ]
     },
     "metadata": {},
     "output_type": "display_data"
    },
    {
     "data": {
      "text/plain": [
       "<Figure size 600x800 with 0 Axes>"
      ]
     },
     "metadata": {},
     "output_type": "display_data"
    },
    {
     "data": {
      "text/plain": [
       "<Figure size 600x800 with 0 Axes>"
      ]
     },
     "metadata": {},
     "output_type": "display_data"
    },
    {
     "data": {
      "text/plain": [
       "<Figure size 600x800 with 0 Axes>"
      ]
     },
     "metadata": {},
     "output_type": "display_data"
    },
    {
     "data": {
      "text/plain": [
       "<Figure size 600x800 with 0 Axes>"
      ]
     },
     "metadata": {},
     "output_type": "display_data"
    },
    {
     "data": {
      "text/plain": [
       "<Figure size 600x800 with 0 Axes>"
      ]
     },
     "metadata": {},
     "output_type": "display_data"
    },
    {
     "data": {
      "text/plain": [
       "<Figure size 600x800 with 0 Axes>"
      ]
     },
     "metadata": {},
     "output_type": "display_data"
    },
    {
     "data": {
      "text/plain": [
       "<Figure size 600x800 with 0 Axes>"
      ]
     },
     "metadata": {},
     "output_type": "display_data"
    },
    {
     "data": {
      "text/plain": [
       "<Figure size 600x800 with 0 Axes>"
      ]
     },
     "metadata": {},
     "output_type": "display_data"
    },
    {
     "data": {
      "text/plain": [
       "<Figure size 600x800 with 0 Axes>"
      ]
     },
     "metadata": {},
     "output_type": "display_data"
    },
    {
     "data": {
      "text/plain": [
       "<Figure size 600x800 with 0 Axes>"
      ]
     },
     "metadata": {},
     "output_type": "display_data"
    },
    {
     "data": {
      "text/plain": [
       "<Figure size 600x800 with 0 Axes>"
      ]
     },
     "metadata": {},
     "output_type": "display_data"
    },
    {
     "data": {
      "text/plain": [
       "<Figure size 600x800 with 0 Axes>"
      ]
     },
     "metadata": {},
     "output_type": "display_data"
    },
    {
     "data": {
      "text/plain": [
       "<Figure size 600x800 with 0 Axes>"
      ]
     },
     "metadata": {},
     "output_type": "display_data"
    },
    {
     "data": {
      "text/plain": [
       "<Figure size 600x800 with 0 Axes>"
      ]
     },
     "metadata": {},
     "output_type": "display_data"
    },
    {
     "data": {
      "text/plain": [
       "<Figure size 600x800 with 0 Axes>"
      ]
     },
     "metadata": {},
     "output_type": "display_data"
    },
    {
     "data": {
      "text/plain": [
       "<Figure size 600x800 with 0 Axes>"
      ]
     },
     "metadata": {},
     "output_type": "display_data"
    },
    {
     "data": {
      "text/plain": [
       "<Figure size 600x800 with 0 Axes>"
      ]
     },
     "metadata": {},
     "output_type": "display_data"
    },
    {
     "data": {
      "text/plain": [
       "<Figure size 600x800 with 0 Axes>"
      ]
     },
     "metadata": {},
     "output_type": "display_data"
    },
    {
     "data": {
      "text/plain": [
       "<Figure size 600x800 with 0 Axes>"
      ]
     },
     "metadata": {},
     "output_type": "display_data"
    },
    {
     "data": {
      "text/plain": [
       "<Figure size 600x800 with 0 Axes>"
      ]
     },
     "metadata": {},
     "output_type": "display_data"
    },
    {
     "data": {
      "text/plain": [
       "<Figure size 600x800 with 0 Axes>"
      ]
     },
     "metadata": {},
     "output_type": "display_data"
    },
    {
     "data": {
      "text/plain": [
       "<Figure size 600x800 with 0 Axes>"
      ]
     },
     "metadata": {},
     "output_type": "display_data"
    },
    {
     "data": {
      "text/plain": [
       "<Figure size 600x800 with 0 Axes>"
      ]
     },
     "metadata": {},
     "output_type": "display_data"
    },
    {
     "data": {
      "text/plain": [
       "<Figure size 600x800 with 0 Axes>"
      ]
     },
     "metadata": {},
     "output_type": "display_data"
    },
    {
     "data": {
      "text/plain": [
       "<Figure size 600x800 with 0 Axes>"
      ]
     },
     "metadata": {},
     "output_type": "display_data"
    },
    {
     "data": {
      "text/plain": [
       "<Figure size 600x800 with 0 Axes>"
      ]
     },
     "metadata": {},
     "output_type": "display_data"
    },
    {
     "data": {
      "text/plain": [
       "<Figure size 600x800 with 0 Axes>"
      ]
     },
     "metadata": {},
     "output_type": "display_data"
    },
    {
     "data": {
      "text/plain": [
       "<Figure size 600x800 with 0 Axes>"
      ]
     },
     "metadata": {},
     "output_type": "display_data"
    },
    {
     "data": {
      "text/plain": [
       "<Figure size 600x800 with 0 Axes>"
      ]
     },
     "metadata": {},
     "output_type": "display_data"
    },
    {
     "data": {
      "text/plain": [
       "<Figure size 600x800 with 0 Axes>"
      ]
     },
     "metadata": {},
     "output_type": "display_data"
    },
    {
     "data": {
      "text/plain": [
       "<Figure size 600x800 with 0 Axes>"
      ]
     },
     "metadata": {},
     "output_type": "display_data"
    },
    {
     "data": {
      "text/plain": [
       "<Figure size 600x800 with 0 Axes>"
      ]
     },
     "metadata": {},
     "output_type": "display_data"
    },
    {
     "data": {
      "text/plain": [
       "<Figure size 600x800 with 0 Axes>"
      ]
     },
     "metadata": {},
     "output_type": "display_data"
    },
    {
     "data": {
      "text/plain": [
       "<Figure size 600x800 with 0 Axes>"
      ]
     },
     "metadata": {},
     "output_type": "display_data"
    },
    {
     "data": {
      "text/plain": [
       "<Figure size 600x800 with 0 Axes>"
      ]
     },
     "metadata": {},
     "output_type": "display_data"
    },
    {
     "data": {
      "text/plain": [
       "<Figure size 600x800 with 0 Axes>"
      ]
     },
     "metadata": {},
     "output_type": "display_data"
    },
    {
     "data": {
      "text/plain": [
       "<Figure size 600x800 with 0 Axes>"
      ]
     },
     "metadata": {},
     "output_type": "display_data"
    },
    {
     "data": {
      "text/plain": [
       "<Figure size 600x800 with 0 Axes>"
      ]
     },
     "metadata": {},
     "output_type": "display_data"
    },
    {
     "data": {
      "text/plain": [
       "<Figure size 600x800 with 0 Axes>"
      ]
     },
     "metadata": {},
     "output_type": "display_data"
    },
    {
     "data": {
      "text/plain": [
       "<Figure size 600x800 with 0 Axes>"
      ]
     },
     "metadata": {},
     "output_type": "display_data"
    },
    {
     "data": {
      "text/plain": [
       "<Figure size 600x800 with 0 Axes>"
      ]
     },
     "metadata": {},
     "output_type": "display_data"
    },
    {
     "data": {
      "text/plain": [
       "<Figure size 600x800 with 0 Axes>"
      ]
     },
     "metadata": {},
     "output_type": "display_data"
    },
    {
     "data": {
      "text/plain": [
       "<Figure size 600x800 with 0 Axes>"
      ]
     },
     "metadata": {},
     "output_type": "display_data"
    },
    {
     "data": {
      "text/plain": [
       "<Figure size 600x800 with 0 Axes>"
      ]
     },
     "metadata": {},
     "output_type": "display_data"
    },
    {
     "data": {
      "text/plain": [
       "<Figure size 600x800 with 0 Axes>"
      ]
     },
     "metadata": {},
     "output_type": "display_data"
    },
    {
     "data": {
      "text/plain": [
       "<Figure size 600x800 with 0 Axes>"
      ]
     },
     "metadata": {},
     "output_type": "display_data"
    },
    {
     "data": {
      "text/plain": [
       "<Figure size 600x800 with 0 Axes>"
      ]
     },
     "metadata": {},
     "output_type": "display_data"
    },
    {
     "data": {
      "text/plain": [
       "<Figure size 600x800 with 0 Axes>"
      ]
     },
     "metadata": {},
     "output_type": "display_data"
    },
    {
     "data": {
      "text/plain": [
       "<Figure size 600x800 with 0 Axes>"
      ]
     },
     "metadata": {},
     "output_type": "display_data"
    },
    {
     "data": {
      "text/plain": [
       "<Figure size 600x800 with 0 Axes>"
      ]
     },
     "metadata": {},
     "output_type": "display_data"
    },
    {
     "data": {
      "text/plain": [
       "<Figure size 600x800 with 0 Axes>"
      ]
     },
     "metadata": {},
     "output_type": "display_data"
    },
    {
     "data": {
      "text/plain": [
       "<Figure size 600x800 with 0 Axes>"
      ]
     },
     "metadata": {},
     "output_type": "display_data"
    },
    {
     "data": {
      "text/plain": [
       "<Figure size 600x800 with 0 Axes>"
      ]
     },
     "metadata": {},
     "output_type": "display_data"
    },
    {
     "data": {
      "text/plain": [
       "<Figure size 600x800 with 0 Axes>"
      ]
     },
     "metadata": {},
     "output_type": "display_data"
    },
    {
     "data": {
      "text/plain": [
       "<Figure size 600x800 with 0 Axes>"
      ]
     },
     "metadata": {},
     "output_type": "display_data"
    },
    {
     "data": {
      "text/plain": [
       "<Figure size 600x800 with 0 Axes>"
      ]
     },
     "metadata": {},
     "output_type": "display_data"
    },
    {
     "data": {
      "text/plain": [
       "<Figure size 600x800 with 0 Axes>"
      ]
     },
     "metadata": {},
     "output_type": "display_data"
    },
    {
     "data": {
      "text/plain": [
       "<Figure size 600x800 with 0 Axes>"
      ]
     },
     "metadata": {},
     "output_type": "display_data"
    },
    {
     "data": {
      "text/plain": [
       "<Figure size 600x800 with 0 Axes>"
      ]
     },
     "metadata": {},
     "output_type": "display_data"
    },
    {
     "data": {
      "text/plain": [
       "<Figure size 600x800 with 0 Axes>"
      ]
     },
     "metadata": {},
     "output_type": "display_data"
    },
    {
     "data": {
      "text/plain": [
       "<Figure size 600x800 with 0 Axes>"
      ]
     },
     "metadata": {},
     "output_type": "display_data"
    },
    {
     "data": {
      "text/plain": [
       "<Figure size 600x800 with 0 Axes>"
      ]
     },
     "metadata": {},
     "output_type": "display_data"
    },
    {
     "data": {
      "text/plain": [
       "<Figure size 600x800 with 0 Axes>"
      ]
     },
     "metadata": {},
     "output_type": "display_data"
    },
    {
     "data": {
      "text/plain": [
       "<Figure size 600x800 with 0 Axes>"
      ]
     },
     "metadata": {},
     "output_type": "display_data"
    },
    {
     "data": {
      "text/plain": [
       "<Figure size 600x800 with 0 Axes>"
      ]
     },
     "metadata": {},
     "output_type": "display_data"
    },
    {
     "data": {
      "text/plain": [
       "<Figure size 600x800 with 0 Axes>"
      ]
     },
     "metadata": {},
     "output_type": "display_data"
    },
    {
     "data": {
      "text/plain": [
       "<Figure size 600x800 with 0 Axes>"
      ]
     },
     "metadata": {},
     "output_type": "display_data"
    },
    {
     "data": {
      "text/plain": [
       "<Figure size 600x800 with 0 Axes>"
      ]
     },
     "metadata": {},
     "output_type": "display_data"
    },
    {
     "data": {
      "text/plain": [
       "<Figure size 600x800 with 0 Axes>"
      ]
     },
     "metadata": {},
     "output_type": "display_data"
    },
    {
     "data": {
      "text/plain": [
       "<Figure size 600x800 with 0 Axes>"
      ]
     },
     "metadata": {},
     "output_type": "display_data"
    },
    {
     "data": {
      "text/plain": [
       "<Figure size 600x800 with 0 Axes>"
      ]
     },
     "metadata": {},
     "output_type": "display_data"
    },
    {
     "data": {
      "text/plain": [
       "<Figure size 600x800 with 0 Axes>"
      ]
     },
     "metadata": {},
     "output_type": "display_data"
    },
    {
     "data": {
      "text/plain": [
       "<Figure size 600x800 with 0 Axes>"
      ]
     },
     "metadata": {},
     "output_type": "display_data"
    },
    {
     "data": {
      "text/plain": [
       "<Figure size 600x800 with 0 Axes>"
      ]
     },
     "metadata": {},
     "output_type": "display_data"
    },
    {
     "data": {
      "text/plain": [
       "<Figure size 600x800 with 0 Axes>"
      ]
     },
     "metadata": {},
     "output_type": "display_data"
    },
    {
     "data": {
      "text/plain": [
       "<Figure size 600x800 with 0 Axes>"
      ]
     },
     "metadata": {},
     "output_type": "display_data"
    },
    {
     "data": {
      "text/plain": [
       "<Figure size 600x800 with 0 Axes>"
      ]
     },
     "metadata": {},
     "output_type": "display_data"
    },
    {
     "data": {
      "text/plain": [
       "<Figure size 600x800 with 0 Axes>"
      ]
     },
     "metadata": {},
     "output_type": "display_data"
    },
    {
     "data": {
      "text/plain": [
       "<Figure size 600x800 with 0 Axes>"
      ]
     },
     "metadata": {},
     "output_type": "display_data"
    },
    {
     "data": {
      "text/plain": [
       "<Figure size 600x800 with 0 Axes>"
      ]
     },
     "metadata": {},
     "output_type": "display_data"
    },
    {
     "data": {
      "text/plain": [
       "<Figure size 600x800 with 0 Axes>"
      ]
     },
     "metadata": {},
     "output_type": "display_data"
    },
    {
     "data": {
      "text/plain": [
       "<Figure size 600x800 with 0 Axes>"
      ]
     },
     "metadata": {},
     "output_type": "display_data"
    },
    {
     "data": {
      "text/plain": [
       "<Figure size 600x800 with 0 Axes>"
      ]
     },
     "metadata": {},
     "output_type": "display_data"
    },
    {
     "data": {
      "text/plain": [
       "<Figure size 600x800 with 0 Axes>"
      ]
     },
     "metadata": {},
     "output_type": "display_data"
    },
    {
     "data": {
      "text/plain": [
       "<Figure size 600x800 with 0 Axes>"
      ]
     },
     "metadata": {},
     "output_type": "display_data"
    },
    {
     "data": {
      "text/plain": [
       "<Figure size 600x800 with 0 Axes>"
      ]
     },
     "metadata": {},
     "output_type": "display_data"
    },
    {
     "data": {
      "text/plain": [
       "<Figure size 600x800 with 0 Axes>"
      ]
     },
     "metadata": {},
     "output_type": "display_data"
    },
    {
     "data": {
      "text/plain": [
       "<Figure size 600x800 with 0 Axes>"
      ]
     },
     "metadata": {},
     "output_type": "display_data"
    },
    {
     "data": {
      "text/plain": [
       "<Figure size 600x800 with 0 Axes>"
      ]
     },
     "metadata": {},
     "output_type": "display_data"
    },
    {
     "data": {
      "text/plain": [
       "<Figure size 600x800 with 0 Axes>"
      ]
     },
     "metadata": {},
     "output_type": "display_data"
    },
    {
     "data": {
      "text/plain": [
       "<Figure size 600x800 with 0 Axes>"
      ]
     },
     "metadata": {},
     "output_type": "display_data"
    },
    {
     "data": {
      "text/plain": [
       "<Figure size 600x800 with 0 Axes>"
      ]
     },
     "metadata": {},
     "output_type": "display_data"
    },
    {
     "data": {
      "text/plain": [
       "<Figure size 600x800 with 0 Axes>"
      ]
     },
     "metadata": {},
     "output_type": "display_data"
    },
    {
     "data": {
      "text/plain": [
       "<Figure size 600x800 with 0 Axes>"
      ]
     },
     "metadata": {},
     "output_type": "display_data"
    },
    {
     "data": {
      "text/plain": [
       "<Figure size 600x800 with 0 Axes>"
      ]
     },
     "metadata": {},
     "output_type": "display_data"
    },
    {
     "data": {
      "text/plain": [
       "<Figure size 600x800 with 0 Axes>"
      ]
     },
     "metadata": {},
     "output_type": "display_data"
    },
    {
     "data": {
      "text/plain": [
       "<Figure size 600x800 with 0 Axes>"
      ]
     },
     "metadata": {},
     "output_type": "display_data"
    },
    {
     "data": {
      "text/plain": [
       "<Figure size 600x800 with 0 Axes>"
      ]
     },
     "metadata": {},
     "output_type": "display_data"
    },
    {
     "data": {
      "text/plain": [
       "<Figure size 600x800 with 0 Axes>"
      ]
     },
     "metadata": {},
     "output_type": "display_data"
    },
    {
     "data": {
      "text/plain": [
       "<Figure size 600x800 with 0 Axes>"
      ]
     },
     "metadata": {},
     "output_type": "display_data"
    },
    {
     "data": {
      "text/plain": [
       "<Figure size 600x800 with 0 Axes>"
      ]
     },
     "metadata": {},
     "output_type": "display_data"
    },
    {
     "data": {
      "text/plain": [
       "<Figure size 600x800 with 0 Axes>"
      ]
     },
     "metadata": {},
     "output_type": "display_data"
    },
    {
     "data": {
      "text/plain": [
       "<Figure size 600x800 with 0 Axes>"
      ]
     },
     "metadata": {},
     "output_type": "display_data"
    },
    {
     "data": {
      "text/plain": [
       "<Figure size 600x800 with 0 Axes>"
      ]
     },
     "metadata": {},
     "output_type": "display_data"
    },
    {
     "data": {
      "text/plain": [
       "<Figure size 600x800 with 0 Axes>"
      ]
     },
     "metadata": {},
     "output_type": "display_data"
    },
    {
     "data": {
      "text/plain": [
       "<Figure size 600x800 with 0 Axes>"
      ]
     },
     "metadata": {},
     "output_type": "display_data"
    },
    {
     "data": {
      "text/plain": [
       "<Figure size 600x800 with 0 Axes>"
      ]
     },
     "metadata": {},
     "output_type": "display_data"
    },
    {
     "data": {
      "text/plain": [
       "<Figure size 600x800 with 0 Axes>"
      ]
     },
     "metadata": {},
     "output_type": "display_data"
    },
    {
     "data": {
      "text/plain": [
       "<Figure size 600x800 with 0 Axes>"
      ]
     },
     "metadata": {},
     "output_type": "display_data"
    },
    {
     "data": {
      "text/plain": [
       "<Figure size 600x800 with 0 Axes>"
      ]
     },
     "metadata": {},
     "output_type": "display_data"
    },
    {
     "data": {
      "text/plain": [
       "<Figure size 600x800 with 0 Axes>"
      ]
     },
     "metadata": {},
     "output_type": "display_data"
    },
    {
     "data": {
      "text/plain": [
       "<Figure size 600x800 with 0 Axes>"
      ]
     },
     "metadata": {},
     "output_type": "display_data"
    },
    {
     "data": {
      "text/plain": [
       "<Figure size 600x800 with 0 Axes>"
      ]
     },
     "metadata": {},
     "output_type": "display_data"
    },
    {
     "data": {
      "text/plain": [
       "<Figure size 600x800 with 0 Axes>"
      ]
     },
     "metadata": {},
     "output_type": "display_data"
    },
    {
     "data": {
      "text/plain": [
       "<Figure size 600x800 with 0 Axes>"
      ]
     },
     "metadata": {},
     "output_type": "display_data"
    },
    {
     "data": {
      "text/plain": [
       "<Figure size 600x800 with 0 Axes>"
      ]
     },
     "metadata": {},
     "output_type": "display_data"
    },
    {
     "data": {
      "text/plain": [
       "<Figure size 600x800 with 0 Axes>"
      ]
     },
     "metadata": {},
     "output_type": "display_data"
    },
    {
     "data": {
      "text/plain": [
       "<Figure size 600x800 with 0 Axes>"
      ]
     },
     "metadata": {},
     "output_type": "display_data"
    },
    {
     "data": {
      "text/plain": [
       "<Figure size 600x800 with 0 Axes>"
      ]
     },
     "metadata": {},
     "output_type": "display_data"
    },
    {
     "data": {
      "text/plain": [
       "<Figure size 600x800 with 0 Axes>"
      ]
     },
     "metadata": {},
     "output_type": "display_data"
    },
    {
     "data": {
      "text/plain": [
       "<Figure size 600x800 with 0 Axes>"
      ]
     },
     "metadata": {},
     "output_type": "display_data"
    },
    {
     "data": {
      "text/plain": [
       "<Figure size 600x800 with 0 Axes>"
      ]
     },
     "metadata": {},
     "output_type": "display_data"
    },
    {
     "data": {
      "text/plain": [
       "<Figure size 600x800 with 0 Axes>"
      ]
     },
     "metadata": {},
     "output_type": "display_data"
    },
    {
     "data": {
      "text/plain": [
       "<Figure size 600x800 with 0 Axes>"
      ]
     },
     "metadata": {},
     "output_type": "display_data"
    },
    {
     "data": {
      "text/plain": [
       "<Figure size 600x800 with 0 Axes>"
      ]
     },
     "metadata": {},
     "output_type": "display_data"
    },
    {
     "data": {
      "text/plain": [
       "<Figure size 600x800 with 0 Axes>"
      ]
     },
     "metadata": {},
     "output_type": "display_data"
    },
    {
     "data": {
      "text/plain": [
       "<Figure size 600x800 with 0 Axes>"
      ]
     },
     "metadata": {},
     "output_type": "display_data"
    },
    {
     "data": {
      "text/plain": [
       "<Figure size 600x800 with 0 Axes>"
      ]
     },
     "metadata": {},
     "output_type": "display_data"
    },
    {
     "data": {
      "text/plain": [
       "<Figure size 600x800 with 0 Axes>"
      ]
     },
     "metadata": {},
     "output_type": "display_data"
    },
    {
     "data": {
      "text/plain": [
       "<Figure size 600x800 with 0 Axes>"
      ]
     },
     "metadata": {},
     "output_type": "display_data"
    },
    {
     "data": {
      "text/plain": [
       "<Figure size 600x800 with 0 Axes>"
      ]
     },
     "metadata": {},
     "output_type": "display_data"
    },
    {
     "data": {
      "text/plain": [
       "<Figure size 600x800 with 0 Axes>"
      ]
     },
     "metadata": {},
     "output_type": "display_data"
    },
    {
     "data": {
      "text/plain": [
       "<Figure size 600x800 with 0 Axes>"
      ]
     },
     "metadata": {},
     "output_type": "display_data"
    },
    {
     "data": {
      "text/plain": [
       "<Figure size 600x800 with 0 Axes>"
      ]
     },
     "metadata": {},
     "output_type": "display_data"
    },
    {
     "data": {
      "text/plain": [
       "<Figure size 600x800 with 0 Axes>"
      ]
     },
     "metadata": {},
     "output_type": "display_data"
    },
    {
     "data": {
      "text/plain": [
       "<Figure size 600x800 with 0 Axes>"
      ]
     },
     "metadata": {},
     "output_type": "display_data"
    },
    {
     "data": {
      "text/plain": [
       "<Figure size 600x800 with 0 Axes>"
      ]
     },
     "metadata": {},
     "output_type": "display_data"
    },
    {
     "data": {
      "text/plain": [
       "<Figure size 600x800 with 0 Axes>"
      ]
     },
     "metadata": {},
     "output_type": "display_data"
    },
    {
     "data": {
      "text/plain": [
       "<Figure size 600x800 with 0 Axes>"
      ]
     },
     "metadata": {},
     "output_type": "display_data"
    },
    {
     "data": {
      "text/plain": [
       "<Figure size 600x800 with 0 Axes>"
      ]
     },
     "metadata": {},
     "output_type": "display_data"
    },
    {
     "data": {
      "text/plain": [
       "<Figure size 600x800 with 0 Axes>"
      ]
     },
     "metadata": {},
     "output_type": "display_data"
    },
    {
     "data": {
      "text/plain": [
       "<Figure size 600x800 with 0 Axes>"
      ]
     },
     "metadata": {},
     "output_type": "display_data"
    },
    {
     "data": {
      "text/plain": [
       "<Figure size 600x800 with 0 Axes>"
      ]
     },
     "metadata": {},
     "output_type": "display_data"
    },
    {
     "data": {
      "text/plain": [
       "<Figure size 600x800 with 0 Axes>"
      ]
     },
     "metadata": {},
     "output_type": "display_data"
    },
    {
     "data": {
      "text/plain": [
       "<Figure size 600x800 with 0 Axes>"
      ]
     },
     "metadata": {},
     "output_type": "display_data"
    },
    {
     "data": {
      "text/plain": [
       "<Figure size 600x800 with 0 Axes>"
      ]
     },
     "metadata": {},
     "output_type": "display_data"
    },
    {
     "data": {
      "text/plain": [
       "<Figure size 600x800 with 0 Axes>"
      ]
     },
     "metadata": {},
     "output_type": "display_data"
    },
    {
     "data": {
      "text/plain": [
       "<Figure size 600x800 with 0 Axes>"
      ]
     },
     "metadata": {},
     "output_type": "display_data"
    },
    {
     "data": {
      "text/plain": [
       "<Figure size 600x800 with 0 Axes>"
      ]
     },
     "metadata": {},
     "output_type": "display_data"
    },
    {
     "data": {
      "text/plain": [
       "<Figure size 600x800 with 0 Axes>"
      ]
     },
     "metadata": {},
     "output_type": "display_data"
    },
    {
     "data": {
      "text/plain": [
       "<Figure size 600x800 with 0 Axes>"
      ]
     },
     "metadata": {},
     "output_type": "display_data"
    },
    {
     "data": {
      "text/plain": [
       "<Figure size 600x800 with 0 Axes>"
      ]
     },
     "metadata": {},
     "output_type": "display_data"
    },
    {
     "data": {
      "text/plain": [
       "<Figure size 600x800 with 0 Axes>"
      ]
     },
     "metadata": {},
     "output_type": "display_data"
    }
   ],
   "source": [
    "import matplotlib.pyplot as plt\n",
    "import cartopy.crs as ccrs\n",
    "import cartopy.feature as cfeature\n",
    "import numpy as np\n",
    "from netCDF4 import Dataset\n",
    "import PIL\n",
    "\n",
    "file = 'RF25_ind2022_rfp25.nc'\n",
    "data = Dataset(file, mode='r')\n",
    "\n",
    "lats = data.variables['LATITUDE'][:]\n",
    "longs = data.variables['LONGITUDE'][:]\n",
    "time = data.variables['TIME'][:]\n",
    "tave = data.variables['RAINFALL'][:]\n",
    "\n",
    "# Create a directory to save individual images\n",
    "import os\n",
    "if not os.path.exists('output_images'):\n",
    "    os.makedirs('output_images')\n",
    "\n",
    "days = np.arange(0, 365)\n",
    "\n",
    "for i in days:\n",
    "    plt.figure(figsize=(6, 8))\n",
    "    ax = plt.axes(projection=ccrs.PlateCarree())\n",
    "    ax.set_extent([68.42, 99.98, 7.45, 37.78], crs=ccrs.PlateCarree())\n",
    "    c_scheme = plt.pcolormesh(longs, lats, np.squeeze(tave[i, :, :]), cmap='jet', transform=ccrs.PlateCarree())\n",
    "    ax.coastlines()\n",
    "    ax.add_feature(cfeature.BORDERS, linestyle='--')\n",
    "    ax.set_title('Average Temperature for Day ' + str(i + 1) + ' of year 2022')\n",
    "    cbar = plt.colorbar(c_scheme, orientation='vertical')\n",
    "    cbar.set_label('Temperature')\n",
    "    plt.savefig('output_images/' + str(i) + '.jpg')\n",
    "    plt.clf()\n",
    "\n",
    "image_frames = []\n",
    "for k in days:\n",
    "    new_frame = PIL.Image.open('output_images/' + str(k) + '.jpg')\n",
    "    image_frames.append(new_frame)\n",
    "\n",
    "image_frames[0].save('2022_timelapse.gif', format='GIF', append_images=image_frames[1:], save_all=True, duration=100, loop=0)\n"
   ]
  },
  {
   "cell_type": "code",
   "execution_count": 9,
   "id": "24568ff4",
   "metadata": {},
   "outputs": [
    {
     "name": "stdout",
     "output_type": "stream",
     "text": [
      "Keys in HDF5 file: <KeysViewHDF5 ['GreyCount', 'IMG_MIR', 'IMG_MIR_RADIANCE', 'IMG_MIR_TEMP', 'IMG_SWIR', 'IMG_SWIR_RADIANCE', 'IMG_TIR1', 'IMG_TIR1_RADIANCE', 'IMG_TIR1_TEMP', 'IMG_TIR2', 'IMG_TIR2_RADIANCE', 'IMG_TIR2_TEMP', 'IMG_VIS', 'IMG_VIS_ALBEDO', 'IMG_VIS_RADIANCE', 'IMG_WV', 'IMG_WV_RADIANCE', 'IMG_WV_TEMP', 'Projection_Information', 'Sat_Azimuth', 'Sat_Elevation', 'Sun_Azimuth', 'Sun_Elevation', 'X', 'Y', 'proj_dim', 'time']>\n",
      "Loaded dataset 'IMG_TIR1' from HDF5 file.\n",
      "First few values from HDF5 dataset:\n",
      "[[[ 678  678  679 ...  702  702 1023]\n",
      "  [ 672  674  676 ...  701  701 1023]\n",
      "  [ 668  669  671 ...  700  699 1023]\n",
      "  ...\n",
      "  [ 760  760  762 ...  821  819  820]\n",
      "  [ 760  760  761 ...  821  818  819]\n",
      "  [ 760  760  759 ...  820  816  815]]]\n",
      "Variables in NetCDF file: dict_keys(['LONGITUDE', 'LATITUDE', 'TIME', 'RAINFALL'])\n",
      "Data for variable 'LONGITUDE':\n",
      "[66.5  66.75 67.   67.25 67.5 ]\n",
      "\n",
      "Data for variable 'LATITUDE':\n",
      "[6.5  6.75 7.   7.25 7.5 ]\n",
      "\n",
      "Data for variable 'TIME':\n",
      "[44196. 44197. 44198. 44199. 44200.]\n",
      "\n",
      "Data for variable 'RAINFALL':\n",
      "[[[-- -- -- ... -- -- --]\n",
      "  [-- -- -- ... -- -- --]\n",
      "  [-- -- -- ... -- -- --]\n",
      "  ...\n",
      "  [-- -- -- ... -- -- --]\n",
      "  [-- -- -- ... -- -- --]\n",
      "  [-- -- -- ... -- -- --]]\n",
      "\n",
      " [[-- -- -- ... -- -- --]\n",
      "  [-- -- -- ... -- -- --]\n",
      "  [-- -- -- ... -- -- --]\n",
      "  ...\n",
      "  [-- -- -- ... -- -- --]\n",
      "  [-- -- -- ... -- -- --]\n",
      "  [-- -- -- ... -- -- --]]\n",
      "\n",
      " [[-- -- -- ... -- -- --]\n",
      "  [-- -- -- ... -- -- --]\n",
      "  [-- -- -- ... -- -- --]\n",
      "  ...\n",
      "  [-- -- -- ... -- -- --]\n",
      "  [-- -- -- ... -- -- --]\n",
      "  [-- -- -- ... -- -- --]]\n",
      "\n",
      " [[-- -- -- ... -- -- --]\n",
      "  [-- -- -- ... -- -- --]\n",
      "  [-- -- -- ... -- -- --]\n",
      "  ...\n",
      "  [-- -- -- ... -- -- --]\n",
      "  [-- -- -- ... -- -- --]\n",
      "  [-- -- -- ... -- -- --]]\n",
      "\n",
      " [[-- -- -- ... -- -- --]\n",
      "  [-- -- -- ... -- -- --]\n",
      "  [-- -- -- ... -- -- --]\n",
      "  ...\n",
      "  [-- -- -- ... -- -- --]\n",
      "  [-- -- -- ... -- -- --]\n",
      "  [-- -- -- ... -- -- --]]]\n",
      "\n"
     ]
    }
   ],
   "source": [
    "with h5py.File('3DIMG_04OCT2021_0000_L1C_SGP_V01R00.h5', 'r') as hdf:\n",
    "    print(\"Keys in HDF5 file: %s\" % hdf.keys())\n",
    "    hdf_dataset_name = 'IMG_TIR1'  \n",
    "    if hdf_dataset_name in hdf:\n",
    "        hdf_data = hdf[hdf_dataset_name][:]\n",
    "        print(f\"Loaded dataset '{hdf_dataset_name}' from HDF5 file.\")\n",
    "        print(\"First few values from HDF5 dataset:\")\n",
    "        print(hdf_data[:5])  \n",
    "    else:\n",
    "        print(f\"Dataset '{hdf_dataset_name}' not found in HDF5 file.\")\n",
    "\n",
    "with nc.Dataset('RF25_ind2022_rfp25.nc') as data:\n",
    "    print(\"Variables in NetCDF file: %s\" % data.variables.keys())\n",
    "    for var_name in data.variables:\n",
    "        print(f\"Data for variable '{var_name}':\")\n",
    "        var_data = data.variables[var_name][:]\n",
    "        print(var_data[:5])  \n",
    "        print()  \n"
   ]
  },
  {
   "cell_type": "code",
   "execution_count": 22,
   "id": "e856f5ef",
   "metadata": {},
   "outputs": [
    {
     "data": {
      "application/vnd.jupyter.widget-view+json": {
       "model_id": "a11c996f2fbc4b9ab6b3c149df95c83a",
       "version_major": 2,
       "version_minor": 0
      },
      "text/plain": [
       "IntSlider(value=1, description='Select Day:', max=365, min=1)"
      ]
     },
     "metadata": {},
     "output_type": "display_data"
    },
    {
     "data": {
      "application/vnd.jupyter.widget-view+json": {
       "model_id": "6562d893819c4719a05d90f89b695543",
       "version_major": 2,
       "version_minor": 0
      },
      "text/plain": [
       "IntRangeSlider(value=(0, 128), description='Select Location (Lat):', max=128)"
      ]
     },
     "metadata": {},
     "output_type": "display_data"
    },
    {
     "data": {
      "application/vnd.jupyter.widget-view+json": {
       "model_id": "cdc9f9c02d294007a49d4cb071e37e0a",
       "version_major": 2,
       "version_minor": 0
      },
      "text/plain": [
       "Output()"
      ]
     },
     "metadata": {},
     "output_type": "display_data"
    }
   ],
   "source": [
    "import matplotlib.pyplot as plt\n",
    "import cartopy.crs as ccrs\n",
    "import cartopy.feature as cfeature\n",
    "import numpy as np\n",
    "from netCDF4 import Dataset\n",
    "from PIL import Image\n",
    "import ipywidgets as widgets\n",
    "from IPython.display import display, clear_output\n",
    "\n",
    "# Load the netCDF file\n",
    "file = 'RF25_ind2022_rfp25.nc'\n",
    "data = Dataset(file, mode='r')\n",
    "\n",
    "# Extract latitude, longitude, time, and rainfall data\n",
    "lats = data.variables['LATITUDE'][:]\n",
    "longs = data.variables['LONGITUDE'][:]\n",
    "time = data.variables['TIME'][:]\n",
    "tave = data.variables['RAINFALL'][:]\n",
    "\n",
    "# Create a directory to save individual images\n",
    "import os\n",
    "if not os.path.exists('output_images'):\n",
    "    os.makedirs('output_images')\n",
    "\n",
    "# Generate images for each day\n",
    "days = np.arange(0, 365)\n",
    "for i in days:\n",
    "    plt.figure(figsize=(6, 8))\n",
    "    ax = plt.axes(projection=ccrs.PlateCarree())\n",
    "    ax.set_extent([68.42, 99.98, 7.45, 37.78], crs=ccrs.PlateCarree())\n",
    "    c_scheme = plt.pcolormesh(longs, lats, np.squeeze(tave[i, :, :]), cmap='jet', transform=ccrs.PlateCarree())\n",
    "    ax.coastlines()\n",
    "    ax.add_feature(cfeature.BORDERS, linestyle='--')\n",
    "    ax.set_title('Average Temperature for Day ' + str(i + 1) + ' of year 2022')\n",
    "    cbar = plt.colorbar(c_scheme, orientation='vertical')\n",
    "    cbar.set_label('Temperature')\n",
    "    plt.savefig('output_images/' + str(i) + '.jpg')\n",
    "    plt.close()\n",
    "\n",
    "# Load the saved images for creating an animated GIF\n",
    "image_frames = []\n",
    "for k in days:\n",
    "    new_frame = Image.open('output_images/' + str(k) + '.jpg')\n",
    "    image_frames.append(new_frame)\n",
    "\n",
    "# Create an interactive dashboard\n",
    "day_selector = widgets.IntSlider(min=1, max=365, step=1, description='Select Day:')\n",
    "location_selector = widgets.IntRangeSlider(min=0, max=len(lats) - 1, step=1, value=[0, len(lats) - 1], description='Select Location (Lat):')\n",
    "\n",
    "output_image = widgets.Output()\n",
    "display(day_selector, location_selector, output_image)\n",
    "\n",
    "def update_image(change):\n",
    "    day = day_selector.value - 1\n",
    "    location_range = location_selector.value\n",
    "    location_slice = slice(location_range[0], location_range[1] + 1)\n",
    "\n",
    "    with output_image:\n",
    "        clear_output(wait=True)\n",
    "        display(image_frames[day])\n",
    "        lat_range = lats[location_slice]\n",
    "        lon_range = longs\n",
    "        rainfall_values = tave[day, location_slice, :]\n",
    "\n",
    "        avg_rainfall = np.mean(rainfall_values)\n",
    "        print(f\"On Day {day + 1} at Latitude Range {lat_range} and Longitude Range {lon_range}:\")\n",
    "        print(f\"Average Rainfall: {avg_rainfall:.2f} mm\")\n",
    "\n",
    "day_selector.observe(update_image, 'value')\n",
    "location_selector.observe(update_image, 'value')\n",
    "\n",
    "# Initialize the dashboard with the first day and location\n",
    "update_image(None)\n"
   ]
  },
  {
   "cell_type": "code",
   "execution_count": 23,
   "id": "9741872a",
   "metadata": {},
   "outputs": [
    {
     "name": "stdout",
     "output_type": "stream",
     "text": [
      "Defaulting to user installation because normal site-packages is not writeableNote: you may need to restart the kernel to use updated packages.\n",
      "\n",
      "Requirement already satisfied: geopy in c:\\users\\rkast\\appdata\\roaming\\python\\python311\\site-packages (2.4.1)\n",
      "Requirement already satisfied: geographiclib<3,>=1.52 in c:\\users\\rkast\\appdata\\roaming\\python\\python311\\site-packages (from geopy) (2.0)\n"
     ]
    },
    {
     "name": "stderr",
     "output_type": "stream",
     "text": [
      "WARNING: Ignoring invalid distribution ~atplotlib (C:\\Users\\rkast\\AppData\\Roaming\\Python\\Python311\\site-packages)\n",
      "WARNING: Ignoring invalid distribution ~atplotlib (C:\\Users\\rkast\\AppData\\Roaming\\Python\\Python311\\site-packages)\n",
      "WARNING: Ignoring invalid distribution ~atplotlib (C:\\Users\\rkast\\AppData\\Roaming\\Python\\Python311\\site-packages)\n",
      "WARNING: Ignoring invalid distribution ~atplotlib (C:\\Users\\rkast\\AppData\\Roaming\\Python\\Python311\\site-packages)\n",
      "\n",
      "[notice] A new release of pip is available: 23.3.1 -> 23.3.2\n",
      "[notice] To update, run: python.exe -m pip install --upgrade pip\n"
     ]
    }
   ],
   "source": [
    "%pip install geopy"
   ]
  },
  {
   "cell_type": "code",
   "execution_count": 25,
   "id": "ae00044f",
   "metadata": {},
   "outputs": [
    {
     "name": "stdout",
     "output_type": "stream",
     "text": [
      "Defaulting to user installation because normal site-packages is not writeableNote: you may need to restart the kernel to use updated packages.\n"
     ]
    },
    {
     "name": "stderr",
     "output_type": "stream",
     "text": [
      "WARNING: Ignoring invalid distribution ~atplotlib (C:\\Users\\rkast\\AppData\\Roaming\\Python\\Python311\\site-packages)\n",
      "WARNING: Ignoring invalid distribution ~atplotlib (C:\\Users\\rkast\\AppData\\Roaming\\Python\\Python311\\site-packages)\n",
      "WARNING: Ignoring invalid distribution ~atplotlib (C:\\Users\\rkast\\AppData\\Roaming\\Python\\Python311\\site-packages)\n",
      "WARNING: Ignoring invalid distribution ~atplotlib (C:\\Users\\rkast\\AppData\\Roaming\\Python\\Python311\\site-packages)\n",
      "\n",
      "[notice] A new release of pip is available: 23.3.1 -> 23.3.2\n",
      "[notice] To update, run: python.exe -m pip install --upgrade pip\n"
     ]
    },
    {
     "name": "stdout",
     "output_type": "stream",
     "text": [
      "\n",
      "Requirement already satisfied: ipywidgets in c:\\users\\rkast\\appdata\\roaming\\python\\python311\\site-packages (8.1.1)\n",
      "Requirement already satisfied: comm>=0.1.3 in c:\\users\\rkast\\appdata\\roaming\\python\\python311\\site-packages (from ipywidgets) (0.2.0)\n",
      "Requirement already satisfied: ipython>=6.1.0 in c:\\users\\rkast\\appdata\\roaming\\python\\python311\\site-packages (from ipywidgets) (8.18.1)\n",
      "Requirement already satisfied: traitlets>=4.3.1 in c:\\users\\rkast\\appdata\\roaming\\python\\python311\\site-packages (from ipywidgets) (5.14.0)\n",
      "Requirement already satisfied: widgetsnbextension~=4.0.9 in c:\\users\\rkast\\appdata\\roaming\\python\\python311\\site-packages (from ipywidgets) (4.0.9)\n",
      "Requirement already satisfied: jupyterlab-widgets~=3.0.9 in c:\\users\\rkast\\appdata\\roaming\\python\\python311\\site-packages (from ipywidgets) (3.0.9)\n",
      "Requirement already satisfied: decorator in c:\\users\\rkast\\appdata\\roaming\\python\\python311\\site-packages (from ipython>=6.1.0->ipywidgets) (5.1.1)\n",
      "Requirement already satisfied: jedi>=0.16 in c:\\users\\rkast\\appdata\\roaming\\python\\python311\\site-packages (from ipython>=6.1.0->ipywidgets) (0.19.1)\n",
      "Requirement already satisfied: matplotlib-inline in c:\\users\\rkast\\appdata\\roaming\\python\\python311\\site-packages (from ipython>=6.1.0->ipywidgets) (0.1.6)\n",
      "Requirement already satisfied: prompt-toolkit<3.1.0,>=3.0.41 in c:\\users\\rkast\\appdata\\roaming\\python\\python311\\site-packages (from ipython>=6.1.0->ipywidgets) (3.0.43)\n",
      "Requirement already satisfied: pygments>=2.4.0 in c:\\users\\rkast\\appdata\\roaming\\python\\python311\\site-packages (from ipython>=6.1.0->ipywidgets) (2.17.2)\n",
      "Requirement already satisfied: stack-data in c:\\users\\rkast\\appdata\\roaming\\python\\python311\\site-packages (from ipython>=6.1.0->ipywidgets) (0.6.3)\n",
      "Requirement already satisfied: colorama in c:\\users\\rkast\\appdata\\roaming\\python\\python311\\site-packages (from ipython>=6.1.0->ipywidgets) (0.4.6)\n",
      "Requirement already satisfied: parso<0.9.0,>=0.8.3 in c:\\users\\rkast\\appdata\\roaming\\python\\python311\\site-packages (from jedi>=0.16->ipython>=6.1.0->ipywidgets) (0.8.3)\n",
      "Requirement already satisfied: wcwidth in c:\\users\\rkast\\appdata\\roaming\\python\\python311\\site-packages (from prompt-toolkit<3.1.0,>=3.0.41->ipython>=6.1.0->ipywidgets) (0.2.12)\n",
      "Requirement already satisfied: executing>=1.2.0 in c:\\users\\rkast\\appdata\\roaming\\python\\python311\\site-packages (from stack-data->ipython>=6.1.0->ipywidgets) (2.0.1)\n",
      "Requirement already satisfied: asttokens>=2.1.0 in c:\\users\\rkast\\appdata\\roaming\\python\\python311\\site-packages (from stack-data->ipython>=6.1.0->ipywidgets) (2.4.1)\n",
      "Requirement already satisfied: pure-eval in c:\\users\\rkast\\appdata\\roaming\\python\\python311\\site-packages (from stack-data->ipython>=6.1.0->ipywidgets) (0.2.2)\n",
      "Requirement already satisfied: six>=1.12.0 in c:\\users\\rkast\\appdata\\roaming\\python\\python311\\site-packages (from asttokens>=2.1.0->stack-data->ipython>=6.1.0->ipywidgets) (1.16.0)\n"
     ]
    }
   ],
   "source": [
    "%pip install ipywidgets"
   ]
  },
  {
   "cell_type": "code",
   "execution_count": 28,
   "id": "496fd2eb",
   "metadata": {},
   "outputs": [
    {
     "name": "stderr",
     "output_type": "stream",
     "text": [
      "usage: jupyter [-h] [--version] [--config-dir] [--data-dir] [--runtime-dir]\n",
      "               [--paths] [--json] [--debug]\n",
      "               [subcommand]\n",
      "\n",
      "Jupyter: Interactive Computing\n",
      "\n",
      "positional arguments:\n",
      "  subcommand     the subcommand to launch\n",
      "\n",
      "options:\n",
      "  -h, --help     show this help message and exit\n",
      "  --version      show the versions of core jupyter packages and exit\n",
      "  --config-dir   show Jupyter config dir\n",
      "  --data-dir     show Jupyter data dir\n",
      "  --runtime-dir  show Jupyter runtime dir\n",
      "  --paths        show all Jupyter paths. Add --json for machine-readable\n",
      "                 format.\n",
      "  --json         output paths as machine-readable json\n",
      "  --debug        output debug information about paths\n",
      "\n",
      "Available subcommands: console dejavu events execute kernel kernelspec lab\n",
      "labextension labhub migrate nbconvert notebook qtconsole run server\n",
      "troubleshoot trust\n",
      "\n",
      "Jupyter command `jupyter-nbextension` not found.\n",
      "usage: jupyter [-h] [--version] [--config-dir] [--data-dir] [--runtime-dir]\n",
      "               [--paths] [--json] [--debug]\n",
      "               [subcommand]\n",
      "\n",
      "Jupyter: Interactive Computing\n",
      "\n",
      "positional arguments:\n",
      "  subcommand     the subcommand to launch\n",
      "\n",
      "options:\n",
      "  -h, --help     show this help message and exit\n",
      "  --version      show the versions of core jupyter packages and exit\n",
      "  --config-dir   show Jupyter config dir\n",
      "  --data-dir     show Jupyter data dir\n",
      "  --runtime-dir  show Jupyter runtime dir\n",
      "  --paths        show all Jupyter paths. Add --json for machine-readable\n",
      "                 format.\n",
      "  --json         output paths as machine-readable json\n",
      "  --debug        output debug information about paths\n",
      "\n",
      "Available subcommands: console dejavu events execute kernel kernelspec lab\n",
      "labextension labhub migrate nbconvert notebook qtconsole run server\n",
      "troubleshoot trust\n",
      "\n",
      "Jupyter command `jupyter-nbextension` not found.\n",
      "usage: jupyter [-h] [--version] [--config-dir] [--data-dir] [--runtime-dir]\n",
      "               [--paths] [--json] [--debug]\n",
      "               [subcommand]\n",
      "\n",
      "Jupyter: Interactive Computing\n",
      "\n",
      "positional arguments:\n",
      "  subcommand     the subcommand to launch\n",
      "\n",
      "options:\n",
      "  -h, --help     show this help message and exit\n",
      "  --version      show the versions of core jupyter packages and exit\n",
      "  --config-dir   show Jupyter config dir\n",
      "  --data-dir     show Jupyter data dir\n",
      "  --runtime-dir  show Jupyter runtime dir\n",
      "  --paths        show all Jupyter paths. Add --json for machine-readable\n",
      "                 format.\n",
      "  --json         output paths as machine-readable json\n",
      "  --debug        output debug information about paths\n",
      "\n",
      "Available subcommands: console dejavu events execute kernel kernelspec lab\n",
      "labextension labhub migrate nbconvert notebook qtconsole run server\n",
      "troubleshoot trust\n",
      "\n",
      "Jupyter command `jupyter-nbextension` not found.\n"
     ]
    }
   ],
   "source": [
    "!jupyter nbextension enable --py widgetsnbextension\n",
    "!jupyter nbextension enable --py --sys-prefix widgetsnbextension\n",
    "!jupyter nbextension enable --py jupyter-js-widgets\n"
   ]
  },
  {
   "cell_type": "code",
   "execution_count": 29,
   "id": "e25124dc",
   "metadata": {},
   "outputs": [
    {
     "data": {
      "application/vnd.jupyter.widget-view+json": {
       "model_id": "847c142c304b453baba58e6036f35f58",
       "version_major": 2,
       "version_minor": 0
      },
      "text/plain": [
       "IntSlider(value=1, description='Select Day:', max=365, min=1)"
      ]
     },
     "metadata": {},
     "output_type": "display_data"
    },
    {
     "data": {
      "application/vnd.jupyter.widget-view+json": {
       "model_id": "3801467d0f2e483a8ac958e70dd2828a",
       "version_major": 2,
       "version_minor": 0
      },
      "text/plain": [
       "Dropdown(description='Select City:', options=('Mumbai', 'Delhi', 'Bangalore', 'Chennai', 'Kolkata'), value='Mu…"
      ]
     },
     "metadata": {},
     "output_type": "display_data"
    },
    {
     "data": {
      "application/vnd.jupyter.widget-view+json": {
       "model_id": "0e0498f9599d485186c671f053826bef",
       "version_major": 2,
       "version_minor": 0
      },
      "text/plain": [
       "Output()"
      ]
     },
     "metadata": {},
     "output_type": "display_data"
    }
   ],
   "source": [
    "import matplotlib.pyplot as plt\n",
    "import cartopy.crs as ccrs\n",
    "import cartopy.feature as cfeature\n",
    "import numpy as np\n",
    "from netCDF4 import Dataset\n",
    "from PIL import Image\n",
    "import ipywidgets as widgets\n",
    "from IPython.display import display, clear_output\n",
    "from geopy.geocoders import Nominatim\n",
    "\n",
    "# Load the netCDF file\n",
    "file = 'RF25_ind2022_rfp25.nc'\n",
    "data = Dataset(file, mode='r')\n",
    "\n",
    "# Extract latitude, longitude, time, and rainfall data\n",
    "lats = data.variables['LATITUDE'][:]\n",
    "longs = data.variables['LONGITUDE'][:]\n",
    "time = data.variables['TIME'][:]\n",
    "tave = data.variables['RAINFALL'][:]\n",
    "\n",
    "# Create a directory to save individual images\n",
    "import os\n",
    "if not os.path.exists('output_images'):\n",
    "    os.makedirs('output_images')\n",
    "\n",
    "# Generate images for each day\n",
    "days = np.arange(0, 365)\n",
    "for i in days:\n",
    "    plt.figure(figsize=(6, 8))\n",
    "    ax = plt.axes(projection=ccrs.PlateCarree())\n",
    "    ax.set_extent([68.42, 99.98, 7.45, 37.78], crs=ccrs.PlateCarree())\n",
    "    c_scheme = plt.pcolormesh(longs, lats, np.squeeze(tave[i, :, :]), cmap='jet', transform=ccrs.PlateCarree())\n",
    "    ax.coastlines()\n",
    "    ax.add_feature(cfeature.BORDERS, linestyle='--')\n",
    "    ax.set_title('Average Temperature for Day ' + str(i + 1) + ' of year 2022')\n",
    "    cbar = plt.colorbar(c_scheme, orientation='vertical')\n",
    "    cbar.set_label('Temperature')\n",
    "    plt.savefig('output_images/' + str(i) + '.jpg')\n",
    "    plt.close()\n",
    "\n",
    "# Load the saved images for creating an animated GIF\n",
    "image_frames = []\n",
    "for k in days:\n",
    "    new_frame = Image.open('output_images/' + str(k) + '.jpg')\n",
    "    image_frames.append(new_frame)\n",
    "\n",
    "# Create an interactive dashboard\n",
    "day_selector = widgets.IntSlider(min=1, max=365, step=1, description='Select Day:')\n",
    "\n",
    "# Use geopy to obtain coordinates for Indian cities\n",
    "geolocator = Nominatim(user_agent=\"city_coordinates\")\n",
    "indian_cities = [\"Mumbai\", \"Delhi\", \"Bangalore\", \"Chennai\", \"Kolkata\"]\n",
    "\n",
    "city_coordinates = {}\n",
    "for city in indian_cities:\n",
    "    location = geolocator.geocode(city + \", India\")\n",
    "    if location:\n",
    "        city_coordinates[city] = (location.latitude, location.longitude)\n",
    "\n",
    "location_selector = widgets.Dropdown(options=city_coordinates.keys(), description='Select City:')\n",
    "\n",
    "output_image = widgets.Output()\n",
    "display(day_selector, location_selector, output_image)\n",
    "\n",
    "def update_image(change):\n",
    "    day = day_selector.value - 1\n",
    "    selected_city = location_selector.value\n",
    "\n",
    "    with output_image:\n",
    "        clear_output(wait=True)\n",
    "        display(image_frames[day])\n",
    "        lat, lon = city_coordinates[selected_city]\n",
    "\n",
    "        # Find the indices corresponding to the selected city's location\n",
    "        location_lat_range = np.where((lats >= lat - 0.25) & (lats <= lat + 0.25))[0]\n",
    "        location_lon_range = np.where((longs >= lon - 0.25) & (longs <= lon + 0.25))[0]\n",
    "\n",
    "        # Use the first index in the range (you might want to adjust this based on your data)\n",
    "        location_lat_index = location_lat_range[0]\n",
    "        location_lon_index = location_lon_range[0]\n",
    "\n",
    "        # Extract rainfall values for the selected city\n",
    "        rainfall_values = tave[day, location_lat_index, :][:, location_lon_index]\n",
    "\n",
    "        avg_rainfall = np.mean(rainfall_values)\n",
    "        print(f\"On Day {day + 1} in {selected_city} (Latitude {lat}, Longitude {lon}):\")\n",
    "        print(f\"Average Rainfall: {avg_rainfall:.2f} mm\")\n",
    "\n",
    "day_selector.observe(update_image, 'value')\n",
    "location_selector.observe(update_image, 'value')\n",
    "\n",
    "# Initialize the dashboard with the first day and city\n",
    "update_image(None)\n"
   ]
  },
  {
   "cell_type": "code",
   "execution_count": null,
   "id": "379aa9a5",
   "metadata": {},
   "outputs": [],
   "source": []
  },
  {
   "cell_type": "code",
   "execution_count": null,
   "id": "cbd2be7b",
   "metadata": {},
   "outputs": [],
   "source": []
  }
 ],
 "metadata": {
  "kernelspec": {
   "display_name": "Python 3 (ipykernel)",
   "language": "python",
   "name": "python3"
  },
  "language_info": {
   "codemirror_mode": {
    "name": "ipython",
    "version": 3
   },
   "file_extension": ".py",
   "mimetype": "text/x-python",
   "name": "python",
   "nbconvert_exporter": "python",
   "pygments_lexer": "ipython3",
   "version": "3.11.3"
  }
 },
 "nbformat": 4,
 "nbformat_minor": 5
}
